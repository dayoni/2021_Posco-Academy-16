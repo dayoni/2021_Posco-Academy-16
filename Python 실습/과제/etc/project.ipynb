import sys

# show
def show():
    init_view = '   Student           Name   Midterm   Final   Average   Grade \n' + '-'*64
    print(init_view)
    for i in range(len(stu_id)):
        print(stu_id[i].center(11)+stu_name[i].rjust(14)+stu_mid[i].center(13)+stu_fin[i].center(5)+stu_avg[i].center(11)+stu_gra[i].center(9))
    
# search
def search():
    student_id = input("Student ID : ")
    if student_id in stu_id:
        i = stu_id.index(student_id)
        show()
        print(stu_id[i].center(11)+stu_name[i].rjust(14)+stu_mid[i].center(13)+stu_fin[i].center(5)+stu_avg[i].center(11)+stu_gra[i].center(9))
    else:
        print("NO SUCH PERSON.")
    

# changescore
def changescore():
    student_id = input("Student ID : ")
    if student_id in stu_id:
        i = stu_id.index(student_id)
        stu_id[i] = student_id
        before = stu_id[i].center(11)+stu_name[i].rjust(14)+stu_mid[i].center(13)+stu_fin[i].center(5)+stu_avg[i].center(11)+stu_gra[i].center(9)
        exam = input("Mid/Final? ").lower()
        if exam == "mid":
            new_score = input("Input new score: ")
            if int(new_score) < 0 or int(new_score) > 100:
                return
            else:
                stu_mid[i] = new_score
                stu_avg[i] = (float(stu_mid[i]) + float(stu_fin[i])) / 2.0
                if stu_avg[i] >= 90.0: stu_gra[i] = 'A'
                elif 80.0 <= stu_avg[i] < 90.0: stu_gra[i] = 'B'
                elif 70.0 <= stu_avg[i] < 80.0: stu_gra[i] = 'C'
                elif 60.0 <= stu_avg[i] < 70.0: stu_gra[i] = 'D'
                else: stu_gra[i] = 'F'
                stu_avg[i] = str(stu_avg[i])
                
                show()
                print(before)
                print("Score changed.")
                show()
                print(stu_id[i].center(11)+stu_name[i].rjust(14)+stu_mid[i].center(13)+stu_fin[i].center(5)+stu_avg[i].center(11)+stu_gra[i].center(9))
                return
        elif exam == 'final':
            new_score = input("Input new score: ")
            if int(new_score) < 0 or int(new_score) > 100:
                return
            else:
                stu_fin[i] = new_score
                stu_avg[i] = (float(stu_mid[i]) + float(stu_fin[i])) / 2.0
                if stu_avg[i] >= 90.0: stu_gra[i] = 'A'
                elif 80.0 <= stu_avg[i] < 90.0: stu_gra[i] = 'B'
                elif 70.0 <= stu_avg[i] < 80.0: stu_gra[i] = 'C'
                elif 60.0 <= stu_avg[i] < 70.0: stu_gra[i] = 'D'
                else: stu_gra[i] = 'F'
                stu_avg[i] = str(stu_avg[i])
                
                show()
                print(before)
                print("Score changed.")
                show()
                print(stu_id[i].center(11)+stu_name[i].rjust(14)+stu_mid[i].center(13)+stu_fin[i].center(5)+stu_avg[i].center(11)+stu_gra[i].center(9))
                return
    else:
        print("NO SUCH PERSON.")
        
        
# add
def _add():
    student_id = input("Student ID: ")
    if student_id in stu_id:
        print("ALREDY EXISTS.")
    else:
        new_name = input("Name: ")
        new_mid = input("MIdterm Score: ")
        new_final = input("Final Score: ")
        new_avg = (float((new_mid)) + float((new_final))) / 2.0
        if new_avg >= 90.0: stu_gra.append('A')
        elif 80.0 <= new_avg < 90.0: stu_gra.append('B')
        elif 70.0 <= new_avg < 80.0: stu_gra.append('C')
        elif 60.0 <= new_avg < 70.0: stu_gra.append('D')
        else: stu_gra.append('F')
        
        stu_id.append(student_id)
        stu_name.append(new_name)
        stu_mid.append(new_mid)
        stu_fin.append(new_final)
        stu_avg.append(str(new_avg))        
        print("Student added.")

# remove
def _remove():
    student_id = input("Student ID: ")
    if student_id in stu_id:
        i = stu_id.index(student_id)
        del stu_id[i]
        del stu_name[i]
        del stu_mid[i]
        del stu_fin[i]
        del stu_avg[i]
        del stu_gra[i]
        print("Student removed.")
    else:
        print("List is empty.")

# searchgrade
def searchgrade():
    index = []
    student_grade = input("Grade to search: ")
    for i in range(len(stu_gra)):
        if stu_gra[i] == student_grade:
            index.append(i)
    if index == []:
        print("NO RESULTS.")
        return
    show()
    for i in index:
        print(stu_id[i].center(11)+stu_name[i].rjust(14)+stu_mid[i].center(13)+stu_fin[i].center(5)+stu_avg[i].center(11)+stu_gra[i].center(9))

# quit
def quit():
    t = input("Save data?[yes/no] ").lower()
    stu_score = ''
    if t == 'yes':
        end_file = input("File name: ")
        end_file += '.txt'
        result = open(end_file, 'w')
        init_view = '   Student           Name   Midterm   Final   Average   Grade \n' + '-'*64+'\n'
        for i in range(len(stu_id)):
            stu_score += stu_id[i].center(11)+stu_name[i].rjust(14)+stu_mid[i].center(13)+stu_fin[i].center(5)+stu_avg[i].center(11)+stu_gra[i].center(9)+'\n'                
        text = init_view + stu_score
        result.write(text)
        result.close()
        return
    else: return        
        
        
# main
def main():
    global stu_id, stu_name, stu_mid, stu_fin, stu_avg, stu_gra
    if len(sys.argv) == 1:
        filename = 'students.txt'
    else:
        filename = sys.argv[1]
        
    text_in = open('students.txt', 'r')
    _stu = list()

    for i in text_in:
        stu=i[:-1].split('\t')
        _stu.append(stu)
    text_in.close()
    
    for i in range(len(_stu)):
        _sum, avg = 0.0, 0.0
        for j in range(len(_stu)-1):
            if (j == 2) | (j == 3):
                _sum += float(_stu[i][j])
                if j == 3:
                    avg = _sum / 2.0
                    if avg >= 90.0: grade = 'A'
                    elif 80.0 <= avg < 90.0: grade = 'B'
                    elif 70.0 <= avg < 80.0: grade = 'C'
                    elif 60.0 <= avg < 70.0: grade = 'D'
                    else: grade = 'F'
        _stu[i].insert(len(_stu), str(avg))
        _stu[i].insert(len(_stu), grade)
    _stu.sort(key=lambda x:x[4], reverse=True)

    stu_id, stu_name, stu_mid, stu_fin, stu_avg, stu_gra = [],[],[],[],[],[]

    for i in _stu:
        stu_id.append(i[0])
        stu_name.append(i[1])
        stu_mid.append(i[2])
        stu_fin.append(i[3])
        stu_avg.append(i[4])
        stu_gra.append(i[5])

    show()

    while True:
        command = input("# ").lower()
        if command == 'show':                
            print()
            show()
#             for i in range(len(stu_id)):
#                 print(stu_id[i].center(11)+stu_name[i].rjust(14)+stu_mid[i].center(13)+stu_fin[i].center(5)+stu_avg[i].center(11)+stu_gra[i].center(9))        

        elif command == 'search':
            search()

        elif command == 'changescore':
            changescore()

        elif command == 'add':
            _add()

        elif command == 'remove':
            _remove()

        elif command == 'searchgrade':
            searchgrade()

        elif command == 'quit':
            quit()
            break

        else:
            continue
            
main()
