{
 "cells": [
  {
   "cell_type": "markdown",
   "id": "fixed-university",
   "metadata": {},
   "source": [
    "## 문제 1  \n",
    "- #### for 문을 사용하여 딕셔너리 타입의 d의 모든 value를 출력해 보시오."
   ]
  },
  {
   "cell_type": "code",
   "execution_count": 1,
   "id": "parliamentary-smell",
   "metadata": {},
   "outputs": [
    {
     "name": "stdout",
     "output_type": "stream",
     "text": [
      "1 2 10 "
     ]
    }
   ],
   "source": [
    "d = {'youn': 1, 'park': 2, 'kim': 10}\n",
    "\n",
    "for value in d.values():\n",
    "    print(value, end=\" \")"
   ]
  },
  {
   "attachments": {
    "image.png": {
     "image/png": "[encoded data removed]"
    }
   },
   "cell_type": "markdown",
   "id": "secret-wilderness",
   "metadata": {},
   "source": [
    "## 문제 2  \n",
    "- #### 아래와 같은 딕셔너리가 있다.\n",
    "    + ##### {'one':1, 'two':2, 'three':3, 'four':4, 'five':5}\n",
    "- #### key의 알파벳을 기준으로 순서대로 아래와 같이 (key, value)로 출력하시오.\n",
    "![image.png](attachment:image.png)"
   ]
  },
  {
   "cell_type": "code",
   "execution_count": 2,
   "id": "adult-security",
   "metadata": {},
   "outputs": [
    {
     "name": "stdout",
     "output_type": "stream",
     "text": [
      "five 5\n",
      "four 4\n",
      "one 1\n",
      "three 3\n",
      "two 2\n"
     ]
    }
   ],
   "source": [
    "d = {'one':1, 'two':2, 'three':3, 'four':4, 'five':5}\n",
    "d_items = list(sorted(d.items()))\n",
    "\n",
    "for key, value in d_items:\n",
    "    print(key, value)"
   ]
  },
  {
   "attachments": {
    "image.png": {
     "image/png": "[encoded data removed]"
    }
   },
   "cell_type": "markdown",
   "id": "honest-picture",
   "metadata": {},
   "source": [
    "## 문제 3  \n",
    "- #### 어떤 문장을 입력 받으면 해당 문장에서 각 알파벳이 몇 개씩 나오는지 저장하는 딕셔너리를 만든 후, 아래와 같이 출력하시오\n",
    "![image.png](attachment:image.png)  \n",
    "\n",
    "- ### 제시해주신 출력예시가 어떤 규칙을 가지고 있는 것인지 모르겠습니다..!"
   ]
  },
  {
   "cell_type": "code",
   "execution_count": 3,
   "id": "alpha-turning",
   "metadata": {},
   "outputs": [
    {
     "name": "stdout",
     "output_type": "stream",
     "text": [
      "Enter a sentence: Python is fun!\n",
      "{'P': 1, 'y': 1, 't': 1, 'h': 1, 'o': 1, 'n': 2, ' ': 2, 'i': 1, 's': 1, 'f': 1, 'u': 1, '!': 1}\n"
     ]
    }
   ],
   "source": [
    "text = list(input(\"Enter a sentence: \"))\n",
    "text_dict = dict()\n",
    "\n",
    "for key in text:\n",
    "    if key in text_dict.keys() :\n",
    "        text_dict[key] = text_dict[key] + 1\n",
    "    else:\n",
    "        text_dict[key] = 1\n",
    "\n",
    "print(text_dict)"
   ]
  }
 ],
 "metadata": {
  "kernelspec": {
   "display_name": "Python 3",
   "language": "python",
   "name": "python3"
  },
  "language_info": {
   "codemirror_mode": {
    "name": "ipython",
    "version": 3
   },
   "file_extension": ".py",
   "mimetype": "text/x-python",
   "name": "python",
   "nbconvert_exporter": "python",
   "pygments_lexer": "ipython3",
   "version": "3.6.10"
  }
 },
 "nbformat": 4,
 "nbformat_minor": 5
}
