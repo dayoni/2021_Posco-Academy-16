{
 "cells": [
  {
   "cell_type": "markdown",
   "id": "clinical-direction",
   "metadata": {},
   "source": [
    "## 문제 1  \n",
    "- #### 입력 받은 정수가 짝수인지 홀수인지 판별"
   ]
  },
  {
   "cell_type": "code",
   "execution_count": 1,
   "id": "enabling-factory",
   "metadata": {},
   "outputs": [
    {
     "name": "stdout",
     "output_type": "stream",
     "text": [
      "# Enter a number: 14\n",
      "- 14 is Even number\n"
     ]
    }
   ],
   "source": [
    "number = int(input(\"# Enter a number: \"))\n",
    "\n",
    "if number % 2 == 0:\n",
    "    print(\"- %d is Even number\" % number)\n",
    "else:\n",
    "    print(\"- %d is Odd number\" % number)"
   ]
  },
  {
   "cell_type": "markdown",
   "id": "knowing-blind",
   "metadata": {},
   "source": [
    "## 문제 2  \n",
    "- #### 프로그래밍 과목의 중간고사와 기말고사 점수를 입력 받아 평균과 학점을 구하는 프로그램을 작성하시오.\n",
    "- #### 평균 90이상 : A, 80이상 90미만 : B, 70이상 80미만 : C, 60이상 70미만 : D, 60미만 : F"
   ]
  },
  {
   "cell_type": "code",
   "execution_count": 2,
   "id": "floral-saturday",
   "metadata": {
    "scrolled": true
   },
   "outputs": [
    {
     "name": "stdout",
     "output_type": "stream",
     "text": [
      "# Enter your midterm score: 77\n",
      "# Enter your finalTerm score: 56\n",
      "- Average: 66.5\n",
      "- Grade: D\n"
     ]
    }
   ],
   "source": [
    "midTerm = int(input(\"# Enter your midterm score: \"))\n",
    "finalTerm = int(input(\"# Enter your finalTerm score: \"))\n",
    "avg = (midTerm + finalTerm) / 2\n",
    "\n",
    "if avg >= 90.0:\n",
    "    print(\"- Average: %.1f\\n- Grade: A\" % avg)\n",
    "elif 80 <= avg < 90:\n",
    "    print(\"- Average: %.1f\\n- Grade: B\" % avg)\n",
    "elif 70 <= avg < 80:  \n",
    "    print(\"- Average: %.1f\\n- Grade: C\" % avg)\n",
    "elif 60 <= avg < 70:\n",
    "    print(\"- Average: %.1f\\n- Grade: D\" % avg)\n",
    "else:    \n",
    "    print(\"- Average: %.1f\\n- Grade: F\" % avg)"
   ]
  },
  {
   "cell_type": "markdown",
   "id": "heavy-tsunami",
   "metadata": {},
   "source": [
    "## 문제 3  \n",
    "- #### 학생수준평가 시험에서 영어 점수와 수학 점수가 합해서 110점 이상이면 합격이다.\n",
    "- #### 단, 각 점수가 40점 미만이면 불합격이다. 영어(eng), 수학(math)점수를 입력 받아 합격여부를 출력하는 프로그램을 작성하시오."
   ]
  },
  {
   "cell_type": "code",
   "execution_count": 3,
   "id": "polish-compression",
   "metadata": {},
   "outputs": [
    {
     "name": "stdout",
     "output_type": "stream",
     "text": [
      "# 영어 점수와 수학 점수를 입력하시오 : 50 30\n",
      "- 불합격\n"
     ]
    }
   ],
   "source": [
    "eng, math = list(map(int, input(\"# 영어 점수와 수학 점수를 입력하시오 : \").split(\" \")))\n",
    "\n",
    "if eng < 40 or math < 40:\n",
    "    print(\"- 불합격\")\n",
    "\n",
    "elif (eng+math) >= 110:\n",
    "    print(\"- 합격\")"
   ]
  },
  {
   "cell_type": "markdown",
   "id": "bronze-reach",
   "metadata": {},
   "source": [
    "## 문제 4  \n",
    "- #### 세 개의 정수를 입력 받아, 가장 큰 수만 출력하는 프로그램을 작성하시오. (max 함수 이용하지 않고 구할 것)"
   ]
  },
  {
   "cell_type": "code",
   "execution_count": 4,
   "id": "behavioral-indian",
   "metadata": {},
   "outputs": [
    {
     "name": "stdout",
     "output_type": "stream",
     "text": [
      "# 세 개의 수를 입력하시오 : 30 22 50\n",
      "- 가장 큰 수는 50입니다.\n"
     ]
    }
   ],
   "source": [
    "a, b, c = list(map(int, input(\"# 세 개의 수를 입력하시오 : \").split(\" \")))\n",
    "_max = 0\n",
    "\n",
    "if a >= b: _max = a\n",
    "else: _max = b\n",
    "    \n",
    "if c >= _max: _max = c\n",
    "\n",
    "print(\"- 가장 큰 수는 %d입니다.\" % _max)"
   ]
  },
  {
   "cell_type": "markdown",
   "id": "powerful-brake",
   "metadata": {},
   "source": [
    "## 문제 5  \n",
    "- #### 단어(문자열)가 주어질 때, 아래와 같이 출력되도록 작성하시오.\n",
    "    + ##### (1) while 문을 이용하여 작성 (문자열)\n",
    "    + ##### (2) for 문을 이용하여 작성 (문자열)\n",
    "- #### 출력예시\n",
    "    + ##### P\n",
    "    + ##### y\n",
    "    + ##### t\n",
    "    + ##### h\n",
    "    + ##### o\n",
    "    + ##### n"
   ]
  },
  {
   "cell_type": "code",
   "execution_count": 5,
   "id": "acknowledged-least",
   "metadata": {},
   "outputs": [
    {
     "name": "stdout",
     "output_type": "stream",
     "text": [
      "P\n",
      "y\n",
      "t\n",
      "h\n",
      "o\n",
      "n\n"
     ]
    }
   ],
   "source": [
    "word = 'Python'\n",
    "cnt = 0\n",
    "\n",
    "while cnt < len(word):\n",
    "    print(word[cnt])\n",
    "    cnt += 1"
   ]
  },
  {
   "cell_type": "code",
   "execution_count": 6,
   "id": "incoming-consistency",
   "metadata": {},
   "outputs": [
    {
     "name": "stdout",
     "output_type": "stream",
     "text": [
      "P\n",
      "y\n",
      "t\n",
      "h\n",
      "o\n",
      "n\n"
     ]
    }
   ],
   "source": [
    "word = 'Python'\n",
    "\n",
    "for i in word:\n",
    "    print(i)"
   ]
  },
  {
   "cell_type": "markdown",
   "id": "historic-stationery",
   "metadata": {},
   "source": [
    "## 문제 6  \n",
    "- #### 아래와 같이 출력되는 프로그램을 작성하시오\n",
    "- #### 출력예시\n",
    "    + ##### 10, 9, 8, 7, 6, 5, 4, 3, 2, 1, Happy new year!!"
   ]
  },
  {
   "cell_type": "code",
   "execution_count": 7,
   "id": "amateur-material",
   "metadata": {},
   "outputs": [
    {
     "name": "stdout",
     "output_type": "stream",
     "text": [
      "10, 9, 8, 7, 6, 5, 4, 3, 2, 1, Happy new year!!\n"
     ]
    }
   ],
   "source": [
    "text = \"Happy new year!!\"\n",
    "\n",
    "for i in range(10, 0, -1):\n",
    "    print(i, sep=\"\", end=\", \")\n",
    "    if i == 1:\n",
    "        print(text)"
   ]
  },
  {
   "cell_type": "markdown",
   "id": "olive-showcase",
   "metadata": {},
   "source": [
    "## 문제 7  \n",
    "- #### 양의 두 정수 a, b를 입력 받아, a부터 b까지의 정수의 합을 구하여 출력하는 프로그램을 작성하시오.\n",
    "- #### (for또는 while을 이용할 것) 단, 조건 a <= b 을 만족하는 값만 고려한다."
   ]
  },
  {
   "cell_type": "code",
   "execution_count": 8,
   "id": "aboriginal-element",
   "metadata": {},
   "outputs": [
    {
     "name": "stdout",
     "output_type": "stream",
     "text": [
      "# Enter two integers: 5 10\n",
      "- The sum from 5 to 10 is 45\n"
     ]
    }
   ],
   "source": [
    "nums = input(\"# Enter two integers: \").split(\" \")\n",
    "a, b = list(map(int, nums))\n",
    "_sum, _max, _min = 0, 0, 0\n",
    "\n",
    "if a == b:\n",
    "    print(\"- The sum from %d to %d is %d\" % (a, b, a))\n",
    "elif a > b:\n",
    "    _max = a \n",
    "    _min = b\n",
    "else:\n",
    "    _max = b\n",
    "    _min = a\n",
    "\n",
    "for i in range(_min, _max+1):\n",
    "    _sum += i\n",
    "\n",
    "print(\"- The sum from %d to %d is %d\" % (_min, _max,_sum))"
   ]
  },
  {
   "cell_type": "markdown",
   "id": "cutting-tattoo",
   "metadata": {},
   "source": [
    "## 문제 8  \n",
    "- #### 주어진 문자열에 문자a가 몇 개 있는지 구하는 프로그램을 작성하시오.(for문 사용할 것)"
   ]
  },
  {
   "cell_type": "code",
   "execution_count": 9,
   "id": "dramatic-moment",
   "metadata": {},
   "outputs": [
    {
     "name": "stdout",
     "output_type": "stream",
     "text": [
      "- a의 개수 : 3\n"
     ]
    }
   ],
   "source": [
    "word = 'banana'\n",
    "cnt = 0\n",
    "\n",
    "for i in word:\n",
    "    if i == 'a': cnt += 1\n",
    "    \n",
    "print(\"- a의 개수 : %d\" % cnt)"
   ]
  },
  {
   "cell_type": "markdown",
   "id": "supreme-category",
   "metadata": {},
   "source": [
    "## 문제 9  \n",
    "- #### for 문과 range()함수를 이용하여 다음과 같이 출력되도록 작성하시오\n",
    "- #### 출력예시\n",
    "    + ##### 0 1 2 3 4 5 6 7 8 9\n",
    "    + ##### 0 5 10 15 20 25 30 35 40 45 50\n",
    "    + ##### 10 9 8 7 6 5 4 3 2 1"
   ]
  },
  {
   "cell_type": "code",
   "execution_count": 10,
   "id": "bridal-acrylic",
   "metadata": {},
   "outputs": [
    {
     "name": "stdout",
     "output_type": "stream",
     "text": [
      "0 1 2 3 4 5 6 7 8 9 \n",
      "0 5 10 15 20 25 30 35 40 45 50 \n",
      "10 9 8 7 6 5 4 3 2 1 "
     ]
    }
   ],
   "source": [
    "for i in range(10):\n",
    "    print(i, end=\" \")\n",
    "    \n",
    "print()\n",
    "    \n",
    "for j in range(0,51,5):\n",
    "    print(j, end=\" \")\n",
    "    \n",
    "print()\n",
    "\n",
    "for k in range(10, 0, -1):\n",
    "    print(k, end=\" \")"
   ]
  },
  {
   "cell_type": "markdown",
   "id": "efficient-genetics",
   "metadata": {},
   "source": [
    "## 문제 10  \n",
    "- ####  for 문을 사용하여 리스트(colors)의 모든 내용을 출력하시오. (단, range()를 이용하지 않는다.)"
   ]
  },
  {
   "cell_type": "code",
   "execution_count": 11,
   "id": "sharing-annotation",
   "metadata": {},
   "outputs": [
    {
     "name": "stdout",
     "output_type": "stream",
     "text": [
      "red\n",
      "green\n",
      "blue\n"
     ]
    }
   ],
   "source": [
    "colors = [\"red\", \"green\", \"blue\"]\n",
    "\n",
    "for i in colors:\n",
    "    print(i)"
   ]
  },
  {
   "cell_type": "markdown",
   "id": "academic-robin",
   "metadata": {},
   "source": [
    "## 문제 11  \n",
    "- #### 리스트 a 전체를 반복해서 방문하되, 짝수만 출력하시오.(for 문 사용)"
   ]
  },
  {
   "cell_type": "code",
   "execution_count": 12,
   "id": "secure-hypothesis",
   "metadata": {},
   "outputs": [
    {
     "name": "stdout",
     "output_type": "stream",
     "text": [
      "4 6 8 10 12 "
     ]
    }
   ],
   "source": [
    "a = [1, 3, 4, 5, 6, 7, 8, 9, 10, 11, 12, 13]\n",
    "\n",
    "for i in a:\n",
    "    if i % 2 == 0:\n",
    "        print(i, end=\" \")"
   ]
  },
  {
   "attachments": {
    "image-2.png": {
     "image/png": "[encoded data removed]"
    },
    "image-3.png": {
     "image/png": "[encoded data removed]"
    },
    "image.png": {
     "image/png": "[encoded data removed]"
    }
   },
   "cell_type": "markdown",
   "id": "massive-rating",
   "metadata": {},
   "source": [
    "## 문제 12  \n",
    "- #### 구구단 출력1 – PPT 문제\n",
    "![image-3.png](attachment:image-3.png)\n",
    "- #### 구구단 출력2 (중첩 반복문)\n",
    "![image-2.png](attachment:image-2.png)\n",
    "- #### 구구단 출력3 (중첩 반복문)\n",
    "![image.png](attachment:image.png)"
   ]
  },
  {
   "cell_type": "code",
   "execution_count": 14,
   "id": "treated-investigation",
   "metadata": {},
   "outputs": [
    {
     "name": "stdout",
     "output_type": "stream",
     "text": [
      "출력하고 싶은 단을 입력하세요: 7\n",
      "7 * 1 = 7\n",
      "7 * 2 = 14\n",
      "7 * 3 = 21\n",
      "7 * 4 = 28\n",
      "7 * 5 = 35\n",
      "7 * 6 = 42\n",
      "7 * 7 = 49\n",
      "7 * 8 = 56\n",
      "7 * 9 = 63\n"
     ]
    }
   ],
   "source": [
    "num = int(input(\"출력하고 싶은 단을 입력하세요: \"))\n",
    "\n",
    "for i in range(1, 10):\n",
    "    print(\"%d * %d = %d\" % (num, i, (num*i)))"
   ]
  },
  {
   "cell_type": "code",
   "execution_count": 15,
   "id": "swedish-vietnam",
   "metadata": {},
   "outputs": [
    {
     "name": "stdout",
     "output_type": "stream",
     "text": [
      "\t=== 2단 ===\n",
      "\t2 * 1 =  2\n",
      "\t2 * 2 =  4\n",
      "\t2 * 3 =  6\n",
      "\t2 * 4 =  8\n",
      "\t2 * 5 = 10\n",
      "\t2 * 6 = 12\n",
      "\t2 * 7 = 14\n",
      "\t2 * 8 = 16\n",
      "\t2 * 9 = 18\n",
      "\t=== 3단 ===\n",
      "\t3 * 1 =  3\n",
      "\t3 * 2 =  6\n",
      "\t3 * 3 =  9\n",
      "\t3 * 4 = 12\n",
      "\t3 * 5 = 15\n",
      "\t3 * 6 = 18\n",
      "\t3 * 7 = 21\n",
      "\t3 * 8 = 24\n",
      "\t3 * 9 = 27\n",
      "\t=== 4단 ===\n",
      "\t4 * 1 =  4\n",
      "\t4 * 2 =  8\n",
      "\t4 * 3 = 12\n",
      "\t4 * 4 = 16\n",
      "\t4 * 5 = 20\n",
      "\t4 * 6 = 24\n",
      "\t4 * 7 = 28\n",
      "\t4 * 8 = 32\n",
      "\t4 * 9 = 36\n",
      "\t=== 5단 ===\n",
      "\t5 * 1 =  5\n",
      "\t5 * 2 = 10\n",
      "\t5 * 3 = 15\n",
      "\t5 * 4 = 20\n",
      "\t5 * 5 = 25\n",
      "\t5 * 6 = 30\n",
      "\t5 * 7 = 35\n",
      "\t5 * 8 = 40\n",
      "\t5 * 9 = 45\n",
      "\t=== 6단 ===\n",
      "\t6 * 1 =  6\n",
      "\t6 * 2 = 12\n",
      "\t6 * 3 = 18\n",
      "\t6 * 4 = 24\n",
      "\t6 * 5 = 30\n",
      "\t6 * 6 = 36\n",
      "\t6 * 7 = 42\n",
      "\t6 * 8 = 48\n",
      "\t6 * 9 = 54\n",
      "\t=== 7단 ===\n",
      "\t7 * 1 =  7\n",
      "\t7 * 2 = 14\n",
      "\t7 * 3 = 21\n",
      "\t7 * 4 = 28\n",
      "\t7 * 5 = 35\n",
      "\t7 * 6 = 42\n",
      "\t7 * 7 = 49\n",
      "\t7 * 8 = 56\n",
      "\t7 * 9 = 63\n",
      "\t=== 8단 ===\n",
      "\t8 * 1 =  8\n",
      "\t8 * 2 = 16\n",
      "\t8 * 3 = 24\n",
      "\t8 * 4 = 32\n",
      "\t8 * 5 = 40\n",
      "\t8 * 6 = 48\n",
      "\t8 * 7 = 56\n",
      "\t8 * 8 = 64\n",
      "\t8 * 9 = 72\n",
      "\t=== 9단 ===\n",
      "\t9 * 1 =  9\n",
      "\t9 * 2 = 18\n",
      "\t9 * 3 = 27\n",
      "\t9 * 4 = 36\n",
      "\t9 * 5 = 45\n",
      "\t9 * 6 = 54\n",
      "\t9 * 7 = 63\n",
      "\t9 * 8 = 72\n",
      "\t9 * 9 = 81\n"
     ]
    }
   ],
   "source": [
    "for i in range(2, 10):\n",
    "    print(\"\\t=== %d단 ===\" % i)\n",
    "    for j in range(1, 10):\n",
    "        print(\"\\t%d * %d = %2d\" % (i, j, (i*j)))"
   ]
  },
  {
   "cell_type": "code",
   "execution_count": 16,
   "id": "future-lingerie",
   "metadata": {
    "scrolled": true
   },
   "outputs": [
    {
     "name": "stdout",
     "output_type": "stream",
     "text": [
      "\t2*1= 2 \t3*1= 3 \t4*1= 4 \t5*1= 5 \t6*1= 6 \t7*1= 7 \t8*1= 8 \t9*1= 9 \n",
      "\t2*2= 4 \t3*2= 6 \t4*2= 8 \t5*2=10 \t6*2=12 \t7*2=14 \t8*2=16 \t9*2=18 \n",
      "\t2*3= 6 \t3*3= 9 \t4*3=12 \t5*3=15 \t6*3=18 \t7*3=21 \t8*3=24 \t9*3=27 \n",
      "\t2*4= 8 \t3*4=12 \t4*4=16 \t5*4=20 \t6*4=24 \t7*4=28 \t8*4=32 \t9*4=36 \n",
      "\t2*5=10 \t3*5=15 \t4*5=20 \t5*5=25 \t6*5=30 \t7*5=35 \t8*5=40 \t9*5=45 \n",
      "\t2*6=12 \t3*6=18 \t4*6=24 \t5*6=30 \t6*6=36 \t7*6=42 \t8*6=48 \t9*6=54 \n",
      "\t2*7=14 \t3*7=21 \t4*7=28 \t5*7=35 \t6*7=42 \t7*7=49 \t8*7=56 \t9*7=63 \n",
      "\t2*8=16 \t3*8=24 \t4*8=32 \t5*8=40 \t6*8=48 \t7*8=56 \t8*8=64 \t9*8=72 \n",
      "\t2*9=18 \t3*9=27 \t4*9=36 \t5*9=45 \t6*9=54 \t7*9=63 \t8*9=72 \t9*9=81 \n"
     ]
    }
   ],
   "source": [
    "for i in range(1, 10):\n",
    "    for j in range(2, 10):\n",
    "        print(\"\\t%d*%d=%2d\" % (j, i, (i*j)), end=\" \")\n",
    "    print()"
   ]
  },
  {
   "attachments": {
    "image.png": {
     "image/png": "[encoded data removed]"
    }
   },
   "cell_type": "markdown",
   "id": "assisted-costume",
   "metadata": {},
   "source": [
    "## 문제 13   \n",
    "- #### ★ 출력 프로그램 - PPT 문제\n",
    "![image.png](attachment:image.png)"
   ]
  },
  {
   "cell_type": "code",
   "execution_count": 17,
   "id": "worse-adelaide",
   "metadata": {},
   "outputs": [
    {
     "name": "stdout",
     "output_type": "stream",
     "text": [
      "Input an integer : 3159\n",
      "★★★\n",
      "★\n",
      "★★★★★\n",
      "★★★★★★★★★\n"
     ]
    }
   ],
   "source": [
    "data = input(\"Input an integer : \")\n",
    "\n",
    "for i in data:\n",
    "    print(\"★\" * int(i))"
   ]
  },
  {
   "cell_type": "markdown",
   "id": "corresponding-favorite",
   "metadata": {},
   "source": [
    "## 문제 14  \n",
    "- #### “done“을 입력할 때까지 사용자로부터 숫자를 입력 받아 리스트에 저장하고,\n",
    "- #### “done“을 입력하면, 리스트의 평균, 최대값과 최소값을 출력하는 프로그램을 작성하시오. (힌트) sum(), max(), min() 함수를 사용"
   ]
  },
  {
   "cell_type": "code",
   "execution_count": 18,
   "id": "adolescent-advance",
   "metadata": {},
   "outputs": [
    {
     "name": "stdout",
     "output_type": "stream",
     "text": [
      "# 가장 큰 수 : %dEnter a number: 7\n",
      "# 가장 큰 수 : %dEnter a number: 2\n",
      "# 가장 큰 수 : %dEnter a number: 9\n",
      "# 가장 큰 수 : %dEnter a number: 3\n",
      "# 가장 큰 수 : %dEnter a number: 5\n",
      "# 가장 큰 수 : %dEnter a number: done\n",
      "\n",
      "[7.0, 2.0, 9.0, 3.0, 5.0]\n",
      "- 평균 : 5.2\n",
      "- 최대 : 9.0\n",
      "- 최소 : 2.0\n"
     ]
    }
   ],
   "source": [
    "data = list()\n",
    "_max, _min, avg = 0.0, 0.0, 0.0 \n",
    "\n",
    "while True:\n",
    "    text = input(\"# 가장 큰 수 : %dEnter a number: \")\n",
    "    if text == \"done\":\n",
    "        _max = max(data)\n",
    "        _min = min(data)\n",
    "        avg = sum(data) / len(data)\n",
    "        break\n",
    "    data.append(float(text))\n",
    "\n",
    "print(\"\\n%s\\n- 평균 : %.1f\\n- 최대 : %.1f\\n- 최소 : %.1f\" % (data, avg, _max, _min))"
   ]
  },
  {
   "cell_type": "code",
   "execution_count": null,
   "id": "tender-sauce",
   "metadata": {},
   "outputs": [],
   "source": []
  }
 ],
 "metadata": {
  "kernelspec": {
   "display_name": "Python 3",
   "language": "python",
   "name": "python3"
  },
  "language_info": {
   "codemirror_mode": {
    "name": "ipython",
    "version": 3
   },
   "file_extension": ".py",
   "mimetype": "text/x-python",
   "name": "python",
   "nbconvert_exporter": "python",
   "pygments_lexer": "ipython3",
   "version": "3.6.10"
  }
 },
 "nbformat": 4,
 "nbformat_minor": 5
}
