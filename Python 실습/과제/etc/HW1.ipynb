{
 "cells": [
  {
   "cell_type": "markdown",
   "id": "deluxe-hearing",
   "metadata": {},
   "source": [
    "___\n",
    "## *문제 1* \n",
    "- #### 사용자로부터 화씨온도를 입력받아 섭씨온도로 변환하여 출력하세요.\n",
    "- #### 출력예시\n",
    "    + ##### 화씨온도: 100\n",
    "    + ##### 섭씨온도: 37.7777777778"
   ]
  },
  {
   "cell_type": "code",
   "execution_count": 1,
   "id": "incorporate-backup",
   "metadata": {
    "scrolled": false
   },
   "outputs": [
    {
     "name": "stdout",
     "output_type": "stream",
     "text": [
      "# 화씨온도를 입력하세요 : 100\n",
      "\n",
      "- 화씨온도 : 100 \n",
      "- 섭씨온도 : 37.7777777778\n"
     ]
    }
   ],
   "source": [
    "tempF = int(input(\"# 화씨온도를 입력하세요 : \"))\n",
    "tempC = ((tempF - 32) * 5) / 9\n",
    "\n",
    "print(\"\\n- 화씨온도 : %d \\n- 섭씨온도 : %.10f\" % (tempF, tempC))"
   ]
  },
  {
   "cell_type": "markdown",
   "id": "located-annual",
   "metadata": {},
   "source": [
    "___\n",
    "## *문제 2* \n",
    "- #### 사용자로부터 돈과 물건 가격을 입력받아, 잔돈을 계산하여 출력하세요. (단, 동전의 개수는 최소값으로)\n",
    "- #### 물건값은 100원 단위, 자판기의 동전은 500원과 100원 존재\n",
    "- #### 출력예시\n",
    "    + ##### 투입한 돈: 5000\n",
    "    + ##### 물건값: 2700\n",
    "    + ##### 거스름돈: 2300\n",
    "    + ##### 500원짜리: 4개\n",
    "    + ##### 100원짜리: 3개"
   ]
  },
  {
   "cell_type": "code",
   "execution_count": 15,
   "id": "occasional-deadline",
   "metadata": {},
   "outputs": [
    {
     "name": "stdout",
     "output_type": "stream",
     "text": [
      "# 투입한 돈을 입력하세요 : 5000\n",
      "# 구매하고자하는 물건 가격을 입력하세요 : 2700\n",
      "\n",
      "- 투입한 돈 :\t5000\n",
      "- 물건값 :\t2700\n",
      "- 거스름돈 :\t2300\n",
      "- 500원짜리 :\t4개\n",
      "- 100원짜리 :\t3개\n"
     ]
    }
   ],
   "source": [
    "money = int(input(\"# 투입한 돈을 입력하세요 : \"))\n",
    "price = float(input(\"# 구매하고자하는 물건 가격을 입력하세요 : \"))\n",
    "resultA = money - price\n",
    "\n",
    "money500 = resultA // 500\n",
    "resultB = resultA - (money500 * 500)\n",
    "money100 = resultB // 100\n",
    "\n",
    "print(\"\\n- 투입한 돈 :\\t%d\\n- 물건값 :\\t%d\\n- 거스름돈 :\\t%d\\n- 500원짜리 :\\t%d개\\n- 100원짜리 :\\t%d개\"\n",
    "      % (money, price, resultA, money500, money100))"
   ]
  },
  {
   "attachments": {
    "image.png": {
     "image/png": "[encoded data removed]"
    }
   },
   "cell_type": "markdown",
   "id": "knowing-jamaica",
   "metadata": {},
   "source": [
    "___\n",
    "## *문제 3*  \n",
    "- #### 원의 반지름을 r을 입력 받아, 원의 둘레와 넓이를 구하는 프로그램을 작성하시오.\n",
    "![image.png](attachment:image.png)\n",
    "- #### 출력예시\n",
    "    + ##### 반지름을 입력하시오: 5\n",
    "    + ##### 원 둘레: 31.42\n",
    "    + ##### 원 넓이: 78.54"
   ]
  },
  {
   "cell_type": "code",
   "execution_count": 10,
   "id": "revolutionary-buffalo",
   "metadata": {},
   "outputs": [
    {
     "name": "stdout",
     "output_type": "stream",
     "text": [
      "# 반지름을 입력하시오 : 5\n",
      "\n",
      "- 원 둘레 : 31.42\n",
      "- 원 넓이 : 78.54\n"
     ]
    }
   ],
   "source": [
    "pi = 3.141592\n",
    "r = int(input(\"# 반지름을 입력하시오 : \"))\n",
    "\n",
    "print(\"\\n- 원 둘레 : %.2f\\n- 원 넓이 : %.2f\" % ((2*pi*r), (pi*r**2)))"
   ]
  },
  {
   "cell_type": "markdown",
   "id": "built-notification",
   "metadata": {},
   "source": [
    "___\n",
    "## *문제 4* \n",
    "- #### 2개의 정수를 입력 받아, 사칙연산 및 나머지 연산의 결과를 아래와 같이 출력하는 프로그램을 작성하시오.\n",
    "- #### 출력예시\n",
    "    + ##### Enter two integers: 8 5\n",
    "    + ##### 8 + 5 = 13\n",
    "    + ##### 8 - 5 = 3\n",
    "    + ##### 8 * 5 = 40\n",
    "    + ##### 8 / 5 = 1.6\n",
    "    + ##### 8 % 5 = 3"
   ]
  },
  {
   "cell_type": "code",
   "execution_count": 14,
   "id": "religious-cable",
   "metadata": {},
   "outputs": [
    {
     "name": "stdout",
     "output_type": "stream",
     "text": [
      "# Enter two integers: 8 5\n",
      "\n",
      "- 8 + 5 = 13 \n",
      "- 8 - 5 = 3 \n",
      "- 8 * 5 = 40         \n",
      "- 8 / 5 = 1.6 \n",
      "- 8 % 5 = 3\n"
     ]
    }
   ],
   "source": [
    "numbers = input('# Enter two integers: ').split(\" \")\n",
    "A, B = map(int, numbers)\n",
    "\n",
    "print(f\"\\n- {A} + {B} = {A+B} \\n- {A} - {B} = {A-B} \\n- {A} * {B} = {A*B} \\\n",
    "        \\n- {A} / {B} = {A/B} \\n- {A} % {B} = {A%B}\")"
   ]
  },
  {
   "cell_type": "markdown",
   "id": "eastern-olympus",
   "metadata": {},
   "source": [
    "___\n",
    "## *문제 5* \n",
    "- #### 두 정수를 입력 받아, 합과 평균을 구하여 출력하는 프로그램을 작성하시오. (평균 소수 첫째 자리까지 나타내기)\n",
    "- #### 출력예시\n",
    "    + ##### Enter two integers: 70 91\n",
    "    + ##### The sum of 70 and 91 is 161\n",
    "    + ##### The average of numbers is 80.5"
   ]
  },
  {
   "cell_type": "code",
   "execution_count": 13,
   "id": "strange-ecology",
   "metadata": {},
   "outputs": [
    {
     "name": "stdout",
     "output_type": "stream",
     "text": [
      "# Enter two integers: 70 91\n",
      "\n",
      "- The sum of 70 and 91 is 161 \n",
      "- The average of numbers is 80.5\n"
     ]
    }
   ],
   "source": [
    "numbers = input('# Enter two integers: ').split(\" \")\n",
    "A, B = map(int, numbers)\n",
    "\n",
    "print(\"\\n- The sum of %d and %d is %d \\n- The average of numbers is %.1f\" % (A, B, (A+B), ((A+B)/2)))"
   ]
  },
  {
   "cell_type": "markdown",
   "id": "turned-message",
   "metadata": {},
   "source": [
    "___\n",
    "## *문제 6* \n",
    "- #### 아래의 실행예제를 참고하여 프로그램을 작성하라.\n",
    "- #### 입력 : 날짜(연/월/일)입력: 2021/10/08\n",
    "- #### 출력 : 입력한 날짜의 10년 후는 2031년 10월 8일"
   ]
  },
  {
   "cell_type": "code",
   "execution_count": 1,
   "id": "adolescent-polish",
   "metadata": {},
   "outputs": [
    {
     "name": "stdout",
     "output_type": "stream",
     "text": [
      "# 날짜(연/월/일)입력 : 2021/10/08\n",
      "\n",
      "- 입력한 날짜의 10년 후는 2031년 10월 8일\n"
     ]
    }
   ],
   "source": [
    "date = input('# 날짜(연/월/일)입력 : ')\n",
    "\n",
    "date = date.split('/')\n",
    "year, month, day = map(int, date)\n",
    "\n",
    "print(\"\\n- 입력한 날짜의 10년 후는 %d년 %d월 %d일\" % ((year+10), month, day))"
   ]
  },
  {
   "cell_type": "code",
   "execution_count": null,
   "id": "heard-liability",
   "metadata": {},
   "outputs": [],
   "source": []
  }
 ],
 "metadata": {
  "kernelspec": {
   "display_name": "Python 3",
   "language": "python",
   "name": "python3"
  },
  "language_info": {
   "codemirror_mode": {
    "name": "ipython",
    "version": 3
   },
   "file_extension": ".py",
   "mimetype": "text/x-python",
   "name": "python",
   "nbconvert_exporter": "python",
   "pygments_lexer": "ipython3",
   "version": "3.6.10"
  }
 },
 "nbformat": 4,
 "nbformat_minor": 5
}
