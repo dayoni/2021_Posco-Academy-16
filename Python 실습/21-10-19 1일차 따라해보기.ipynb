{
 "cells": [
  {
   "cell_type": "code",
   "execution_count": 3,
   "id": "a4fd33c7",
   "metadata": {},
   "outputs": [
    {
     "name": "stdout",
     "output_type": "stream",
     "text": [
      "a : range(0, 5),\n",
      "b : range(1, 6),\n",
      "c : range(1, 7, 2),\n",
      "d : [0, 1, 2, 3, 4]\n"
     ]
    }
   ],
   "source": [
    "a = range(5)\n",
    "b = range(1, 6)\n",
    "c = range(1, 7, 2)\n",
    "d = list(range(5))\n",
    "\n",
    "\n",
    "print(f\"a : {a},\\nb : {b},\\nc : {c},\\nd : {d}\")"
   ]
  },
  {
   "cell_type": "code",
   "execution_count": 6,
   "id": "1a278cec",
   "metadata": {},
   "outputs": [
    {
     "name": "stdout",
     "output_type": "stream",
     "text": [
      "[0, 1, 2, 3, 4, 5, 6, 7, 8, 9, 10]\n",
      "[10, 9, 8, 7, 6, 5, 4, 3, 2, 1]\n",
      "[2, 4, 6, 8, 10]\n",
      "[1, 3, 5, 7, 9]\n",
      "[2, 4, 6, 8, 10, 1, 3, 5, 7, 9]\n"
     ]
    }
   ],
   "source": [
    "# 실습 1\n",
    "a = list(range(11))\n",
    "print(a)\n",
    "\n",
    "# 실습 2\n",
    "b = list(range(10, 0, -1))\n",
    "print(b)\n",
    "\n",
    "# 실습 3\n",
    "c = list(range(2, 11, 2))\n",
    "print(c)\n",
    "\n",
    "# 실습 4\n",
    "d = list(range(1, 10, 2))\n",
    "print(d)\n",
    "\n",
    "# 실습 5\n",
    "print(c+d)"
   ]
  },
  {
   "cell_type": "code",
   "execution_count": null,
   "id": "8319649d",
   "metadata": {},
   "outputs": [],
   "source": []
  }
 ],
 "metadata": {
  "kernelspec": {
   "display_name": "Python 3",
   "language": "python",
   "name": "python3"
  },
  "language_info": {
   "codemirror_mode": {
    "name": "ipython",
    "version": 3
   },
   "file_extension": ".py",
   "mimetype": "text/x-python",
   "name": "python",
   "nbconvert_exporter": "python",
   "pygments_lexer": "ipython3",
   "version": "3.8.8"
  }
 },
 "nbformat": 4,
 "nbformat_minor": 5
}
