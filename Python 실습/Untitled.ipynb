{
 "cells": [
  {
   "cell_type": "code",
   "execution_count": 23,
   "id": "proprietary-mission",
   "metadata": {},
   "outputs": [
    {
     "name": "stdout",
     "output_type": "stream",
     "text": [
      "self.new1 : [1, 2, 3, 4], new:[1, 2, 3, 4]\n",
      "\n",
      "i : 1, self.new2 : [1, 2, 3, 4], self.new3 : [2, 3, 4]\n",
      "\n",
      "i : 3, self.new2 : [2, 3, 4], self.new3 : [2, 4]\n",
      "\n"
     ]
    },
    {
     "data": {
      "text/plain": [
       "[2, 4]"
      ]
     },
     "execution_count": 23,
     "metadata": {},
     "output_type": "execute_result"
    }
   ],
   "source": [
    "class Set():\n",
    "    def __init__(self, new=list()):\n",
    "        self.new = new\n",
    "        print(f\"self.new1 : {self.new}, new:{new}\\n\")\n",
    "        \n",
    "        for i in self.new:\n",
    "            print(f\"i : {i}, self.new2 : {self.new}\", end='')\n",
    "                  \n",
    "            if i in self.new:\n",
    "                self.new.remove(i)\n",
    "                print(f\", self.new3 : {self.new}\\n\")\n",
    "            else:\n",
    "                print(f\"i : {i}\")\n",
    "    \n",
    "a = Set([1, 2, 3, 4])\n",
    "a.new"
   ]
  },
  {
   "cell_type": "code",
   "execution_count": null,
   "id": "periodic-freedom",
   "metadata": {},
   "outputs": [],
   "source": []
  }
 ],
 "metadata": {
  "kernelspec": {
   "display_name": "Python 3",
   "language": "python",
   "name": "python3"
  },
  "language_info": {
   "codemirror_mode": {
    "name": "ipython",
    "version": 3
   },
   "file_extension": ".py",
   "mimetype": "text/x-python",
   "name": "python",
   "nbconvert_exporter": "python",
   "pygments_lexer": "ipython3",
   "version": "3.6.10"
  }
 },
 "nbformat": 4,
 "nbformat_minor": 5
}
