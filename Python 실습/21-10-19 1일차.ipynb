{
 "cells": [
  {
   "cell_type": "markdown",
   "id": "4edd17fd",
   "metadata": {},
   "source": [
    "## ***2021.10.19 1일차 실습***  \n",
    "- #### 화면에 \"Hello World!!\" 출력하기  \n",
    "- #### 산술연산자(+, -, *, /, %, //, * *)    \n",
    "- #### 자료형(Int, Float, Str, Bool, class)\n",
    "- #### 대입연산자(=, +=, -=, *=, /=)\n",
    "- #### input() 사용법\n",
    "- #### print()를 이용한 출력\n",
    "- #### 실습문제 1, 2\n",
    "- #### 시퀀스 자료형 - Str\n",
    "- #### 실습문제 3"
   ]
  },
  {
   "cell_type": "code",
   "execution_count": 1,
   "id": "9a1dbd27",
   "metadata": {
    "scrolled": true
   },
   "outputs": [
    {
     "name": "stdout",
     "output_type": "stream",
     "text": [
      "Hello World!!\n"
     ]
    }
   ],
   "source": [
    "# 화면에 \"Hello World!!\" 출력하기 \n",
    "\n",
    "print(\"Hello World!!\")"
   ]
  },
  {
   "cell_type": "code",
   "execution_count": 8,
   "id": "437e8224",
   "metadata": {},
   "outputs": [
    {
     "name": "stdout",
     "output_type": "stream",
     "text": [
      "9\n",
      "3\n",
      "18\n",
      "2.0\n",
      "0\n",
      "2\n",
      "216\n"
     ]
    }
   ],
   "source": [
    "# 산술연산자(+, -, *, /, %, //, * *)  \n",
    "\n",
    "print(6 + 3)\n",
    "print(6 - 3)\n",
    "print(6 * 3)\n",
    "print(6 / 3)\n",
    "print(6 % 3)\n",
    "print(6 // 3)\n",
    "print(6 ** 3)"
   ]
  },
  {
   "cell_type": "code",
   "execution_count": 10,
   "id": "01949dcb",
   "metadata": {},
   "outputs": [
    {
     "name": "stdout",
     "output_type": "stream",
     "text": [
      "<class 'bool'> <class 'int'> <class 'float'> <class 'str'>\n"
     ]
    }
   ],
   "source": [
    "# 자료형(Int, Float, Str, Bool, class)\n",
    "\n",
    "boolvar = True\n",
    "intVar = 100\n",
    "floatVar = 123.45\n",
    "strVar = \"Python\"\n",
    "print(type(boolvar), type(intVar), type(floatVar), type(strVar))"
   ]
  },
  {
   "cell_type": "code",
   "execution_count": 14,
   "id": "fa8d309b",
   "metadata": {},
   "outputs": [
    {
     "name": "stdout",
     "output_type": "stream",
     "text": [
      "2\n",
      "1\n",
      "2\n",
      "1.0\n"
     ]
    }
   ],
   "source": [
    "# 대입연산자(=, +=, -=, *=, /=)\n",
    "\n",
    "a = 1\n",
    "\n",
    "a += 1\n",
    "print(a)\n",
    "\n",
    "a -= 1\n",
    "print(a)\n",
    "\n",
    "a *= 2\n",
    "print(a)\n",
    "\n",
    "a /= 2\n",
    "print(a)"
   ]
  },
  {
   "cell_type": "code",
   "execution_count": 19,
   "id": "2e16947c",
   "metadata": {},
   "outputs": [
    {
     "name": "stdout",
     "output_type": "stream",
     "text": [
      "정수를 입력하세요 : 100\n",
      "<class 'str'>\n",
      "<class 'int'> \n",
      "\n",
      "정수 두개를 입력하세요 : 12 34\n",
      "a = 12, b = 34\n"
     ]
    }
   ],
   "source": [
    "# input() 사용법\n",
    "\n",
    "number = input(\"정수를 입력하세요 : \")\n",
    "print(type(number))\n",
    "\n",
    "number = int(number)\n",
    "print(type(number), '\\n')\n",
    "\n",
    "a, b = map(int, input(\"정수 두개를 입력하세요 : \").split())\n",
    "print(f\"a = {a}, b = {b}\")"
   ]
  },
  {
   "cell_type": "code",
   "execution_count": 35,
   "id": "583066c9",
   "metadata": {},
   "outputs": [
    {
     "name": "stdout",
     "output_type": "stream",
     "text": [
      "100 더하기 200 은 300\n",
      "이번 시험 점수는 92.5점 이다\n",
      "I eat 3 apples. so I was for Three days\n",
      "I eat 6 apples. so I was for Two days\n"
     ]
    }
   ],
   "source": [
    "# print()를 이용한 출력\n",
    "\n",
    "a = 100\n",
    "b = 200\n",
    "result = a + b\n",
    "print(a, \"더하기\", b,\"은\", result)\n",
    "\n",
    "print(\"이번 시험 점수는 %.1f점 이다\" % 92.5)\n",
    "\n",
    "print(\"I eat %d apples. so I was for %s days\" % (3, \"Three\"))\n",
    "\n",
    "number = 6\n",
    "day = 'Two'\n",
    "print(\"I eat %d apples. so I was for %s days\" % (number, day))"
   ]
  },
  {
   "cell_type": "markdown",
   "id": "4d36a79a",
   "metadata": {},
   "source": [
    "### **실습문제 1**  "
   ]
  },
  {
   "cell_type": "code",
   "execution_count": 51,
   "id": "a5a67796",
   "metadata": {},
   "outputs": [
    {
     "name": "stdout",
     "output_type": "stream",
     "text": [
      "화씨온도를 입력하세요 : 100\n",
      "입력한 화씨온도는 100, 변환된 섭씨온도는 37.8입니다.\n"
     ]
    }
   ],
   "source": [
    "# 사용자로부터 화씨온도를 입력받아 섭씨온도로 변환하여 출력하세요.\n",
    "\n",
    "tempF = int(input(\"화씨온도를 입력하세요 : \"))\n",
    "tempC = ((tempF - 32) * 5) / 9\n",
    "\n",
    "print(\"입력한 화씨온도는 %d, 변환된 섭씨온도는 %.1f입니다.\" % (tempF, tempC))"
   ]
  },
  {
   "cell_type": "markdown",
   "id": "1a2038ed",
   "metadata": {},
   "source": [
    "### **실습문제 2**"
   ]
  },
  {
   "cell_type": "code",
   "execution_count": 60,
   "id": "c9cc7fa2",
   "metadata": {},
   "outputs": [
    {
     "name": "stdout",
     "output_type": "stream",
     "text": [
      "투입한 돈을 입력하세요 : 5000\n",
      "구매하고자하는 물건 가격을 입력하세요 : 2300\n",
      "거스름돈은 2700원이며, 500원짜리 동전은 5개, 100원짜리 동전은 2개 반환됩니다.\n"
     ]
    }
   ],
   "source": [
    "# 사용자로부터 돈과 물건 가격을 입력받아, 잔돈을 계산하여 출력하세요.(단, 동전의 개수는 최소값으로)\n",
    "# 물건값은 100원 단위, 자판기의 동전은 500원과 100원 존재\n",
    "\n",
    "money = int(input(\"투입한 돈을 입력하세요 : \"))\n",
    "price = float(input(\"구매하고자하는 물건 가격을 입력하세요 : \"))\n",
    "resultA = money - price\n",
    "\n",
    "money500 = resultA // 500\n",
    "resultB = resultA - (money500 * 500)\n",
    "money100 = resultB // 100\n",
    "\n",
    "print(\"거스름돈은 %d원이며, 500원짜리 동전은 %d개, 100원짜리 동전은 %d개 반환됩니다.\" % (resultA, money500, money100))"
   ]
  },
  {
   "cell_type": "code",
   "execution_count": 94,
   "id": "2ed5df6c",
   "metadata": {},
   "outputs": [
    {
     "name": "stdout",
     "output_type": "stream",
     "text": [
      "P\n",
      "n \n",
      "\n",
      "Py\n",
      "Py\n",
      "hon\n",
      "Pto\n",
      "nohtyP \n",
      "\n",
      "True\n",
      "False \n",
      "\n",
      "6 \n",
      "\n",
      "1 \n",
      "\n",
      "4 \n",
      "\n",
      "1,2,3,4\n",
      "1*2*3*4\n",
      "1 2 3 4 \n",
      "\n",
      "['one', 'two', 'three']\n",
      "['Python', 'is', 'Fun']\n",
      "['Py', 'thon', 'is', 'Fun']\n"
     ]
    }
   ],
   "source": [
    "# 시퀀스 자료형 - Str\n",
    "\n",
    "# Indexing\n",
    "word = 'Python'\n",
    "print(word[0])\n",
    "print(word[-1], '\\n')\n",
    "\n",
    "# Slicing\n",
    "print(word[0:2])\n",
    "print(word[:2])\n",
    "print(word[-3:])\n",
    "print(word[::2])\n",
    "print(word[::-1], '\\n')\n",
    "\n",
    "# in\n",
    "print('o' in word)\n",
    "print('w' in word, '\\n')\n",
    "\n",
    "# len()\n",
    "print(len(word), '\\n')\n",
    "\n",
    "# count()\n",
    "print(word.count('o'), '\\n')\n",
    "\n",
    "# index()\n",
    "print(word.index('o'), '\\n')\n",
    "\n",
    "# join()\n",
    "a = ','\n",
    "print(a.join('1234'))\n",
    "print('*'.join('1234'))\n",
    "print(' '.join('1234'), '\\n')\n",
    "\n",
    "# split() : 문자열을 공백이나 다른 문자로 분리\n",
    "a = 'one:two:three'\n",
    "print(a.split(':'))\n",
    "b = 'Python is Fun'\n",
    "print(b.split(' '))\n",
    "c = 'Py\\tthon \\nis Fun'\n",
    "print(c.split())"
   ]
  },
  {
   "cell_type": "markdown",
   "id": "4f869e1c",
   "metadata": {},
   "source": [
    "### **실습문제 3**"
   ]
  },
  {
   "cell_type": "code",
   "execution_count": 87,
   "id": "f35bd32e",
   "metadata": {},
   "outputs": [
    {
     "name": "stdout",
     "output_type": "stream",
     "text": [
      "o\n",
      "o\n"
     ]
    }
   ],
   "source": [
    "# 문자열의 마지막 문자를 구해서 출력하세요.\n",
    "\n",
    "word = \"Hello\"\n",
    "print(word[-1])\n",
    "print(word[len(word)-1])"
   ]
  },
  {
   "cell_type": "code",
   "execution_count": 95,
   "id": "28124f19",
   "metadata": {},
   "outputs": [
    {
     "name": "stdout",
     "output_type": "stream",
     "text": [
      "P\n",
      "n \n",
      "\n",
      "Py\n",
      "Py\n",
      "hon\n",
      "Pto\n",
      "nohtyP \n",
      "\n",
      "True\n",
      "False \n",
      "\n",
      "6 \n",
      "\n",
      "1 \n",
      "\n",
      "4 \n",
      "\n",
      "1,2,3,4\n",
      "1*2*3*4\n",
      "1 2 3 4 \n",
      "\n",
      "['one', 'two', 'three']\n",
      "['Python', 'is', 'Fun']\n",
      "['Python', 'is', 'Fun']\n"
     ]
    }
   ],
   "source": [
    "# 시퀀스 자료형 - Str\n",
    "\n",
    "# Indexing\n",
    "word = 'Python'\n",
    "print(word[0])\n",
    "print(word[-1], '\\n')\n",
    "\n",
    "# Slicing\n",
    "print(word[0:2])\n",
    "print(word[:2])\n",
    "print(word[-3:])\n",
    "print(word[::2])\n",
    "print(word[::-1], '\\n')\n",
    "\n",
    "# in\n",
    "print('o' in word)\n",
    "print('w' in word, '\\n')\n",
    "\n",
    "# len()\n",
    "print(len(word), '\\n')\n",
    "\n",
    "# count()\n",
    "print(word.count('o'), '\\n')\n",
    "\n",
    "# index()\n",
    "print(word.index('o'), '\\n')\n",
    "\n",
    "# join()\n",
    "a = ','\n",
    "print(a.join('1234'))\n",
    "print('*'.join('1234'))\n",
    "print(' '.join('1234'), '\\n')\n",
    "\n",
    "# split() : 문자열을 공백이나 다른 문자로 분리\n",
    "a = 'one:two:three'\n",
    "print(a.split(':'))\n",
    "b = 'Python is Fun'\n",
    "print(b.split(' '))\n",
    "c = 'Py\\tthon \\nis Fun'\n",
    "print(c.split())"
   ]
  },
  {
   "cell_type": "code",
   "execution_count": 109,
   "id": "9e055019",
   "metadata": {},
   "outputs": [
    {
     "name": "stdout",
     "output_type": "stream",
     "text": [
      "Spring\n",
      "Winter \n",
      "\n",
      "['Spring', 'Summer', 'Fall', 'Winter']\n",
      "['Winter', 'Fall', 'Summer', 'Spring']\n",
      "['Spring', 'Fall'] \n",
      "\n",
      "True\n",
      "False \n",
      "\n",
      "4 \n",
      "\n",
      "t = [1, 2, 3], a = 1, b = 2, c = 3 \n",
      "\n",
      "1 \n",
      "\n",
      "0 \n",
      "\n"
     ]
    }
   ],
   "source": [
    "# 시퀀스 자료형 - list\n",
    "\n",
    "# Indexing\n",
    "season = ['Spring', 'Summer', 'Fall', 'Winter']\n",
    "print(season[0])\n",
    "print(season[-1], '\\n')\n",
    "\n",
    "# Slicing\n",
    "print(season[:])\n",
    "print(season[::-1])\n",
    "print(season[::2], '\\n')\n",
    "\n",
    "# in\n",
    "print('Winter' in season)\n",
    "print('Cool' in season, '\\n')\n",
    "\n",
    "# len()\n",
    "print(len(season), '\\n')\n",
    "\n",
    "# packing, unpacking\n",
    "t = [1, 2, 3]\n",
    "a, b, c = t\n",
    "print(f\"t = {t}, a = {a}, b = {b}, c = {c}\", '\\n')\n",
    "\n",
    "# count()\n",
    "print(season.count('Spring'), '\\n')\n",
    "\n",
    "# index()\n",
    "print(season.index('Spring'), '\\n')\n",
    "\n",
    "# join()\n",
    "\n",
    "\n",
    "# split() : 문자열을 공백이나 다른 문자로 분리\n"
   ]
  },
  {
   "cell_type": "markdown",
   "id": "71c31a4c",
   "metadata": {},
   "source": [
    "### **실습문제 4**"
   ]
  },
  {
   "cell_type": "code",
   "execution_count": 112,
   "id": "8de02702",
   "metadata": {},
   "outputs": [
    {
     "name": "stdout",
     "output_type": "stream",
     "text": [
      "날짜(연/월/일) 입력 : 2021/10/8\n",
      "2021 10 8\n",
      "입력한 날짜의 10년 후는 2031년 10월 8일\n"
     ]
    }
   ],
   "source": [
    "# 아래의 실행예제를 참고하여 프로그램을 작성하라\n",
    "# 날짜(연/월/일) 입력 : 2021/10/08\n",
    "# 입력한 날짜의 10년 후는 2031년 10월 8일\n",
    "\n",
    "today = input(\"날짜(연/월/일) 입력 : \").split('/')\n",
    "year, month, day = map(int, today)\n",
    "\n",
    "print(year, month, day)\n",
    "print(f'입력한 날짜의 10년 후는 {year+10}년 {month}월 {day}일')"
   ]
  },
  {
   "cell_type": "code",
   "execution_count": null,
   "id": "e5ca8832",
   "metadata": {},
   "outputs": [],
   "source": []
  }
 ],
 "metadata": {
  "kernelspec": {
   "display_name": "Python 3",
   "language": "python",
   "name": "python3"
  },
  "language_info": {
   "codemirror_mode": {
    "name": "ipython",
    "version": 3
   },
   "file_extension": ".py",
   "mimetype": "text/x-python",
   "name": "python",
   "nbconvert_exporter": "python",
   "pygments_lexer": "ipython3",
   "version": "3.8.8"
  }
 },
 "nbformat": 4,
 "nbformat_minor": 5
}
