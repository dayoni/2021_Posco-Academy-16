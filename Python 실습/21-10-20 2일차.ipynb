{
 "cells": [
  {
   "cell_type": "markdown",
   "id": "czech-sunrise",
   "metadata": {},
   "source": [
    "## ***2021.10.20 2일차 실습***  \n",
    "- #### map(함수, 시퀀스 자료형 변수)\n",
    "- #### Bool 자료형\n",
    "- #### 관계연산자(==, <=, >=, !=)    \n",
    "- #### 대입연산자(=, +=, -=, *=, /=)\n",
    "- #### if 조건문\n",
    "- #### while 반복문\n",
    "- #### for 반복문 + range 함수\n",
    "- #### list 2\n",
    "- #### tuple\n",
    "- #### set\n",
    "- #### dictionary"
   ]
  },
  {
   "cell_type": "code",
   "execution_count": 2,
   "id": "ultimate-steam",
   "metadata": {},
   "outputs": [
    {
     "name": "stdout",
     "output_type": "stream",
     "text": [
      "[2021, 10, 19]\n"
     ]
    }
   ],
   "source": [
    "# map(함수, 시퀀스 자료형 변수)\n",
    "\n",
    "text = \"2021/10/19\"\n",
    "x = text.split(\"/\")\n",
    "x = list(map(int, x))\n",
    "print(x)"
   ]
  },
  {
   "cell_type": "code",
   "execution_count": null,
   "id": "fuzzy-quebec",
   "metadata": {},
   "outputs": [],
   "source": [
    "# Bool 자료형"
   ]
  },
  {
   "cell_type": "code",
   "execution_count": null,
   "id": "discrete-wright",
   "metadata": {},
   "outputs": [],
   "source": [
    "# 관계연산자(==, <=, >=, !=) "
   ]
  },
  {
   "cell_type": "code",
   "execution_count": null,
   "id": "supreme-growth",
   "metadata": {},
   "outputs": [],
   "source": [
    "# 대입연산자(=, +=, -=, *=, /=)"
   ]
  },
  {
   "cell_type": "code",
   "execution_count": 4,
   "id": "paperback-sugar",
   "metadata": {},
   "outputs": [
    {
     "name": "stdout",
     "output_type": "stream",
     "text": [
      "True\n"
     ]
    }
   ],
   "source": [
    "# if 조건문\n",
    "\n",
    "if 1 in [1, 2, 3]:\n",
    "    print(\"True\")"
   ]
  },
  {
   "cell_type": "markdown",
   "id": "seeing-transition",
   "metadata": {},
   "source": [
    "## 실습문제 1"
   ]
  },
  {
   "cell_type": "code",
   "execution_count": 10,
   "id": "assured-mozambique",
   "metadata": {},
   "outputs": [
    {
     "name": "stdout",
     "output_type": "stream",
     "text": [
      "영어점수와 수학점수를 입력하시오 : 40 70\n",
      "합격\n"
     ]
    }
   ],
   "source": [
    "# 영어+수학 점수가 110점 이상이면 합격이다. 단 각 점수가 40점 미만이면 불합격이다.\n",
    "# 영어와 수학 점수를 입력받아, 합격 여부를 출력하는 프로그램을 작성하시오.\n",
    "\n",
    "eng, math = list(map(int, input(\"영어점수와 수학점수를 입력하시오 : \").split(\" \")))\n",
    "\n",
    "if eng < 40 or math < 40:\n",
    "    print(\"불합격\")\n",
    "\n",
    "elif (eng+math) >= 110:\n",
    "    print(\"합격\")"
   ]
  },
  {
   "cell_type": "markdown",
   "id": "academic-brick",
   "metadata": {},
   "source": [
    "## 실습문제 2"
   ]
  },
  {
   "cell_type": "code",
   "execution_count": 70,
   "id": "emotional-chamber",
   "metadata": {},
   "outputs": [
    {
     "name": "stdout",
     "output_type": "stream",
     "text": [
      "세 개의 정수를 입력하시오 : 4 8 40\n",
      "가장 큰 수 : 40\n"
     ]
    }
   ],
   "source": [
    "# 세 개의 정수를 입력 받아, 가장 큰 수만 출력하는 프로그램을 작성하시오.\n",
    "\n",
    "a, b, c = list(map(int, input(\"세 개의 정수를 입력하시오 : \").split(\" \")))\n",
    "_max = 0\n",
    "\n",
    "if a >= b: _max = a\n",
    "else: _max = b\n",
    "    \n",
    "if c >= _max: _max = c\n",
    "\n",
    "print(\"가장 큰 수 : %d\" % _max)"
   ]
  },
  {
   "cell_type": "code",
   "execution_count": 15,
   "id": "anonymous-letter",
   "metadata": {},
   "outputs": [
    {
     "name": "stdout",
     "output_type": "stream",
     "text": [
      "1\n",
      "2\n",
      "3\n",
      "4\n",
      "5\n",
      "\n",
      "1부터 10까지 합 : 55\n"
     ]
    }
   ],
   "source": [
    "# While 반복문\n",
    "\n",
    "number = 1\n",
    "while number <= 5 :\n",
    "    print(number)\n",
    "    number += 1\n",
    "\n",
    "# 1부터 10까지 합을 구하는 프로그램\n",
    "number = 1\n",
    "sumVar = 0\n",
    "while number <= 10:\n",
    "    sumVar += number\n",
    "    number += 1\n",
    "\n",
    "print(\"\\n1부터 10까지 합 : %d\" % sumVar)"
   ]
  },
  {
   "cell_type": "code",
   "execution_count": 50,
   "id": "relevant-thunder",
   "metadata": {},
   "outputs": [
    {
     "name": "stdout",
     "output_type": "stream",
     "text": [
      "Hello World!\n",
      "Hello World!\n",
      "Hello World!\n",
      "Hello World!\n",
      "Hello World!\n",
      "\n",
      "===========1단==========\n",
      "\t1 X 1 = 1\n",
      "\t1 X 2 = 2\n",
      "\t1 X 3 = 3\n",
      "\t1 X 4 = 4\n",
      "\t1 X 5 = 5\n",
      "\t1 X 6 = 6\n",
      "\t1 X 7 = 7\n",
      "\t1 X 8 = 8\n",
      "\t1 X 9 = 9\n",
      "========================\n",
      "\n",
      "===========2단==========\n",
      "\t2 X 1 = 2\n",
      "\t2 X 2 = 4\n",
      "\t2 X 3 = 6\n",
      "\t2 X 4 = 8\n",
      "\t2 X 5 = 10\n",
      "\t2 X 6 = 12\n",
      "\t2 X 7 = 14\n",
      "\t2 X 8 = 16\n",
      "\t2 X 9 = 18\n",
      "========================\n",
      "\n",
      "===========3단==========\n",
      "\t3 X 1 = 3\n",
      "\t3 X 2 = 6\n",
      "\t3 X 3 = 9\n",
      "\t3 X 4 = 12\n",
      "\t3 X 5 = 15\n",
      "\t3 X 6 = 18\n",
      "\t3 X 7 = 21\n",
      "\t3 X 8 = 24\n",
      "\t3 X 9 = 27\n",
      "========================\n",
      "\n",
      "===========4단==========\n",
      "\t4 X 1 = 4\n",
      "\t4 X 2 = 8\n",
      "\t4 X 3 = 12\n",
      "\t4 X 4 = 16\n",
      "\t4 X 5 = 20\n",
      "\t4 X 6 = 24\n",
      "\t4 X 7 = 28\n",
      "\t4 X 8 = 32\n",
      "\t4 X 9 = 36\n",
      "========================\n",
      "\n",
      "===========5단==========\n",
      "\t5 X 1 = 5\n",
      "\t5 X 2 = 10\n",
      "\t5 X 3 = 15\n",
      "\t5 X 4 = 20\n",
      "\t5 X 5 = 25\n",
      "\t5 X 6 = 30\n",
      "\t5 X 7 = 35\n",
      "\t5 X 8 = 40\n",
      "\t5 X 9 = 45\n",
      "========================\n",
      "Input an integer : 1359\n",
      "★\n",
      "★★★\n",
      "★★★★★\n",
      "★★★★★★★★★\n"
     ]
    }
   ],
   "source": [
    "# for 반복문 + range()\n",
    "\n",
    "for i in range(5):\n",
    "    print(\"Hello World!\")\n",
    "    \n",
    "# 구구단 출력 프로그램\n",
    "for i in range(1, 6):\n",
    "    print(f\"\\n==========={i}단==========\")\n",
    "    for j in range(1, 10):\n",
    "        print(f\"\\t{i} X {j} = {i*j}\")\n",
    "    print(f\"========================\")\n",
    "\n",
    "\n",
    "# ★ 출력 프로그램\n",
    "data = input(\"Input an integer : \")\n",
    "\n",
    "for i in data:\n",
    "    print(\"★\" * int(i))"
   ]
  },
  {
   "cell_type": "code",
   "execution_count": 49,
   "id": "flying-diesel",
   "metadata": {},
   "outputs": [
    {
     "name": "stdout",
     "output_type": "stream",
     "text": [
      "['red', 'green', 'blue', 'red'] \n",
      "\n",
      "['green', 'blue', 'red']\n",
      "['green', 'red'] \n",
      "\n",
      "[1, 2, 5, 7, 9]\n",
      "[9, 7, 5, 2, 1] \n",
      "\n",
      "[1, 7, 9, 2, 5]\n",
      "[1, 2, 5, 7, 9] \n",
      "\n",
      "[1, 2, 3, 4, 5, 6, 7, 8, 9, 10]\n",
      "10\n",
      "1\n",
      "55 \n",
      "\n",
      "Enter a number: 7\n",
      "Enter a number: 4\n",
      "Enter a number: 2\n",
      "Enter a number: 3\n",
      "Enter a number: done\n",
      "[7.0, 4.0, 2.0, 3.0]\n",
      "- 평균 : 4.0\n",
      "- 최대 : 7.0\n",
      "- 최소 : 2.0\n"
     ]
    }
   ],
   "source": [
    "# List 2\n",
    "\n",
    "# append()\n",
    "colors = list()\n",
    "colors.append(\"red\")\n",
    "colors.append(\"green\")\n",
    "colors.append(\"blue\")\n",
    "colors.append(\"red\")\n",
    "print(colors, \"\\n\")\n",
    "\n",
    "# remove, del\n",
    "colors.remove(\"red\")\n",
    "print(colors)\n",
    "del colors[1]\n",
    "print(colors, \"\\n\")\n",
    "\n",
    "# sort()\n",
    "a = [1, 7, 9, 2, 5]\n",
    "a.sort()\n",
    "print(a)\n",
    "a.sort(reverse=True)\n",
    "print(a, \"\\n\")\n",
    "\n",
    "# sorted()\n",
    "b = [1, 7, 9, 2, 5]\n",
    "sorted(b)\n",
    "print(b)\n",
    "c = sorted(b)\n",
    "print(c, \"\\n\")\n",
    "\n",
    "# 내장함수(max, min, sum)\n",
    "num_list = list(range(1, 11))\n",
    "print(num_list)\n",
    "print(max(num_list))\n",
    "print(min(num_list))\n",
    "print(sum(num_list), \"\\n\")\n",
    "\n",
    "# \"done\"을 입력할 때 까지 사용자로부터 숫자를 입력받아 리스트에 저장,\n",
    "# \"done\"을 입력하면 평균, 최대, 최소값을 출력하는 프로그램(sum, max, min 함수 이용)\n",
    "data = list()\n",
    "_max, _min, avg = 0.0, 0.0, 0.0 \n",
    "\n",
    "while True:\n",
    "    text = input(\"Enter a number: \")\n",
    "    if text == \"done\":\n",
    "        _max = max(data)\n",
    "        _min = min(data)\n",
    "        avg = sum(data) / len(data)\n",
    "        break\n",
    "    data.append(float(text))\n",
    "\n",
    "print(\"%s\\n- 평균 : %.1f\\n- 최대 : %.1f\\n- 최소 : %.1f\" % (data, avg, _max, _min))"
   ]
  },
  {
   "cell_type": "code",
   "execution_count": 55,
   "id": "popular-engagement",
   "metadata": {},
   "outputs": [
    {
     "name": "stdout",
     "output_type": "stream",
     "text": [
      "<class 'int'>\n",
      "(1,)\n",
      "(1, 2, 3) \n",
      "\n",
      "0\n",
      "3\n"
     ]
    }
   ],
   "source": [
    "# tuple\n",
    "\n",
    "t1 = (1)\n",
    "print(type(t1))\n",
    "t2 = (1,)\n",
    "print(t2)\n",
    "t3 = 1, 2, 3\n",
    "print(t3, \"\\n\")\n",
    "\n",
    "# index, count\n",
    "a = (1, 4, 2, 1, 6, 1)\n",
    "print(a.index(1))\n",
    "print(a.count(1))"
   ]
  },
  {
   "cell_type": "code",
   "execution_count": 64,
   "id": "joint-lingerie",
   "metadata": {},
   "outputs": [
    {
     "name": "stdout",
     "output_type": "stream",
     "text": [
      "{1, 2, 3, 4, 5}\n",
      "{3}\n",
      "False \n",
      "\n",
      "word_list type :  <class 'list'> \n",
      "s3 type :  <class 'set'>\n",
      "['H', 'e', 'l', 'l', 'o', 'H', 'e', 'l', 'l', 'o']\n",
      "{'l', 'e', 'o', 'H'} \n",
      "\n",
      "{1, 2, 3, 4, 5}\n",
      "{1, 2, 3, 4, 5, 10}\n",
      "{1, 3, 4, 5, 10}\n",
      "{1, 3, 4, 5, 7, 9, 10}\n",
      "{1, 3, 4, 5, 9, 10}\n",
      "set()\n"
     ]
    }
   ],
   "source": [
    "# set\n",
    "\n",
    "s1 = {1, 2, 3}\n",
    "s2 = {3, 4, 5}\n",
    "\n",
    "print(s1.union(s2))\n",
    "print(s1.intersection(s2))\n",
    "print(s1.issubset(s2), \"\\n\")\n",
    "\n",
    "word = \"Hello\" * 2\n",
    "word_list = list(word)\n",
    "s3 = set(word_list)\n",
    "print(\"word_list type : \", type(word_list), \"\\ns3 type : \", type(s3))\n",
    "print(word_list)\n",
    "print(s3, \"\\n\")\n",
    "\n",
    "# set 메소드\n",
    "s = {1, 2, 3, 4, 5}\n",
    "print(s)\n",
    "s.add(10)\n",
    "print(s)\n",
    "s.remove(2)\n",
    "print(s)\n",
    "s.update([1, 3, 5, 7, 9])\n",
    "print(s)\n",
    "s.discard(7)\n",
    "print(s)\n",
    "s.clear()\n",
    "print(s)"
   ]
  },
  {
   "cell_type": "code",
   "execution_count": 76,
   "id": "mental-possibility",
   "metadata": {},
   "outputs": [
    {
     "name": "stdout",
     "output_type": "stream",
     "text": [
      "{'Kim': 3, 'Park': 4, 'Lee': 10}\n",
      "{'Kim': 2, 'Park': 4, 'Lee': 10, 'Youn': 2} \n",
      "\n",
      "dict_keys(['Kim', 'Park', 'Lee', 'Youn'])\n",
      "dict_values([2, 4, 10, 2])\n",
      "dict_items([('Kim', 2), ('Park', 4), ('Lee', 10), ('Youn', 2)]) \n",
      "\n"
     ]
    }
   ],
   "source": [
    "# dictionary\n",
    "\n",
    "d = {}\n",
    "d = {'Kim':3, 'Park':4, 'Lee':10}\n",
    "print(d)\n",
    "d['Youn'] = 2\n",
    "d['Kim'] = 2\n",
    "print(d, \"\\n\")\n",
    "\n",
    "print(d.keys())\n",
    "print(d.values())\n",
    "print(d.items(), \"\\n\")"
   ]
  },
  {
   "cell_type": "code",
   "execution_count": 84,
   "id": "literary-reference",
   "metadata": {},
   "outputs": [
    {
     "name": "stdout",
     "output_type": "stream",
     "text": [
      "{'Kim': 2, 'Park': 4, 'Lee': 10, 'Youn': 2} \n",
      "\n",
      "Kim\n",
      "2\n",
      "\n",
      "Park\n",
      "4\n",
      "\n",
      "Lee\n",
      "10\n",
      "\n",
      "Youn\n",
      "2\n",
      "\n",
      "Kim\n",
      "Park\n",
      "Lee\n",
      "Youn\n",
      "\n",
      "2\n",
      "4\n",
      "10\n",
      "2\n"
     ]
    }
   ],
   "source": [
    "print(d, \"\\n\")\n",
    "\n",
    "for key in d:\n",
    "    print(key)\n",
    "    print(d[key])\n",
    "    print()\n",
    "    \n",
    "for key in d.keys():\n",
    "    print(key)\n",
    "print()\n",
    "    \n",
    "for item in d.items():\n",
    "    k, v = item\n",
    "    print(v)"
   ]
  },
  {
   "cell_type": "code",
   "execution_count": null,
   "id": "declared-marshall",
   "metadata": {},
   "outputs": [],
   "source": []
  }
 ],
 "metadata": {
  "kernelspec": {
   "display_name": "Python 3",
   "language": "python",
   "name": "python3"
  },
  "language_info": {
   "codemirror_mode": {
    "name": "ipython",
    "version": 3
   },
   "file_extension": ".py",
   "mimetype": "text/x-python",
   "name": "python",
   "nbconvert_exporter": "python",
   "pygments_lexer": "ipython3",
   "version": "3.6.10"
  }
 },
 "nbformat": 4,
 "nbformat_minor": 5
}
