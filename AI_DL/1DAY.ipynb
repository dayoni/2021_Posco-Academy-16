{
 "cells": [
  {
   "cell_type": "code",
   "execution_count": 8,
   "id": "f2c3710e",
   "metadata": {},
   "outputs": [
    {
     "name": "stdout",
     "output_type": "stream",
     "text": [
      "Collecting package metadata (current_repodata.json): done\n",
      "Solving environment: done\n",
      "\n",
      "## Package Plan ##\n",
      "\n",
      "  environment location: /home/piai/anaconda3/envs/dayoni\n",
      "\n",
      "  added / updated specs:\n",
      "    - seaborn\n",
      "\n",
      "\n",
      "The following packages will be downloaded:\n",
      "\n",
      "    package                    |            build\n",
      "    ---------------------------|-----------------\n",
      "    pandas-1.3.4               |   py38h8c16a72_0         9.6 MB\n",
      "    pytz-2021.3                |     pyhd3eb1b0_0         171 KB\n",
      "    seaborn-0.11.2             |     pyhd3eb1b0_0         218 KB\n",
      "    ------------------------------------------------------------\n",
      "                                           Total:        10.0 MB\n",
      "\n",
      "The following NEW packages will be INSTALLED:\n",
      "\n",
      "  bottleneck         pkgs/main/linux-64::bottleneck-1.3.2-py38heb32a55_1\n",
      "  numexpr            pkgs/main/linux-64::numexpr-2.7.3-py38h22e1b3c_1\n",
      "  pandas             pkgs/main/linux-64::pandas-1.3.4-py38h8c16a72_0\n",
      "  pytz               pkgs/main/noarch::pytz-2021.3-pyhd3eb1b0_0\n",
      "  seaborn            pkgs/main/noarch::seaborn-0.11.2-pyhd3eb1b0_0\n",
      "\n",
      "\n",
      "\n",
      "Downloading and Extracting Packages\n",
      "pytz-2021.3          | 171 KB    | ##################################### | 100% \n",
      "pandas-1.3.4         | 9.6 MB    | ##################################### | 100% \n",
      "seaborn-0.11.2       | 218 KB    | ##################################### | 100% \n",
      "Preparing transaction: done\n",
      "Verifying transaction: done\n",
      "Executing transaction: done\n"
     ]
    }
   ],
   "source": [
    "# !는 리눅스 명령어 실행해주는 것\n",
    "! conda install -y seaborn"
   ]
  },
  {
   "cell_type": "code",
   "execution_count": 1,
   "id": "a0825d8f",
   "metadata": {},
   "outputs": [],
   "source": [
    "import torch\n",
    "import numpy as np\n",
    "import sklearn\n",
    "from matplotlib import pyplot as plt\n",
    "import seaborn as sns"
   ]
  },
  {
   "cell_type": "code",
   "execution_count": 2,
   "id": "5c22d0e8",
   "metadata": {},
   "outputs": [],
   "source": [
    "# 해당되는 코드에 연결되어 있는 설명(type, parameter, return ***)\n",
    "?torch.tensor"
   ]
  },
  {
   "cell_type": "code",
   "execution_count": 3,
   "id": "b27f3cc3",
   "metadata": {},
   "outputs": [
    {
     "name": "stdout",
     "output_type": "stream",
     "text": [
      "tensor([[1., 2.],\n",
      "        [3., 4.]], requires_grad=True)\n",
      "tensor([[1., 2.],\n",
      "        [3., 4.]])\n",
      "tensor([[1., 2.],\n",
      "        [3., 4.]], grad_fn=<CloneBackward0>) \n",
      "\n",
      "tensor([[9., 2.],\n",
      "        [3., 4.]], requires_grad=True)\n",
      "tensor([[9., 2.],\n",
      "        [3., 4.]], requires_grad=True)\n"
     ]
    }
   ],
   "source": [
    "a = torch.tensor([[1, 2], [3, 4]], dtype=torch.float, requires_grad=True)\n",
    "# gra는 전파가 안되지만 메모리는 공유하는 복사, 수정 시 연동\n",
    "b = a.detach()\n",
    "# 메모리 공유하지 않는 복사, 수정 시 변동X\n",
    "c = a.clone()\n",
    "\n",
    "print(a)\n",
    "print(b)\n",
    "print(c,'\\n')\n",
    "\n",
    "b[0][0] = 9\n",
    "print(a)\n",
    "c[0][0] = 100\n",
    "print(a)"
   ]
  },
  {
   "cell_type": "code",
   "execution_count": 8,
   "id": "63a96b4d",
   "metadata": {
    "scrolled": false
   },
   "outputs": [
    {
     "name": "stdout",
     "output_type": "stream",
     "text": [
      "Mon Nov 22 10:41:25 2021       \r\n",
      "+-----------------------------------------------------------------------------+\r\n",
      "| NVIDIA-SMI 470.82.00    Driver Version: 470.82.00    CUDA Version: 11.4     |\r\n",
      "|-------------------------------+----------------------+----------------------+\r\n",
      "| GPU  Name        Persistence-M| Bus-Id        Disp.A | Volatile Uncorr. ECC |\r\n",
      "| Fan  Temp  Perf  Pwr:Usage/Cap|         Memory-Usage | GPU-Util  Compute M. |\r\n",
      "|                               |                      |               MIG M. |\r\n",
      "|===============================+======================+======================|\r\n",
      "|   0  NVIDIA GeForce ...  Off  | 00000000:17:00.0 Off |                  N/A |\r\n",
      "| 18%   43C    P8     7W / 215W |   1062MiB /  7982MiB |      0%      Default |\r\n",
      "|                               |                      |                  N/A |\r\n",
      "+-------------------------------+----------------------+----------------------+\r\n",
      "|   1  NVIDIA GeForce ...  Off  | 00000000:B3:00.0  On |                  N/A |\r\n",
      "| 18%   51C    P8    13W / 215W |    341MiB /  7974MiB |      4%      Default |\r\n",
      "|                               |                      |                  N/A |\r\n",
      "+-------------------------------+----------------------+----------------------+\r\n",
      "                                                                               \r\n",
      "+-----------------------------------------------------------------------------+\r\n",
      "| Processes:                                                                  |\r\n",
      "|  GPU   GI   CI        PID   Type   Process name                  GPU Memory |\r\n",
      "|        ID   ID                                                   Usage      |\r\n",
      "|=============================================================================|\r\n",
      "|    0   N/A  N/A      1214      G   /usr/lib/xorg/Xorg                  4MiB |\r\n",
      "|    0   N/A  N/A      1504      G   /usr/lib/xorg/Xorg                  4MiB |\r\n",
      "|    0   N/A  N/A      2822      C   ...a3/envs/dayoni/bin/python     1049MiB |\r\n",
      "|    1   N/A  N/A      1214      G   /usr/lib/xorg/Xorg                 18MiB |\r\n",
      "|    1   N/A  N/A      1327      G   /usr/bin/gnome-shell               70MiB |\r\n",
      "|    1   N/A  N/A      1504      G   /usr/lib/xorg/Xorg                128MiB |\r\n",
      "|    1   N/A  N/A      1619      G   /usr/bin/gnome-shell               82MiB |\r\n",
      "|    1   N/A  N/A      2025      G   ...AAAAAAAAA= --shared-files       34MiB |\r\n",
      "+-----------------------------------------------------------------------------+\r\n"
     ]
    }
   ],
   "source": [
    "#\n",
    "!nvidia-smi"
   ]
  },
  {
   "cell_type": "code",
   "execution_count": 5,
   "id": "54efa189",
   "metadata": {},
   "outputs": [
    {
     "data": {
      "text/plain": [
       "(tensor([[9., 2.],\n",
       "         [3., 4.]], requires_grad=True),\n",
       " tensor([[9, 9],\n",
       "         [3, 4]], device='cuda:0', dtype=torch.int32),\n",
       " device(type='cuda', index=0))"
      ]
     },
     "execution_count": 5,
     "metadata": {},
     "output_type": "execute_result"
    }
   ],
   "source": [
    "device = torch.device('cuda:0' if torch.cuda.is_available() else 'cpu')\n",
    "f = a.to(dtype=torch.int, device=device)\n",
    "f[0][1] = 9\n",
    "a, f, device"
   ]
  },
  {
   "cell_type": "code",
   "execution_count": 6,
   "id": "dbbebde1",
   "metadata": {},
   "outputs": [
    {
     "name": "stdout",
     "output_type": "stream",
     "text": [
      "cuda index :  0\n",
      "GPU 개수 :  2\n",
      "graphic name :  NVIDIA GeForce RTX 2080\n"
     ]
    }
   ],
   "source": [
    "if torch.cuda.is_available():\n",
    "    print('cuda index : ', torch.cuda.current_device())\n",
    "    print('GPU 개수 : ', torch.cuda.device_count())\n",
    "    print('graphic name : ', torch.cuda.get_device_name())"
   ]
  },
  {
   "cell_type": "code",
   "execution_count": 9,
   "id": "aa61a8bb",
   "metadata": {
    "scrolled": true
   },
   "outputs": [
    {
     "data": {
      "text/plain": [
       "(tensor(2), 0, torch.Size([]))"
      ]
     },
     "execution_count": 9,
     "metadata": {},
     "output_type": "execute_result"
    }
   ],
   "source": [
    "x = torch.tensor(2)\n",
    "x, x.dim(), x.shape"
   ]
  },
  {
   "cell_type": "code",
   "execution_count": 11,
   "id": "612a88af",
   "metadata": {},
   "outputs": [
    {
     "data": {
      "text/plain": [
       "(tensor([0.5616, 0.1026]), 1, torch.Size([2]))"
      ]
     },
     "execution_count": 11,
     "metadata": {},
     "output_type": "execute_result"
    }
   ],
   "source": [
    "x = torch.rand(2)\n",
    "x, x.dim(), x.shape"
   ]
  },
  {
   "cell_type": "code",
   "execution_count": 17,
   "id": "8ae59d03",
   "metadata": {},
   "outputs": [
    {
     "data": {
      "text/plain": [
       "(tensor([[0.0550],\n",
       "         [0.5684]]),\n",
       " 2,\n",
       " torch.Size([2, 1]))"
      ]
     },
     "execution_count": 17,
     "metadata": {},
     "output_type": "execute_result"
    }
   ],
   "source": [
    "x = torch.rand(2, 1)\n",
    "x, x.dim(), x.shape"
   ]
  },
  {
   "cell_type": "code",
   "execution_count": 12,
   "id": "e038e912",
   "metadata": {},
   "outputs": [
    {
     "data": {
      "text/plain": [
       "(tensor([[0.7309, 0.6421, 0.7185],\n",
       "         [0.8638, 0.6484, 0.8275]]),\n",
       " 2,\n",
       " torch.Size([2, 3]))"
      ]
     },
     "execution_count": 12,
     "metadata": {},
     "output_type": "execute_result"
    }
   ],
   "source": [
    "x = torch.rand(2, 3)\n",
    "x, x.dim(), x.shape"
   ]
  },
  {
   "cell_type": "code",
   "execution_count": 13,
   "id": "daa6c88a",
   "metadata": {},
   "outputs": [
    {
     "data": {
      "text/plain": [
       "(tensor([[[0.5477, 0.8217, 0.2457, 0.5115, 0.7602],\n",
       "          [0.3892, 0.3415, 0.7365, 0.9543, 0.1797]],\n",
       " \n",
       "         [[0.6642, 0.9298, 0.7299, 0.5160, 0.6932],\n",
       "          [0.0622, 0.9120, 0.2548, 0.2958, 0.0080]],\n",
       " \n",
       "         [[0.8862, 0.0990, 0.0411, 0.6708, 0.4047],\n",
       "          [0.5754, 0.9137, 0.8400, 0.6248, 0.6852]]]),\n",
       " 3,\n",
       " torch.Size([3, 2, 5]))"
      ]
     },
     "execution_count": 13,
     "metadata": {},
     "output_type": "execute_result"
    }
   ],
   "source": [
    "x = torch.rand(3, 2, 5)\n",
    "x, x.dim(), x.shape"
   ]
  },
  {
   "cell_type": "code",
   "execution_count": 19,
   "id": "8137f3da",
   "metadata": {},
   "outputs": [
    {
     "data": {
      "text/plain": [
       "(4, torch.Size([128, 3, 4, 4]))"
      ]
     },
     "execution_count": 19,
     "metadata": {},
     "output_type": "execute_result"
    }
   ],
   "source": [
    "x = torch.rand(128, 3, 4, 4)\n",
    "x.dim(), x.shape"
   ]
  },
  {
   "cell_type": "code",
   "execution_count": 28,
   "id": "a3790728",
   "metadata": {},
   "outputs": [
    {
     "data": {
      "text/plain": [
       "tensor([[[1, 1],\n",
       "         [1, 1]]])"
      ]
     },
     "execution_count": 28,
     "metadata": {},
     "output_type": "execute_result"
    }
   ],
   "source": [
    "x = torch.tensor([[1, 1], [1, 1]])\n",
    "y = torch.unsqueeze(x, 0)\n",
    "y"
   ]
  },
  {
   "cell_type": "code",
   "execution_count": 29,
   "id": "322b6aa3",
   "metadata": {},
   "outputs": [
    {
     "data": {
      "text/plain": [
       "(2, torch.Size([2, 2]), 3, torch.Size([1, 2, 2]))"
      ]
     },
     "execution_count": 29,
     "metadata": {},
     "output_type": "execute_result"
    }
   ],
   "source": [
    "x.dim(), x.shape, y.dim(), y.shape"
   ]
  },
  {
   "cell_type": "markdown",
   "id": "37da3cae",
   "metadata": {},
   "source": [
    "# AUTOGRAD\n",
    "- Gradient method\n",
    "- chain rule : 미분해서 곱하는 것(?)\n",
    "- 3Blue1Brown"
   ]
  },
  {
   "cell_type": "code",
   "execution_count": 34,
   "id": "f9ab2336",
   "metadata": {},
   "outputs": [
    {
     "data": {
      "text/plain": [
       "(tensor([5., 3., 9., 7.], requires_grad=True),\n",
       " tensor([1., 1., 1., 1.], requires_grad=True),\n",
       " tensor(24., grad_fn=<AddBackward0>))"
      ]
     },
     "execution_count": 34,
     "metadata": {},
     "output_type": "execute_result"
    }
   ],
   "source": [
    "x = torch.tensor([5., 3., 9., 7.], requires_grad = True)\n",
    "w = torch.tensor([1., 1., 1., 1.], requires_grad = True)\n",
    "b = torch.tensor(0., requires_grad = True)\n",
    "\n",
    "y = sum(x*w) + b\n",
    "x, w, y"
   ]
  },
  {
   "cell_type": "code",
   "execution_count": 35,
   "id": "a3a1f16e",
   "metadata": {},
   "outputs": [
    {
     "data": {
      "text/plain": [
       "(tensor([1., 1., 1., 1.]), tensor([5., 3., 9., 7.]), tensor(1.))"
      ]
     },
     "execution_count": 35,
     "metadata": {},
     "output_type": "execute_result"
    }
   ],
   "source": [
    "y.backward()\n",
    "x.grad, w.grad, b.grad"
   ]
  },
  {
   "cell_type": "code",
   "execution_count": 36,
   "id": "59534fd0",
   "metadata": {},
   "outputs": [
    {
     "name": "stdout",
     "output_type": "stream",
     "text": [
      "tensor([0.9500, 0.9700, 0.9100, 0.9300], grad_fn=<SubBackward0>)\n"
     ]
    },
    {
     "data": {
      "text/plain": [
       "tensor(22.3600, grad_fn=<AddBackward0>)"
      ]
     },
     "execution_count": 36,
     "metadata": {},
     "output_type": "execute_result"
    }
   ],
   "source": [
    "learning_rate = 0.01\n",
    "w = w - learning_rate * w.grad\n",
    "print(w)\n",
    "z = sum(x*w) + b\n",
    "z"
   ]
  },
  {
   "cell_type": "code",
   "execution_count": null,
   "id": "c0d449df",
   "metadata": {},
   "outputs": [],
   "source": []
  },
  {
   "cell_type": "code",
   "execution_count": null,
   "id": "d7bf4926",
   "metadata": {},
   "outputs": [],
   "source": []
  },
  {
   "cell_type": "code",
   "execution_count": null,
   "id": "eca8cedf",
   "metadata": {},
   "outputs": [],
   "source": []
  },
  {
   "cell_type": "code",
   "execution_count": null,
   "id": "dd30c17c",
   "metadata": {},
   "outputs": [],
   "source": []
  },
  {
   "cell_type": "code",
   "execution_count": null,
   "id": "08c40f2e",
   "metadata": {},
   "outputs": [],
   "source": []
  },
  {
   "cell_type": "code",
   "execution_count": null,
   "id": "fc65d148",
   "metadata": {},
   "outputs": [],
   "source": []
  },
  {
   "cell_type": "code",
   "execution_count": null,
   "id": "1f87ae24",
   "metadata": {},
   "outputs": [],
   "source": []
  },
  {
   "cell_type": "code",
   "execution_count": null,
   "id": "2d6d9e03",
   "metadata": {},
   "outputs": [],
   "source": []
  },
  {
   "cell_type": "code",
   "execution_count": null,
   "id": "28aa5a07",
   "metadata": {},
   "outputs": [],
   "source": []
  },
  {
   "cell_type": "code",
   "execution_count": null,
   "id": "4df50da3",
   "metadata": {},
   "outputs": [],
   "source": []
  },
  {
   "cell_type": "code",
   "execution_count": null,
   "id": "46f1418e",
   "metadata": {},
   "outputs": [],
   "source": []
  },
  {
   "cell_type": "code",
   "execution_count": null,
   "id": "7b919f64",
   "metadata": {},
   "outputs": [],
   "source": []
  },
  {
   "cell_type": "code",
   "execution_count": null,
   "id": "f77c3168",
   "metadata": {},
   "outputs": [],
   "source": []
  }
 ],
 "metadata": {
  "kernelspec": {
   "display_name": "dayoni",
   "language": "python",
   "name": "dayoni"
  },
  "language_info": {
   "codemirror_mode": {
    "name": "ipython",
    "version": 3
   },
   "file_extension": ".py",
   "mimetype": "text/x-python",
   "name": "python",
   "nbconvert_exporter": "python",
   "pygments_lexer": "ipython3",
   "version": "3.8.12"
  },
  "toc": {
   "base_numbering": 1,
   "nav_menu": {},
   "number_sections": true,
   "sideBar": true,
   "skip_h1_title": false,
   "title_cell": "Table of Contents",
   "title_sidebar": "Contents",
   "toc_cell": false,
   "toc_position": {},
   "toc_section_display": true,
   "toc_window_display": false
  }
 },
 "nbformat": 4,
 "nbformat_minor": 5
}
