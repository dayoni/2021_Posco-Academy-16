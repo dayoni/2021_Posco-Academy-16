{
 "cells": [
  {
   "cell_type": "code",
   "execution_count": 1,
   "id": "72c001ab",
   "metadata": {
    "_cell_guid": "b1076dfc-b9ad-4769-8c92-a6c4dae69d19",
    "_uuid": "8f2839f25d086af736a60e9eeb907d3b93b6e0e5",
    "execution": {
     "iopub.execute_input": "2021-09-28T03:33:12.415211Z",
     "iopub.status.busy": "2021-09-28T03:33:12.413730Z",
     "iopub.status.idle": "2021-09-28T03:33:12.494903Z",
     "shell.execute_reply": "2021-09-28T03:33:12.495457Z",
     "shell.execute_reply.started": "2021-09-28T03:19:08.257459Z"
    },
    "papermill": {
     "duration": 0.09644,
     "end_time": "2021-09-28T03:33:12.495772",
     "exception": false,
     "start_time": "2021-09-28T03:33:12.399332",
     "status": "completed"
    },
    "tags": []
   },
   "outputs": [],
   "source": [
    "import os\n",
    "for dirname, _, filenames in os.walk('/kaggle/input'):\n",
    "    for filename in filenames:\n",
    "        print(os.path.join(dirname, filename))"
   ]
  },
  {
   "cell_type": "code",
   "execution_count": 2,
   "id": "23aa5608",
   "metadata": {
    "execution": {
     "iopub.execute_input": "2021-09-28T03:33:12.519410Z",
     "iopub.status.busy": "2021-09-28T03:33:12.518734Z",
     "iopub.status.idle": "2021-09-28T03:33:12.520887Z",
     "shell.execute_reply": "2021-09-28T03:33:12.521271Z",
     "shell.execute_reply.started": "2021-09-28T03:19:10.441467Z"
    },
    "papermill": {
     "duration": 0.014749,
     "end_time": "2021-09-28T03:33:12.521392",
     "exception": false,
     "start_time": "2021-09-28T03:33:12.506643",
     "status": "completed"
    },
    "tags": []
   },
   "outputs": [],
   "source": [
    "# You must modify this root to your data path!\n",
    "root = '/kaggle/input/aibd-15/'"
   ]
  },
  {
   "cell_type": "code",
   "execution_count": 3,
   "id": "f595dc76",
   "metadata": {
    "execution": {
     "iopub.execute_input": "2021-09-28T03:33:12.549170Z",
     "iopub.status.busy": "2021-09-28T03:33:12.542204Z",
     "iopub.status.idle": "2021-09-28T03:33:17.134443Z",
     "shell.execute_reply": "2021-09-28T03:33:17.135254Z",
     "shell.execute_reply.started": "2021-09-28T03:19:11.162084Z"
    },
    "papermill": {
     "duration": 4.604627,
     "end_time": "2021-09-28T03:33:17.135419",
     "exception": false,
     "start_time": "2021-09-28T03:33:12.530792",
     "status": "completed"
    },
    "tags": []
   },
   "outputs": [],
   "source": [
    "# ============================== Do not edit this shell =====================\n",
    "\n",
    "# Dataset Definition\n",
    "\n",
    "import csv\n",
    "import numpy as np\n",
    "import pandas as pd\n",
    "import torch\n",
    "\n",
    "from PIL import Image\n",
    "from torchvision.transforms import ToTensor\n",
    "from torch.utils.data import Dataset\n",
    "\n",
    "class CharDataset(Dataset):\n",
    "    def __init__(self, root, train, transform=None):\n",
    "        self.train = train\n",
    "        if self.train:\n",
    "            root = root + 'train.csv'\n",
    "        else:\n",
    "            root = root + 'test.csv'\n",
    "        self.csv = pd.read_csv(root, header=None)\n",
    "        self.transform = transform\n",
    "        \n",
    "    def __len__(self):\n",
    "        return len(self.csv)\n",
    "    \n",
    "    def __getitem__(self, index):\n",
    "        if self.train:\n",
    "            label = torch.tensor(self.csv.iloc[index,0], dtype=torch.long)\n",
    "            img = np.array(self.csv.iloc[index,1:]/255).reshape(28, 28)\n",
    "            img = Image.fromarray(img)\n",
    "            if self.transform:\n",
    "                img = self.transform(img)\n",
    "            return img, label\n",
    "        else:\n",
    "            img = np.array(self.csv.loc[index]/255).reshape(28, 28)\n",
    "            img = Image.fromarray(img)\n",
    "            if self.transform:\n",
    "                img = self.transform(img)\n",
    "            return img\n",
    "        \n",
    "# ============================== Do not edit this shell ====================="
   ]
  },
  {
   "cell_type": "code",
   "execution_count": 4,
   "id": "2c51e623",
   "metadata": {
    "execution": {
     "iopub.execute_input": "2021-09-28T03:33:17.162314Z",
     "iopub.status.busy": "2021-09-28T03:33:17.161644Z",
     "iopub.status.idle": "2021-09-28T03:33:18.009511Z",
     "shell.execute_reply": "2021-09-28T03:33:18.008987Z",
     "shell.execute_reply.started": "2021-09-28T03:19:15.615357Z"
    },
    "papermill": {
     "duration": 0.863592,
     "end_time": "2021-09-28T03:33:18.009651",
     "exception": false,
     "start_time": "2021-09-28T03:33:17.146059",
     "status": "completed"
    },
    "tags": []
   },
   "outputs": [],
   "source": [
    "# Library Importation\n",
    "import matplotlib.pyplot as plt\n",
    "import numpy as np\n",
    "import pandas as pd\n",
    "import time\n",
    "import torch\n",
    "import torch.nn as nn\n",
    "import torch.nn.functional as F\n",
    "\n",
    "from PIL import Image\n",
    "from IPython.display import clear_output\n",
    "from multiprocessing import cpu_count\n",
    "from sklearn.metrics import confusion_matrix\n",
    "from torch.optim import SGD\n",
    "from torch.utils.data import Dataset, DataLoader, random_split\n",
    "from torchvision.datasets import MNIST\n",
    "from torchvision.transforms import ToTensor"
   ]
  },
  {
   "cell_type": "code",
   "execution_count": 5,
   "id": "428f4b8c",
   "metadata": {
    "execution": {
     "iopub.execute_input": "2021-09-28T03:33:18.079955Z",
     "iopub.status.busy": "2021-09-28T03:33:18.077418Z",
     "iopub.status.idle": "2021-09-28T03:33:18.083831Z",
     "shell.execute_reply": "2021-09-28T03:33:18.084323Z",
     "shell.execute_reply.started": "2021-09-28T03:19:16.570991Z"
    },
    "papermill": {
     "duration": 0.064316,
     "end_time": "2021-09-28T03:33:18.084613",
     "exception": false,
     "start_time": "2021-09-28T03:33:18.020297",
     "status": "completed"
    },
    "tags": []
   },
   "outputs": [
    {
     "name": "stdout",
     "output_type": "stream",
     "text": [
      "GPU will be used in training/validation.\n"
     ]
    }
   ],
   "source": [
    "# Device Preparation\n",
    "device = torch.device(\"cuda:0\" if torch.cuda.is_available() else \"cpu\")\n",
    "print(f'{\"CPU\" if device == \"cpu\" else \"GPU\"} will be used in training/validation.')"
   ]
  },
  {
   "cell_type": "code",
   "execution_count": 6,
   "id": "9c1e8e4c",
   "metadata": {
    "execution": {
     "iopub.execute_input": "2021-09-28T03:33:18.109498Z",
     "iopub.status.busy": "2021-09-28T03:33:18.108921Z",
     "iopub.status.idle": "2021-09-28T03:33:18.112487Z",
     "shell.execute_reply": "2021-09-28T03:33:18.112905Z",
     "shell.execute_reply.started": "2021-09-28T03:19:16.635562Z"
    },
    "papermill": {
     "duration": 0.01798,
     "end_time": "2021-09-28T03:33:18.113042",
     "exception": false,
     "start_time": "2021-09-28T03:33:18.095062",
     "status": "completed"
    },
    "tags": []
   },
   "outputs": [],
   "source": [
    "# Hyper Parameter\n",
    "## Data Loader\n",
    "batch_size = 32\n",
    "\n",
    "## Model\n",
    "hidden_layer = 300\n",
    "\n",
    "## Learning\n",
    "logging_dispfig = True\n",
    "maximum_epoch = 3\n",
    "learning_rate = 0.001"
   ]
  },
  {
   "cell_type": "code",
   "execution_count": 7,
   "id": "848fafc2",
   "metadata": {
    "execution": {
     "iopub.execute_input": "2021-09-28T03:33:18.138899Z",
     "iopub.status.busy": "2021-09-28T03:33:18.138233Z",
     "iopub.status.idle": "2021-09-28T03:33:20.044624Z",
     "shell.execute_reply": "2021-09-28T03:33:20.045060Z",
     "shell.execute_reply.started": "2021-09-28T03:19:16.654891Z"
    },
    "papermill": {
     "duration": 1.921572,
     "end_time": "2021-09-28T03:33:20.045270",
     "exception": false,
     "start_time": "2021-09-28T03:33:18.123698",
     "status": "completed"
    },
    "tags": []
   },
   "outputs": [],
   "source": [
    "# Prepare dataset\n",
    "train_data = CharDataset(root, train=True, transform=ToTensor())\n",
    "train_data, valid_data = random_split(train_data,\n",
    "                                      [round(len(train_data)*0.9),\n",
    "                                       round(len(train_data)*0.1)])\n",
    "test_data = CharDataset(root, train=False, transform=ToTensor())"
   ]
  },
  {
   "cell_type": "code",
   "execution_count": 8,
   "id": "250ffc4b",
   "metadata": {
    "execution": {
     "iopub.execute_input": "2021-09-28T03:33:20.076842Z",
     "iopub.status.busy": "2021-09-28T03:33:20.076102Z",
     "iopub.status.idle": "2021-09-28T03:33:25.698954Z",
     "shell.execute_reply": "2021-09-28T03:33:25.699610Z",
     "shell.execute_reply.started": "2021-09-28T03:19:18.867495Z"
    },
    "papermill": {
     "duration": 5.643749,
     "end_time": "2021-09-28T03:33:25.699805",
     "exception": false,
     "start_time": "2021-09-28T03:33:20.056056",
     "status": "completed"
    },
    "tags": []
   },
   "outputs": [
    {
     "name": "stdout",
     "output_type": "stream",
     "text": [
      "===================== Check the data =========================\n",
      "\n",
      "Train dataset length = 13481\n",
      "Valid dataset length = 1498\n",
      "Test dataset length = 3745\n",
      "\n",
      "Content of Y (Label, type=<class 'torch.Tensor'>) = 0\n",
      "Shape of X (Data, type=<class 'torch.Tensor'>) = torch.Size([1, 28, 28])\n"
     ]
    },
    {
     "name": "stderr",
     "output_type": "stream",
     "text": [
      "/opt/conda/lib/python3.7/site-packages/torchvision/transforms/functional.py:92: UserWarning: The given NumPy array is not writeable, and PyTorch does not support non-writeable tensors. This means you can write to the underlying (supposedly non-writeable) NumPy array using the tensor. You may want to copy the array to protect its data or make it writeable before converting it to a tensor. This type of warning will be suppressed for the rest of this program. (Triggered internally at  /pytorch/torch/csrc/utils/tensor_numpy.cpp:141.)\n",
      "  img = torch.from_numpy(np.array(pic, np.float32, copy=False))\n"
     ]
    },
    {
     "data": {
      "image/png": "[encoded data removed]",
      "text/plain": [
       "<Figure size 432x288 with 1 Axes>"
      ]
     },
     "metadata": {
      "needs_background": "light"
     },
     "output_type": "display_data"
    },
    {
     "name": "stdout",
     "output_type": "stream",
     "text": [
      "================== Check the data loader ======================\n",
      "\n",
      "Idx: 0 / X.shape = torch.Size([32, 1, 28, 28]) / Y.shape = torch.Size([32])\n",
      "\n",
      "Y[0:32] = tensor([9, 3, 5, 2, 3, 8, 2, 2, 1, 8, 5, 4, 2, 4, 7, 0, 4, 2, 1, 1, 3, 0, 9, 6,\n",
      "        4, 0, 5, 9, 0, 5, 9, 2])\n"
     ]
    }
   ],
   "source": [
    "# Check the data\n",
    "print('===================== Check the data =========================\\n')\n",
    "print(f'Train dataset length = {len(train_data)}')\n",
    "print(f'Valid dataset length = {len(valid_data)}')\n",
    "print(f'Test dataset length = {len(test_data)}\\n')\n",
    "\n",
    "train_0_x, train_0_y = train_data[0]\n",
    "print(f'Content of Y (Label, type={type(train_0_y)}) = {train_0_y}')\n",
    "print(f'Shape of X (Data, type={type(train_0_x)}) = {train_0_x.shape}')\n",
    "plt.figure(1)\n",
    "plt.imshow(train_0_x.squeeze())\n",
    "plt.title(f'train_0_x ({train_0_x.squeeze().shape})')\n",
    "plt.show()\n",
    "\n",
    "# Create data loader\n",
    "train_loader = DataLoader(train_data, batch_size=batch_size, shuffle=True,\n",
    "                          pin_memory=True,drop_last=True)\n",
    "valid_loader = DataLoader(valid_data, batch_size=len(valid_data), pin_memory=True)\n",
    "test_loader = DataLoader(test_data, batch_size=len(test_data), pin_memory=True)\n",
    "\n",
    "# Examine the data loader\n",
    "print('================== Check the data loader ======================\\n')\n",
    "train_enumerator = enumerate(train_loader)\n",
    "ex_batch_idx, (ex_data, ex_label) = next(train_enumerator)\n",
    "print(f'Idx: {ex_batch_idx} / X.shape = {ex_data.shape} / Y.shape = {ex_label.shape}\\n')\n",
    "print(f'Y[0:{batch_size}] = {ex_label}')\n",
    "preview_index = 0"
   ]
  },
  {
   "cell_type": "code",
   "execution_count": 9,
   "id": "f0ca911d",
   "metadata": {
    "execution": {
     "iopub.execute_input": "2021-09-28T03:33:25.737624Z",
     "iopub.status.busy": "2021-09-28T03:33:25.736734Z",
     "iopub.status.idle": "2021-09-28T03:33:25.747278Z",
     "shell.execute_reply": "2021-09-28T03:33:25.747726Z",
     "shell.execute_reply.started": "2021-09-28T03:19:24.488140Z"
    },
    "papermill": {
     "duration": 0.035393,
     "end_time": "2021-09-28T03:33:25.747853",
     "exception": false,
     "start_time": "2021-09-28T03:33:25.712460",
     "status": "completed"
    },
    "tags": []
   },
   "outputs": [],
   "source": [
    "# Model\n",
    "def init_model():\n",
    "    global net, loss_fn, optim\n",
    "    net = nn.Sequential(\n",
    "        nn.Linear(len(train_0_x.view([-1])), hidden_layer),\n",
    "        nn.ReLU(),\n",
    "        nn.Linear(hidden_layer, 10, bias=False)\n",
    "    ).to(device)\n",
    "    loss_fn = nn.CrossEntropyLoss()\n",
    "    optim = SGD(net.parameters(), lr=learning_rate)\n",
    "\n",
    "# Epoch\n",
    "def init_epoch():\n",
    "    global epoch_cnt\n",
    "    epoch_cnt = 0\n",
    "\n",
    "    \n",
    "def epoch(data_loader):\n",
    "    # One epoch : gets data_loader as input and returns loss / accuracy, and\n",
    "    #             last prediction value / its label(truth) value for future use\n",
    "    global epoch_cnt\n",
    "    iter_loss, iter_acc = [], []\n",
    "\n",
    "    last_out, last_label = None, None\n",
    "    last_grad_performed = False\n",
    "\n",
    "    # Mini-batch iterations\n",
    "    for _data, _label in data_loader:\n",
    "        data, label = _data.view([len(_data), -1]).to(device), _label.to(device)\n",
    "\n",
    "        # 1. Feed-forward\n",
    "        onehot_out = net(data)\n",
    "\n",
    "        # 2. Calculate accuracy\n",
    "        _, out = torch.max(onehot_out, 1)\n",
    "        acc_partial = (out == label).float().sum()\n",
    "        acc_partial = acc_partial / len(label)\n",
    "        iter_acc.append(acc_partial.item())\n",
    "\n",
    "        # 3. Calculate loss\n",
    "        loss = loss_fn(onehot_out, label)\n",
    "        iter_loss.append(loss.item())\n",
    "\n",
    "        # 4. Backward propagation if not in `torch.no_grad()`\n",
    "        if onehot_out.requires_grad:\n",
    "            optim.zero_grad()\n",
    "            loss.backward()\n",
    "            optim.step()\n",
    "            last_grad_performed = True\n",
    "\n",
    "        # 5. Save current iteration data for future use\n",
    "        last_out = out.cpu().detach()\n",
    "        last_label = _label\n",
    "\n",
    "    # Up epoch count if backward propagation is done\n",
    "    if last_grad_performed:\n",
    "        epoch_cnt += 1\n",
    "\n",
    "    return np.average(iter_loss), np.average(iter_acc), last_out, last_label\n",
    "\n",
    "\n",
    "def epoch_not_finished():\n",
    "    # For now, let's repeat training fixed times, e.g. 25 times.\n",
    "    # We will learn how to determine training stop or continue later.\n",
    "    return epoch_cnt < maximum_epoch\n",
    "\n",
    "# Logging\n",
    "def init_log():\n",
    "    global log_stack, iter_log, tloss_log, tacc_log, vloss_log, vacc_log, time_log\n",
    "    iter_log, tloss_log, tacc_log, vloss_log, vacc_log = [], [], [], [], []\n",
    "    time_log, log_stack = [], []\n",
    "  \n",
    "  \n",
    "def record_train_log(_tloss, _tacc, _time):\n",
    "    # Push time, training loss, training accuracy, and epoch count into lists\n",
    "    time_log.append(_time)\n",
    "    tloss_log.append(_tloss)\n",
    "    tacc_log.append(_tacc)\n",
    "    iter_log.append(epoch_cnt)\n",
    "  \n",
    "  \n",
    "def record_valid_log(_vloss, _vacc):\n",
    "    # Push validation loss and validation accuracy into each list\n",
    "    vloss_log.append(_vloss)\n",
    "    vacc_log.append(_vacc)\n",
    "\n",
    "    \n",
    "def last(log_list):\n",
    "    # Get the last member of list. If empty, return -1.\n",
    "    if len(log_list) > 0: return log_list[len(log_list) - 1]\n",
    "    else: return -1\n",
    "\n",
    "\n",
    "def print_log():\n",
    "    # Generate log string and put it into log stack\n",
    "    log_str = f'Iter: {last(iter_log):>4d} >> T_loss {last(tloss_log):<8.5f}   ' \\\n",
    "          + f'T_acc {last(tacc_log):<6.5f}   V_loss {last(vloss_log):<8.5f}   ' \\\n",
    "          + f'V_acc {last(vacc_log):<6.5f}   🕒 {last(time_log):5.3f}s'\n",
    "    log_stack.append(log_str)\n",
    "  \n",
    "  # Draw figure if want\n",
    "    if logging_dispfig:\n",
    "        hist_fig, loss_axis = plt.subplots(figsize=(10, 3), dpi=99)\n",
    "        hist_fig.patch.set_facecolor('white')\n",
    "\n",
    "        # Draw loss lines\n",
    "        loss_t_line = plt.plot(iter_log, tloss_log, label='Train Loss', color='#FF9999', marker='o')\n",
    "        loss_v_line = plt.plot(iter_log, vloss_log, label='Valid Loss', color='#99B0FF', marker='s')\n",
    "        loss_axis.set_xlabel('epoch')\n",
    "        loss_axis.set_ylabel('loss')\n",
    "\n",
    "        # Draw accuracy lines\n",
    "        acc_axis = loss_axis.twinx()\n",
    "        acc_t_line = acc_axis.plot(iter_log, tacc_log, label='Train Acc.', color='#FF0000', marker='+')\n",
    "        acc_v_line = acc_axis.plot(iter_log, vacc_log, label='Valid Acc.', color='#003AFF', marker='x')\n",
    "        acc_axis.set_ylabel('accuracy')\n",
    "\n",
    "        # Append annotations\n",
    "        hist_lines = loss_t_line + loss_v_line + acc_t_line + acc_v_line\n",
    "        loss_axis.legend(hist_lines, [l.get_label() for l in hist_lines])\n",
    "        loss_axis.grid()\n",
    "        plt.title(f'Learning history until epoch {last(iter_log)}')\n",
    "        plt.draw()\n",
    "    \n",
    "  # Print log\n",
    "    clear_output(wait=True)\n",
    "    if logging_dispfig: plt.show()\n",
    "    for idx in reversed(range(len(log_stack))):\n",
    "        print(log_stack[idx])"
   ]
  },
  {
   "cell_type": "code",
   "execution_count": 10,
   "id": "0eb6a088",
   "metadata": {
    "execution": {
     "iopub.execute_input": "2021-09-28T03:33:25.778536Z",
     "iopub.status.busy": "2021-09-28T03:33:25.777746Z",
     "iopub.status.idle": "2021-09-28T03:33:54.444084Z",
     "shell.execute_reply": "2021-09-28T03:33:54.444788Z",
     "shell.execute_reply.started": "2021-09-28T03:19:24.514549Z"
    },
    "papermill": {
     "duration": 28.684518,
     "end_time": "2021-09-28T03:33:54.444984",
     "exception": false,
     "start_time": "2021-09-28T03:33:25.760466",
     "status": "completed"
    },
    "tags": []
   },
   "outputs": [
    {
     "data": {
      "image/png": "[encoded data removed]",
      "text/plain": [
       "<Figure size 990x297 with 2 Axes>"
      ]
     },
     "metadata": {},
     "output_type": "display_data"
    },
    {
     "name": "stdout",
     "output_type": "stream",
     "text": [
      "Iter:    3 >> T_loss 1.55970    T_acc 0.74629   V_loss 1.42052    V_acc 0.76302   🕒 8.295s\n",
      "Iter:    2 >> T_loss 1.85781    T_acc 0.63072   V_loss 1.69960    V_acc 0.70561   🕒 8.253s\n",
      "Iter:    1 >> T_loss 2.16113    T_acc 0.36498   V_loss 2.00940    V_acc 0.54406   🕒 8.629s\n",
      "\n",
      " Training completed!\n"
     ]
    }
   ],
   "source": [
    "# Training Initialization\n",
    "init_model()\n",
    "init_epoch()\n",
    "init_log()\n",
    "\n",
    "# Training Iteration\n",
    "while epoch_not_finished():\n",
    "    start_time = time.time()\n",
    "    tloss, tacc, _, _ = epoch(train_loader)\n",
    "    end_time = time.time()\n",
    "    time_taken = end_time - start_time\n",
    "    record_train_log(tloss, tacc, time_taken)\n",
    "    with torch.no_grad():\n",
    "        vloss, vacc, _, _ = epoch(valid_loader)\n",
    "        record_valid_log(vloss, vacc)\n",
    "    print_log()\n",
    "    \n",
    "print('\\n Training completed!')"
   ]
  },
  {
   "cell_type": "code",
   "execution_count": 11,
   "id": "c08eb998",
   "metadata": {
    "execution": {
     "iopub.execute_input": "2021-09-28T03:33:54.477710Z",
     "iopub.status.busy": "2021-09-28T03:33:54.476872Z",
     "iopub.status.idle": "2021-09-28T03:33:56.296838Z",
     "shell.execute_reply": "2021-09-28T03:33:56.296362Z",
     "shell.execute_reply.started": "2021-09-28T03:22:13.007096Z"
    },
    "papermill": {
     "duration": 1.837161,
     "end_time": "2021-09-28T03:33:56.296972",
     "exception": false,
     "start_time": "2021-09-28T03:33:54.459811",
     "status": "completed"
    },
    "tags": []
   },
   "outputs": [],
   "source": [
    "# Save prediction vector to CSV file\n",
    "\n",
    "# Before run this code, here put your save path (only for local server not kaggle kernel)\n",
    "save_root = './submission.csv'   # <--- only edit this path\n",
    "\n",
    "# After run this code, you must check that the shape of 'out' variable is 3745.\n",
    "# out.shape == torch.Size([3745])\n",
    "\n",
    "\n",
    "# ============================== Do not edit under this line ============================ \n",
    "for _data in test_loader:\n",
    "    data = _data.view([len(_data), -1]).to(device)\n",
    "\n",
    "    # 1. Feed-forward\n",
    "    onehot_out = net(data)\n",
    "    _, out = torch.max(onehot_out, 1)\n",
    "    \n",
    "assert out.shape == torch.Size([3745]), 'Shape of out must torch.Size([3745])'\n",
    "\n",
    "import csv\n",
    "\n",
    "# 덮어쓰기 방지를 위해 이미 파일이 존재하면 삭제\n",
    "if os.path.isfile(save_root):\n",
    "    os.remove(save_root)\n",
    "\n",
    "# 첫 행에 'id' 'lable' 그 다음 행부터 idx와 label 넣어서 csv 저장\n",
    "for idx, pred in enumerate(list(out.cpu())):\n",
    "    with open(save_root, 'a', newline='') as f:\n",
    "        writer = csv.writer(f)\n",
    "        if idx == 0:\n",
    "            writer.writerow(['Id', 'Category'])\n",
    "        pred = np.concatenate(([idx], [pred]))\n",
    "        writer.writerow(pred)\n",
    "# ============================== Do not edit under this line ============================"
   ]
  },
  {
   "cell_type": "code",
   "execution_count": null,
   "id": "92ef2ac6",
   "metadata": {
    "papermill": {
     "duration": 0.013061,
     "end_time": "2021-09-28T03:33:56.323711",
     "exception": false,
     "start_time": "2021-09-28T03:33:56.310650",
     "status": "completed"
    },
    "tags": []
   },
   "outputs": [],
   "source": []
  }
 ],
 "metadata": {
  "kernelspec": {
   "display_name": "dayoni",
   "language": "python",
   "name": "dayoni"
  },
  "language_info": {
   "codemirror_mode": {
    "name": "ipython",
    "version": 3
   },
   "file_extension": ".py",
   "mimetype": "text/x-python",
   "name": "python",
   "nbconvert_exporter": "python",
   "pygments_lexer": "ipython3",
   "version": "3.8.12"
  },
  "papermill": {
   "default_parameters": {},
   "duration": 51.647291,
   "end_time": "2021-09-28T03:33:57.477049",
   "environment_variables": {},
   "exception": null,
   "input_path": "__notebook__.ipynb",
   "output_path": "__notebook__.ipynb",
   "parameters": {},
   "start_time": "2021-09-28T03:33:05.829758",
   "version": "2.3.3"
  },
  "toc": {
   "base_numbering": 1,
   "nav_menu": {},
   "number_sections": true,
   "sideBar": true,
   "skip_h1_title": false,
   "title_cell": "Table of Contents",
   "title_sidebar": "Contents",
   "toc_cell": false,
   "toc_position": {},
   "toc_section_display": true,
   "toc_window_display": false
  }
 },
 "nbformat": 4,
 "nbformat_minor": 5
}
