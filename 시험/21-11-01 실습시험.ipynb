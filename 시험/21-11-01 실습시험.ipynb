{
 "cells": [
  {
   "cell_type": "code",
   "execution_count": 27,
   "id": "e75e6725",
   "metadata": {},
   "outputs": [],
   "source": [
    "import numpy as np\n",
    "from scipy import stats\n",
    "import scipy.stats\n",
    "from scipy.stats import shapiro\n",
    "import pandas as pd\n",
    "import statsmodels.api as sm\n",
    "import matplotlib.pyplot as plt\n",
    "import seaborn as sns\n",
    "from statsmodels.stats.proportion import proportions_ztest\n",
    "from statsmodels.formula.api import ols\n",
    "from statsmodels.api import qqplot, add_constant\n",
    "import statsmodels.formula.api as smf\n",
    "from statsmodels.stats.stattools import omni_normtest"
   ]
  },
  {
   "cell_type": "markdown",
   "id": "8f98153c",
   "metadata": {},
   "source": [
    "___ \n",
    "# <span style=\"color:red\">문제 21</span>"
   ]
  },
  {
   "cell_type": "code",
   "execution_count": 33,
   "id": "3adfc56c",
   "metadata": {
    "scrolled": false
   },
   "outputs": [
    {
     "data": {
      "text/html": [
       "<div>\n",
       "<style scoped>\n",
       "    .dataframe tbody tr th:only-of-type {\n",
       "        vertical-align: middle;\n",
       "    }\n",
       "\n",
       "    .dataframe tbody tr th {\n",
       "        vertical-align: top;\n",
       "    }\n",
       "\n",
       "    .dataframe thead th {\n",
       "        text-align: right;\n",
       "    }\n",
       "</style>\n",
       "<table border=\"1\" class=\"dataframe\">\n",
       "  <thead>\n",
       "    <tr style=\"text-align: right;\">\n",
       "      <th></th>\n",
       "      <th>A 부서</th>\n",
       "      <th>B 부서</th>\n",
       "      <th>C 부서</th>\n",
       "      <th>D 부서</th>\n",
       "    </tr>\n",
       "  </thead>\n",
       "  <tbody>\n",
       "    <tr>\n",
       "      <th>count</th>\n",
       "      <td>10.000000</td>\n",
       "      <td>10.000000</td>\n",
       "      <td>10.000000</td>\n",
       "      <td>10.00000</td>\n",
       "    </tr>\n",
       "    <tr>\n",
       "      <th>mean</th>\n",
       "      <td>25.000000</td>\n",
       "      <td>30.700000</td>\n",
       "      <td>25.600000</td>\n",
       "      <td>20.50000</td>\n",
       "    </tr>\n",
       "    <tr>\n",
       "      <th>std</th>\n",
       "      <td>4.109609</td>\n",
       "      <td>1.567021</td>\n",
       "      <td>3.657564</td>\n",
       "      <td>3.17105</td>\n",
       "    </tr>\n",
       "    <tr>\n",
       "      <th>min</th>\n",
       "      <td>20.000000</td>\n",
       "      <td>28.000000</td>\n",
       "      <td>19.000000</td>\n",
       "      <td>16.00000</td>\n",
       "    </tr>\n",
       "    <tr>\n",
       "      <th>25%</th>\n",
       "      <td>23.000000</td>\n",
       "      <td>30.000000</td>\n",
       "      <td>24.250000</td>\n",
       "      <td>18.25000</td>\n",
       "    </tr>\n",
       "    <tr>\n",
       "      <th>50%</th>\n",
       "      <td>24.500000</td>\n",
       "      <td>30.500000</td>\n",
       "      <td>25.500000</td>\n",
       "      <td>20.00000</td>\n",
       "    </tr>\n",
       "    <tr>\n",
       "      <th>75%</th>\n",
       "      <td>26.500000</td>\n",
       "      <td>31.000000</td>\n",
       "      <td>28.500000</td>\n",
       "      <td>22.75000</td>\n",
       "    </tr>\n",
       "    <tr>\n",
       "      <th>max</th>\n",
       "      <td>33.000000</td>\n",
       "      <td>34.000000</td>\n",
       "      <td>30.000000</td>\n",
       "      <td>25.00000</td>\n",
       "    </tr>\n",
       "  </tbody>\n",
       "</table>\n",
       "</div>"
      ],
      "text/plain": [
       "            A 부서       B 부서       C 부서      D 부서\n",
       "count  10.000000  10.000000  10.000000  10.00000\n",
       "mean   25.000000  30.700000  25.600000  20.50000\n",
       "std     4.109609   1.567021   3.657564   3.17105\n",
       "min    20.000000  28.000000  19.000000  16.00000\n",
       "25%    23.000000  30.000000  24.250000  18.25000\n",
       "50%    24.500000  30.500000  25.500000  20.00000\n",
       "75%    26.500000  31.000000  28.500000  22.75000\n",
       "max    33.000000  34.000000  30.000000  25.00000"
      ]
     },
     "execution_count": 33,
     "metadata": {},
     "output_type": "execute_result"
    }
   ],
   "source": [
    "df = pd.read_csv(\"./전표처리시간.csv\",  encoding='euc-kr')\n",
    "df.describe()"
   ]
  },
  {
   "cell_type": "code",
   "execution_count": 34,
   "id": "9f6d3de8",
   "metadata": {
    "scrolled": true
   },
   "outputs": [
    {
     "name": "stdout",
     "output_type": "stream",
     "text": [
      "35분 이상 소요될 확률 15.9%\n"
     ]
    }
   ],
   "source": [
    "mu = (25.0 + 3.7 + 25.6 + 20.5) / 4\n",
    "x = 35\n",
    "sigma = x-mu\n",
    "\n",
    "prob = stats.norm.cdf(x, mu, sigma)\n",
    "print(\"{0}분 이상 소요될 확률 {1:.1f}%\".format(x, (1-prob)*100))"
   ]
  },
  {
   "cell_type": "markdown",
   "id": "d1f5e465",
   "metadata": {},
   "source": [
    "___ \n",
    "# <span style=\"color:red\">문제 22</span>"
   ]
  },
  {
   "cell_type": "code",
   "execution_count": 47,
   "id": "18d26876",
   "metadata": {
    "scrolled": true
   },
   "outputs": [
    {
     "name": "stdout",
     "output_type": "stream",
     "text": [
      "P(X=0 = 0.773781)\n",
      "P(X=1 = 0.203627)\n",
      "P(X=2 = 0.021434)\n",
      "P(X=3 = 0.001128)\n",
      "P(X=4 = 0.000030)\n",
      "P(X=5 = 0.000000)\n",
      "\n",
      "불량품이 없을 경우의 확률 : 0.7737809375\n",
      "5개중 2개 이상이 불량일 확률 : 0.25080362499999986\n"
     ]
    }
   ],
   "source": [
    "n = 5\n",
    "\n",
    "for i in range(n+1):\n",
    "    prob = stats.binom.pmf(k=i, n=n, p=0.05)\n",
    "    if i == 0:\n",
    "        a = prob\n",
    "    elif i >= 2:\n",
    "        b += prob\n",
    "    print(\"P(X={0} = {1:.6f})\".format(i, prob))\n",
    "\n",
    "print(f\"\\n불량품이 없을 경우의 확률 : {a}\")\n",
    "print(f\"5개중 2개 이상이 불량일 확률 : {b}\")"
   ]
  },
  {
   "cell_type": "code",
   "execution_count": null,
   "id": "b95013e9",
   "metadata": {},
   "outputs": [],
   "source": []
  },
  {
   "cell_type": "code",
   "execution_count": null,
   "id": "99d830b1",
   "metadata": {},
   "outputs": [],
   "source": []
  },
  {
   "cell_type": "code",
   "execution_count": null,
   "id": "ee0ca636",
   "metadata": {},
   "outputs": [],
   "source": []
  },
  {
   "cell_type": "code",
   "execution_count": null,
   "id": "82a5f12c",
   "metadata": {},
   "outputs": [],
   "source": []
  },
  {
   "cell_type": "code",
   "execution_count": null,
   "id": "7774fc4b",
   "metadata": {},
   "outputs": [],
   "source": []
  },
  {
   "cell_type": "code",
   "execution_count": null,
   "id": "ebc9167c",
   "metadata": {},
   "outputs": [],
   "source": []
  },
  {
   "cell_type": "code",
   "execution_count": null,
   "id": "3fa1df72",
   "metadata": {},
   "outputs": [],
   "source": []
  },
  {
   "cell_type": "code",
   "execution_count": null,
   "id": "70f2e519",
   "metadata": {},
   "outputs": [],
   "source": []
  }
 ],
 "metadata": {
  "kernelspec": {
   "display_name": "Python 3",
   "language": "python",
   "name": "python3"
  },
  "language_info": {
   "codemirror_mode": {
    "name": "ipython",
    "version": 3
   },
   "file_extension": ".py",
   "mimetype": "text/x-python",
   "name": "python",
   "nbconvert_exporter": "python",
   "pygments_lexer": "ipython3",
   "version": "3.8.8"
  }
 },
 "nbformat": 4,
 "nbformat_minor": 5
}
