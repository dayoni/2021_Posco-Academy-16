{
 "cells": [
  {
   "cell_type": "code",
   "execution_count": 119,
   "id": "covered-scholar",
   "metadata": {},
   "outputs": [],
   "source": [
    "import numpy as np\n",
    "from scipy import stats\n",
    "import scipy.stats\n",
    "from scipy.stats import shapiro\n",
    "import pandas as pd\n",
    "import statsmodels.api as sm\n",
    "import matplotlib.pyplot as plt\n",
    "import seaborn as sns\n",
    "from statsmodels.stats.proportion import proportions_ztest"
   ]
  },
  {
   "cell_type": "markdown",
   "id": "multiple-luxembourg",
   "metadata": {},
   "source": [
    "# 문제 1  \n",
    "- #### 실습파일 2sample_t_test.csv를 불러온다.\n",
    "- #### 변수 Mat_A와 Mat_B에 대해 각각 정규성을 검정합니다."
   ]
  },
  {
   "cell_type": "markdown",
   "id": "fewer-camcorder",
   "metadata": {},
   "source": [
    "### Mat_A  \n",
    "\n",
    "- #### 1. 결측치의 유무를 확인한다.\n",
    "- #### 2. 결측치가 있다면, 결측치를 제거한다,\n",
    "- #### 3. 'Mat_A'를 기준으로 data를 추출한다.\n",
    "- #### 4. 추출된 data를 기반으로 정규성 검정을 수행한다.\n",
    "- #### 5. 정규성 검사 결과를 토대로 t-test 검정을 수행하여, 통계량과 p-value 값을 분석한다."
   ]
  },
  {
   "cell_type": "code",
   "execution_count": 120,
   "id": "monthly-upper",
   "metadata": {},
   "outputs": [
    {
     "data": {
      "text/html": [
       "<div>\n",
       "<style scoped>\n",
       "    .dataframe tbody tr th:only-of-type {\n",
       "        vertical-align: middle;\n",
       "    }\n",
       "\n",
       "    .dataframe tbody tr th {\n",
       "        vertical-align: top;\n",
       "    }\n",
       "\n",
       "    .dataframe thead th {\n",
       "        text-align: right;\n",
       "    }\n",
       "</style>\n",
       "<table border=\"1\" class=\"dataframe\">\n",
       "  <thead>\n",
       "    <tr style=\"text-align: right;\">\n",
       "      <th></th>\n",
       "      <th>Mat_A</th>\n",
       "      <th>Mat_B</th>\n",
       "      <th>Total</th>\n",
       "      <th>Sub</th>\n",
       "    </tr>\n",
       "  </thead>\n",
       "  <tbody>\n",
       "    <tr>\n",
       "      <th>0</th>\n",
       "      <td>False</td>\n",
       "      <td>False</td>\n",
       "      <td>False</td>\n",
       "      <td>False</td>\n",
       "    </tr>\n",
       "    <tr>\n",
       "      <th>1</th>\n",
       "      <td>False</td>\n",
       "      <td>False</td>\n",
       "      <td>False</td>\n",
       "      <td>False</td>\n",
       "    </tr>\n",
       "    <tr>\n",
       "      <th>2</th>\n",
       "      <td>False</td>\n",
       "      <td>False</td>\n",
       "      <td>False</td>\n",
       "      <td>False</td>\n",
       "    </tr>\n",
       "    <tr>\n",
       "      <th>3</th>\n",
       "      <td>False</td>\n",
       "      <td>False</td>\n",
       "      <td>False</td>\n",
       "      <td>False</td>\n",
       "    </tr>\n",
       "    <tr>\n",
       "      <th>4</th>\n",
       "      <td>False</td>\n",
       "      <td>False</td>\n",
       "      <td>False</td>\n",
       "      <td>False</td>\n",
       "    </tr>\n",
       "    <tr>\n",
       "      <th>5</th>\n",
       "      <td>False</td>\n",
       "      <td>False</td>\n",
       "      <td>False</td>\n",
       "      <td>False</td>\n",
       "    </tr>\n",
       "    <tr>\n",
       "      <th>6</th>\n",
       "      <td>False</td>\n",
       "      <td>False</td>\n",
       "      <td>False</td>\n",
       "      <td>False</td>\n",
       "    </tr>\n",
       "    <tr>\n",
       "      <th>7</th>\n",
       "      <td>False</td>\n",
       "      <td>False</td>\n",
       "      <td>False</td>\n",
       "      <td>False</td>\n",
       "    </tr>\n",
       "    <tr>\n",
       "      <th>8</th>\n",
       "      <td>False</td>\n",
       "      <td>False</td>\n",
       "      <td>False</td>\n",
       "      <td>False</td>\n",
       "    </tr>\n",
       "    <tr>\n",
       "      <th>9</th>\n",
       "      <td>False</td>\n",
       "      <td>False</td>\n",
       "      <td>False</td>\n",
       "      <td>False</td>\n",
       "    </tr>\n",
       "    <tr>\n",
       "      <th>10</th>\n",
       "      <td>True</td>\n",
       "      <td>True</td>\n",
       "      <td>False</td>\n",
       "      <td>False</td>\n",
       "    </tr>\n",
       "    <tr>\n",
       "      <th>11</th>\n",
       "      <td>True</td>\n",
       "      <td>True</td>\n",
       "      <td>False</td>\n",
       "      <td>False</td>\n",
       "    </tr>\n",
       "    <tr>\n",
       "      <th>12</th>\n",
       "      <td>True</td>\n",
       "      <td>True</td>\n",
       "      <td>False</td>\n",
       "      <td>False</td>\n",
       "    </tr>\n",
       "    <tr>\n",
       "      <th>13</th>\n",
       "      <td>True</td>\n",
       "      <td>True</td>\n",
       "      <td>False</td>\n",
       "      <td>False</td>\n",
       "    </tr>\n",
       "    <tr>\n",
       "      <th>14</th>\n",
       "      <td>True</td>\n",
       "      <td>True</td>\n",
       "      <td>False</td>\n",
       "      <td>False</td>\n",
       "    </tr>\n",
       "    <tr>\n",
       "      <th>15</th>\n",
       "      <td>True</td>\n",
       "      <td>True</td>\n",
       "      <td>False</td>\n",
       "      <td>False</td>\n",
       "    </tr>\n",
       "    <tr>\n",
       "      <th>16</th>\n",
       "      <td>True</td>\n",
       "      <td>True</td>\n",
       "      <td>False</td>\n",
       "      <td>False</td>\n",
       "    </tr>\n",
       "    <tr>\n",
       "      <th>17</th>\n",
       "      <td>True</td>\n",
       "      <td>True</td>\n",
       "      <td>False</td>\n",
       "      <td>False</td>\n",
       "    </tr>\n",
       "    <tr>\n",
       "      <th>18</th>\n",
       "      <td>True</td>\n",
       "      <td>True</td>\n",
       "      <td>False</td>\n",
       "      <td>False</td>\n",
       "    </tr>\n",
       "    <tr>\n",
       "      <th>19</th>\n",
       "      <td>True</td>\n",
       "      <td>True</td>\n",
       "      <td>False</td>\n",
       "      <td>False</td>\n",
       "    </tr>\n",
       "  </tbody>\n",
       "</table>\n",
       "</div>"
      ],
      "text/plain": [
       "    Mat_A  Mat_B  Total    Sub\n",
       "0   False  False  False  False\n",
       "1   False  False  False  False\n",
       "2   False  False  False  False\n",
       "3   False  False  False  False\n",
       "4   False  False  False  False\n",
       "5   False  False  False  False\n",
       "6   False  False  False  False\n",
       "7   False  False  False  False\n",
       "8   False  False  False  False\n",
       "9   False  False  False  False\n",
       "10   True   True  False  False\n",
       "11   True   True  False  False\n",
       "12   True   True  False  False\n",
       "13   True   True  False  False\n",
       "14   True   True  False  False\n",
       "15   True   True  False  False\n",
       "16   True   True  False  False\n",
       "17   True   True  False  False\n",
       "18   True   True  False  False\n",
       "19   True   True  False  False"
      ]
     },
     "execution_count": 120,
     "metadata": {},
     "output_type": "execute_result"
    }
   ],
   "source": [
    "# 데이터 불러오기\n",
    "ds_camshaft1 = pd.read_csv('2sample_t_test.csv')\n",
    "\n",
    "# 결측치 유무 확인\n",
    "ds_camshaft1.isnull()"
   ]
  },
  {
   "cell_type": "code",
   "execution_count": 121,
   "id": "small-possibility",
   "metadata": {},
   "outputs": [
    {
     "data": {
      "text/html": [
       "<div>\n",
       "<style scoped>\n",
       "    .dataframe tbody tr th:only-of-type {\n",
       "        vertical-align: middle;\n",
       "    }\n",
       "\n",
       "    .dataframe tbody tr th {\n",
       "        vertical-align: top;\n",
       "    }\n",
       "\n",
       "    .dataframe thead th {\n",
       "        text-align: right;\n",
       "    }\n",
       "</style>\n",
       "<table border=\"1\" class=\"dataframe\">\n",
       "  <thead>\n",
       "    <tr style=\"text-align: right;\">\n",
       "      <th></th>\n",
       "      <th>Mat_A</th>\n",
       "      <th>Mat_B</th>\n",
       "      <th>Total</th>\n",
       "      <th>Sub</th>\n",
       "    </tr>\n",
       "  </thead>\n",
       "  <tbody>\n",
       "    <tr>\n",
       "      <th>0</th>\n",
       "      <td>73.4</td>\n",
       "      <td>68.7</td>\n",
       "      <td>73.4</td>\n",
       "      <td>1</td>\n",
       "    </tr>\n",
       "    <tr>\n",
       "      <th>1</th>\n",
       "      <td>77.0</td>\n",
       "      <td>71.4</td>\n",
       "      <td>77.0</td>\n",
       "      <td>1</td>\n",
       "    </tr>\n",
       "    <tr>\n",
       "      <th>2</th>\n",
       "      <td>73.7</td>\n",
       "      <td>69.8</td>\n",
       "      <td>73.7</td>\n",
       "      <td>1</td>\n",
       "    </tr>\n",
       "    <tr>\n",
       "      <th>3</th>\n",
       "      <td>73.3</td>\n",
       "      <td>75.3</td>\n",
       "      <td>73.3</td>\n",
       "      <td>1</td>\n",
       "    </tr>\n",
       "    <tr>\n",
       "      <th>4</th>\n",
       "      <td>73.1</td>\n",
       "      <td>71.3</td>\n",
       "      <td>73.1</td>\n",
       "      <td>1</td>\n",
       "    </tr>\n",
       "    <tr>\n",
       "      <th>5</th>\n",
       "      <td>71.5</td>\n",
       "      <td>72.7</td>\n",
       "      <td>71.5</td>\n",
       "      <td>1</td>\n",
       "    </tr>\n",
       "    <tr>\n",
       "      <th>6</th>\n",
       "      <td>74.5</td>\n",
       "      <td>66.9</td>\n",
       "      <td>74.5</td>\n",
       "      <td>1</td>\n",
       "    </tr>\n",
       "    <tr>\n",
       "      <th>7</th>\n",
       "      <td>77.5</td>\n",
       "      <td>70.2</td>\n",
       "      <td>77.5</td>\n",
       "      <td>1</td>\n",
       "    </tr>\n",
       "    <tr>\n",
       "      <th>8</th>\n",
       "      <td>76.4</td>\n",
       "      <td>74.4</td>\n",
       "      <td>76.4</td>\n",
       "      <td>1</td>\n",
       "    </tr>\n",
       "    <tr>\n",
       "      <th>9</th>\n",
       "      <td>77.7</td>\n",
       "      <td>70.1</td>\n",
       "      <td>77.7</td>\n",
       "      <td>1</td>\n",
       "    </tr>\n",
       "  </tbody>\n",
       "</table>\n",
       "</div>"
      ],
      "text/plain": [
       "   Mat_A  Mat_B  Total  Sub\n",
       "0   73.4   68.7   73.4    1\n",
       "1   77.0   71.4   77.0    1\n",
       "2   73.7   69.8   73.7    1\n",
       "3   73.3   75.3   73.3    1\n",
       "4   73.1   71.3   73.1    1\n",
       "5   71.5   72.7   71.5    1\n",
       "6   74.5   66.9   74.5    1\n",
       "7   77.5   70.2   77.5    1\n",
       "8   76.4   74.4   76.4    1\n",
       "9   77.7   70.1   77.7    1"
      ]
     },
     "execution_count": 121,
     "metadata": {},
     "output_type": "execute_result"
    }
   ],
   "source": [
    "# 결측치를 제거한다.\n",
    "df1 = ds_camshaft1.dropna()\n",
    "df1"
   ]
  },
  {
   "cell_type": "code",
   "execution_count": 122,
   "id": "lightweight-newfoundland",
   "metadata": {},
   "outputs": [],
   "source": [
    "# Mat_A에 해당하는 데이터 추출하기\n",
    "data1 = df1['Mat_A']"
   ]
  },
  {
   "cell_type": "code",
   "execution_count": 123,
   "id": "white-hollywood",
   "metadata": {
    "scrolled": true
   },
   "outputs": [
    {
     "data": {
      "text/plain": [
       "(0.9062638878822327, 0.25630074739456177)"
      ]
     },
     "execution_count": 123,
     "metadata": {},
     "output_type": "execute_result"
    }
   ],
   "source": [
    "# Mat_A 데이터 정규성 검정하기\n",
    "# 귀무가설 : 정규성을 갖는다.\n",
    "# 대립가설 : 정규성을 갖지 않는다.\n",
    "shapiro(data1)"
   ]
  },
  {
   "cell_type": "markdown",
   "id": "macro-composer",
   "metadata": {},
   "source": [
    "## 결과(1)\n",
    "    - 'Mat_A'에 대한 정규성 검정 결과, p-value의 값이 유의수준으로 정의된 0.5보다 큰 값을 가지므로 해당 값은 정규성을 가진다는 귀무가설을 채택할 수 있다."
   ]
  },
  {
   "cell_type": "markdown",
   "id": "touched-wealth",
   "metadata": {},
   "source": [
    "### Mat_B \n",
    "\n",
    "- #### 1. 결측치의 유무를 확인한다.\n",
    "- #### 2. 결측치가 있다면, 결측치를 제거한다,\n",
    "- #### 3. 'Mat_B'를 기준으로 data를 추출한다."
   ]
  },
  {
   "cell_type": "code",
   "execution_count": 124,
   "id": "binding-multiple",
   "metadata": {},
   "outputs": [],
   "source": [
    "# 데이터 불러오기\n",
    "ds_camshaft2 = pd.read_csv('2sample_t_test.csv')"
   ]
  },
  {
   "cell_type": "code",
   "execution_count": 125,
   "id": "lucky-vulnerability",
   "metadata": {},
   "outputs": [
    {
     "data": {
      "text/html": [
       "<div>\n",
       "<style scoped>\n",
       "    .dataframe tbody tr th:only-of-type {\n",
       "        vertical-align: middle;\n",
       "    }\n",
       "\n",
       "    .dataframe tbody tr th {\n",
       "        vertical-align: top;\n",
       "    }\n",
       "\n",
       "    .dataframe thead th {\n",
       "        text-align: right;\n",
       "    }\n",
       "</style>\n",
       "<table border=\"1\" class=\"dataframe\">\n",
       "  <thead>\n",
       "    <tr style=\"text-align: right;\">\n",
       "      <th></th>\n",
       "      <th>Mat_A</th>\n",
       "      <th>Mat_B</th>\n",
       "      <th>Total</th>\n",
       "      <th>Sub</th>\n",
       "    </tr>\n",
       "  </thead>\n",
       "  <tbody>\n",
       "    <tr>\n",
       "      <th>0</th>\n",
       "      <td>False</td>\n",
       "      <td>False</td>\n",
       "      <td>False</td>\n",
       "      <td>False</td>\n",
       "    </tr>\n",
       "    <tr>\n",
       "      <th>1</th>\n",
       "      <td>False</td>\n",
       "      <td>False</td>\n",
       "      <td>False</td>\n",
       "      <td>False</td>\n",
       "    </tr>\n",
       "    <tr>\n",
       "      <th>2</th>\n",
       "      <td>False</td>\n",
       "      <td>False</td>\n",
       "      <td>False</td>\n",
       "      <td>False</td>\n",
       "    </tr>\n",
       "    <tr>\n",
       "      <th>3</th>\n",
       "      <td>False</td>\n",
       "      <td>False</td>\n",
       "      <td>False</td>\n",
       "      <td>False</td>\n",
       "    </tr>\n",
       "    <tr>\n",
       "      <th>4</th>\n",
       "      <td>False</td>\n",
       "      <td>False</td>\n",
       "      <td>False</td>\n",
       "      <td>False</td>\n",
       "    </tr>\n",
       "    <tr>\n",
       "      <th>5</th>\n",
       "      <td>False</td>\n",
       "      <td>False</td>\n",
       "      <td>False</td>\n",
       "      <td>False</td>\n",
       "    </tr>\n",
       "    <tr>\n",
       "      <th>6</th>\n",
       "      <td>False</td>\n",
       "      <td>False</td>\n",
       "      <td>False</td>\n",
       "      <td>False</td>\n",
       "    </tr>\n",
       "    <tr>\n",
       "      <th>7</th>\n",
       "      <td>False</td>\n",
       "      <td>False</td>\n",
       "      <td>False</td>\n",
       "      <td>False</td>\n",
       "    </tr>\n",
       "    <tr>\n",
       "      <th>8</th>\n",
       "      <td>False</td>\n",
       "      <td>False</td>\n",
       "      <td>False</td>\n",
       "      <td>False</td>\n",
       "    </tr>\n",
       "    <tr>\n",
       "      <th>9</th>\n",
       "      <td>False</td>\n",
       "      <td>False</td>\n",
       "      <td>False</td>\n",
       "      <td>False</td>\n",
       "    </tr>\n",
       "    <tr>\n",
       "      <th>10</th>\n",
       "      <td>True</td>\n",
       "      <td>True</td>\n",
       "      <td>False</td>\n",
       "      <td>False</td>\n",
       "    </tr>\n",
       "    <tr>\n",
       "      <th>11</th>\n",
       "      <td>True</td>\n",
       "      <td>True</td>\n",
       "      <td>False</td>\n",
       "      <td>False</td>\n",
       "    </tr>\n",
       "    <tr>\n",
       "      <th>12</th>\n",
       "      <td>True</td>\n",
       "      <td>True</td>\n",
       "      <td>False</td>\n",
       "      <td>False</td>\n",
       "    </tr>\n",
       "    <tr>\n",
       "      <th>13</th>\n",
       "      <td>True</td>\n",
       "      <td>True</td>\n",
       "      <td>False</td>\n",
       "      <td>False</td>\n",
       "    </tr>\n",
       "    <tr>\n",
       "      <th>14</th>\n",
       "      <td>True</td>\n",
       "      <td>True</td>\n",
       "      <td>False</td>\n",
       "      <td>False</td>\n",
       "    </tr>\n",
       "    <tr>\n",
       "      <th>15</th>\n",
       "      <td>True</td>\n",
       "      <td>True</td>\n",
       "      <td>False</td>\n",
       "      <td>False</td>\n",
       "    </tr>\n",
       "    <tr>\n",
       "      <th>16</th>\n",
       "      <td>True</td>\n",
       "      <td>True</td>\n",
       "      <td>False</td>\n",
       "      <td>False</td>\n",
       "    </tr>\n",
       "    <tr>\n",
       "      <th>17</th>\n",
       "      <td>True</td>\n",
       "      <td>True</td>\n",
       "      <td>False</td>\n",
       "      <td>False</td>\n",
       "    </tr>\n",
       "    <tr>\n",
       "      <th>18</th>\n",
       "      <td>True</td>\n",
       "      <td>True</td>\n",
       "      <td>False</td>\n",
       "      <td>False</td>\n",
       "    </tr>\n",
       "    <tr>\n",
       "      <th>19</th>\n",
       "      <td>True</td>\n",
       "      <td>True</td>\n",
       "      <td>False</td>\n",
       "      <td>False</td>\n",
       "    </tr>\n",
       "  </tbody>\n",
       "</table>\n",
       "</div>"
      ],
      "text/plain": [
       "    Mat_A  Mat_B  Total    Sub\n",
       "0   False  False  False  False\n",
       "1   False  False  False  False\n",
       "2   False  False  False  False\n",
       "3   False  False  False  False\n",
       "4   False  False  False  False\n",
       "5   False  False  False  False\n",
       "6   False  False  False  False\n",
       "7   False  False  False  False\n",
       "8   False  False  False  False\n",
       "9   False  False  False  False\n",
       "10   True   True  False  False\n",
       "11   True   True  False  False\n",
       "12   True   True  False  False\n",
       "13   True   True  False  False\n",
       "14   True   True  False  False\n",
       "15   True   True  False  False\n",
       "16   True   True  False  False\n",
       "17   True   True  False  False\n",
       "18   True   True  False  False\n",
       "19   True   True  False  False"
      ]
     },
     "execution_count": 125,
     "metadata": {},
     "output_type": "execute_result"
    }
   ],
   "source": [
    "# 결측치 유무 확인\n",
    "ds_camshaft2.isnull()"
   ]
  },
  {
   "cell_type": "code",
   "execution_count": 126,
   "id": "cleared-nation",
   "metadata": {
    "scrolled": true
   },
   "outputs": [
    {
     "data": {
      "text/html": [
       "<div>\n",
       "<style scoped>\n",
       "    .dataframe tbody tr th:only-of-type {\n",
       "        vertical-align: middle;\n",
       "    }\n",
       "\n",
       "    .dataframe tbody tr th {\n",
       "        vertical-align: top;\n",
       "    }\n",
       "\n",
       "    .dataframe thead th {\n",
       "        text-align: right;\n",
       "    }\n",
       "</style>\n",
       "<table border=\"1\" class=\"dataframe\">\n",
       "  <thead>\n",
       "    <tr style=\"text-align: right;\">\n",
       "      <th></th>\n",
       "      <th>Mat_A</th>\n",
       "      <th>Mat_B</th>\n",
       "      <th>Total</th>\n",
       "      <th>Sub</th>\n",
       "    </tr>\n",
       "  </thead>\n",
       "  <tbody>\n",
       "    <tr>\n",
       "      <th>0</th>\n",
       "      <td>73.4</td>\n",
       "      <td>68.7</td>\n",
       "      <td>73.4</td>\n",
       "      <td>1</td>\n",
       "    </tr>\n",
       "    <tr>\n",
       "      <th>1</th>\n",
       "      <td>77.0</td>\n",
       "      <td>71.4</td>\n",
       "      <td>77.0</td>\n",
       "      <td>1</td>\n",
       "    </tr>\n",
       "    <tr>\n",
       "      <th>2</th>\n",
       "      <td>73.7</td>\n",
       "      <td>69.8</td>\n",
       "      <td>73.7</td>\n",
       "      <td>1</td>\n",
       "    </tr>\n",
       "    <tr>\n",
       "      <th>3</th>\n",
       "      <td>73.3</td>\n",
       "      <td>75.3</td>\n",
       "      <td>73.3</td>\n",
       "      <td>1</td>\n",
       "    </tr>\n",
       "    <tr>\n",
       "      <th>4</th>\n",
       "      <td>73.1</td>\n",
       "      <td>71.3</td>\n",
       "      <td>73.1</td>\n",
       "      <td>1</td>\n",
       "    </tr>\n",
       "    <tr>\n",
       "      <th>5</th>\n",
       "      <td>71.5</td>\n",
       "      <td>72.7</td>\n",
       "      <td>71.5</td>\n",
       "      <td>1</td>\n",
       "    </tr>\n",
       "    <tr>\n",
       "      <th>6</th>\n",
       "      <td>74.5</td>\n",
       "      <td>66.9</td>\n",
       "      <td>74.5</td>\n",
       "      <td>1</td>\n",
       "    </tr>\n",
       "    <tr>\n",
       "      <th>7</th>\n",
       "      <td>77.5</td>\n",
       "      <td>70.2</td>\n",
       "      <td>77.5</td>\n",
       "      <td>1</td>\n",
       "    </tr>\n",
       "    <tr>\n",
       "      <th>8</th>\n",
       "      <td>76.4</td>\n",
       "      <td>74.4</td>\n",
       "      <td>76.4</td>\n",
       "      <td>1</td>\n",
       "    </tr>\n",
       "    <tr>\n",
       "      <th>9</th>\n",
       "      <td>77.7</td>\n",
       "      <td>70.1</td>\n",
       "      <td>77.7</td>\n",
       "      <td>1</td>\n",
       "    </tr>\n",
       "  </tbody>\n",
       "</table>\n",
       "</div>"
      ],
      "text/plain": [
       "   Mat_A  Mat_B  Total  Sub\n",
       "0   73.4   68.7   73.4    1\n",
       "1   77.0   71.4   77.0    1\n",
       "2   73.7   69.8   73.7    1\n",
       "3   73.3   75.3   73.3    1\n",
       "4   73.1   71.3   73.1    1\n",
       "5   71.5   72.7   71.5    1\n",
       "6   74.5   66.9   74.5    1\n",
       "7   77.5   70.2   77.5    1\n",
       "8   76.4   74.4   76.4    1\n",
       "9   77.7   70.1   77.7    1"
      ]
     },
     "execution_count": 126,
     "metadata": {},
     "output_type": "execute_result"
    }
   ],
   "source": [
    "# 결측치를 제거한다.\n",
    "df2 = ds_camshaft2.dropna()\n",
    "df2"
   ]
  },
  {
   "cell_type": "code",
   "execution_count": 127,
   "id": "australian-reserve",
   "metadata": {},
   "outputs": [
    {
     "data": {
      "text/plain": [
       "(0.9729756116867065, 0.9169799089431763)"
      ]
     },
     "execution_count": 127,
     "metadata": {},
     "output_type": "execute_result"
    }
   ],
   "source": [
    "# Mat_B에 해당하는 데이터 추출하기\n",
    "data2 = df2['Mat_B']\n",
    "\n",
    "# Mat_B 데이터 정규성 검정하기\n",
    "# 귀무가설 : 정규성을 갖는다.\n",
    "# 대립가설 : 정규성을 갖지 않는다.\n",
    "shapiro(data2)"
   ]
  },
  {
   "cell_type": "markdown",
   "id": "sapphire-concord",
   "metadata": {},
   "source": [
    "## 결과 (2)\n",
    "    - 'Mat_B'에 대한 정규성 검정 결과, p-value의 값이 유의수준으로 정의된 0.5보다 큰 값을 가지므로 해당 값은 정규성을 가진다는 귀무가설을 채택할 수 있다."
   ]
  },
  {
   "cell_type": "markdown",
   "id": "small-growth",
   "metadata": {},
   "source": [
    "___\n",
    "# 문제 2  \n",
    "- #### 새로운 품종의 감자 20Box를 랜덤추출하여 무게를 측정할 결과가 다음과 같다.\n",
    "- #### 단, 모 표준편차는 3.8로 알려져 있음, 신품종 감자의 평균 무게에 대한 95% 신뢰구간을 구하시오\n",
    "- #### 99 page"
   ]
  },
  {
   "cell_type": "code",
   "execution_count": 128,
   "id": "spanish-empire",
   "metadata": {},
   "outputs": [
    {
     "data": {
      "text/html": [
       "<div>\n",
       "<style scoped>\n",
       "    .dataframe tbody tr th:only-of-type {\n",
       "        vertical-align: middle;\n",
       "    }\n",
       "\n",
       "    .dataframe tbody tr th {\n",
       "        vertical-align: top;\n",
       "    }\n",
       "\n",
       "    .dataframe thead th {\n",
       "        text-align: right;\n",
       "    }\n",
       "</style>\n",
       "<table border=\"1\" class=\"dataframe\">\n",
       "  <thead>\n",
       "    <tr style=\"text-align: right;\">\n",
       "      <th></th>\n",
       "      <th>sample</th>\n",
       "    </tr>\n",
       "  </thead>\n",
       "  <tbody>\n",
       "    <tr>\n",
       "      <th>0</th>\n",
       "      <td>18</td>\n",
       "    </tr>\n",
       "    <tr>\n",
       "      <th>1</th>\n",
       "      <td>18</td>\n",
       "    </tr>\n",
       "    <tr>\n",
       "      <th>2</th>\n",
       "      <td>20</td>\n",
       "    </tr>\n",
       "    <tr>\n",
       "      <th>3</th>\n",
       "      <td>21</td>\n",
       "    </tr>\n",
       "    <tr>\n",
       "      <th>4</th>\n",
       "      <td>20</td>\n",
       "    </tr>\n",
       "  </tbody>\n",
       "</table>\n",
       "</div>"
      ],
      "text/plain": [
       "   sample\n",
       "0      18\n",
       "1      18\n",
       "2      20\n",
       "3      21\n",
       "4      20"
      ]
     },
     "execution_count": 128,
     "metadata": {},
     "output_type": "execute_result"
    }
   ],
   "source": [
    "df = pd.DataFrame({\"sample\":[18, 18, 20, 21, 20, 23, 19, 18, 17, 21, 22, 20, 20, 21, 20, 19, 19, 18, 17, 19]})\n",
    "df.head()"
   ]
  },
  {
   "cell_type": "code",
   "execution_count": 129,
   "id": "disciplinary-baltimore",
   "metadata": {
    "scrolled": true
   },
   "outputs": [
    {
     "name": "stdout",
     "output_type": "stream",
     "text": [
      "신뢰구간 : ([19.33], [19.67])\n"
     ]
    }
   ],
   "source": [
    "lower, upper = stats.norm.interval(0.95, loc=np.mean(df), scale=0.38/np.sqrt(20))\n",
    "print(\"신뢰구간 : ({0}, {1})\".format(lower.round(2), upper.round(2)))"
   ]
  },
  {
   "cell_type": "markdown",
   "id": "collected-avatar",
   "metadata": {},
   "source": [
    "## 결과\n",
    "    - 신품종 감자의 평균 무게에 대한 신뢰구간은 [19.33, 19.67] 이다"
   ]
  },
  {
   "cell_type": "markdown",
   "id": "correct-southwest",
   "metadata": {},
   "source": [
    "___\n",
    "# 문제 3  \n",
    "- #### 제품개발자는 새로 개발된 강종의 평균 인장강도를 70km/mm^2으로 기대하고 있음\n",
    "- #### 이를 검증하기 위해 시험 생산되는 강종 중 임의로 20개의 코일을 대상으로 랜덤하게 상기 자료부터\n",
    "- #### 표본 평균은 71.50 kg/mm^2, 표본표준편차는 1.9333 kg/mm^2 임을 알았음\n",
    "- #### 이 모평균값의 95% 신뢰구간을 추정하시오.\n",
    "- #### 102 page"
   ]
  },
  {
   "cell_type": "code",
   "execution_count": 130,
   "id": "hungry-wiring",
   "metadata": {},
   "outputs": [
    {
     "name": "stdout",
     "output_type": "stream",
     "text": [
      "신뢰구간 : ([70.6],[72.4])\n"
     ]
    }
   ],
   "source": [
    "df = pd.DataFrame({'sample':[73, 71, 74, 69, 70, 73, 70, 68, 75, 72, 70, 72, 73, 70, 70, 72, 71, 70, 75, 72]})\n",
    "\n",
    "lower, upper = stats.t.interval(0.95, len(df)-1, loc=np.mean(df), scale=scipy.stats.sem(df))\n",
    "print(\"신뢰구간 : ({0},{1})\".format(lower.round(2), upper.round(2)))"
   ]
  },
  {
   "cell_type": "markdown",
   "id": "confident-indiana",
   "metadata": {},
   "source": [
    "# 결과\n",
    "- 강종의 평균 인장강도에 대한 신뢰구간은 [70.6, 72.4] 이다"
   ]
  },
  {
   "cell_type": "markdown",
   "id": "broad-fraction",
   "metadata": {},
   "source": [
    "___\n",
    "# 문제 4  \n",
    "- #### 고객 서비스센터의 고객만족도 평균은 78.0 이다.\n",
    "- #### 개선활동을 완료한 후 다음과 같은 10개의 고객만족도 데이터를 얻었다.\n",
    "- #### 개선활동이 만족도를 변화시켰는가? (유의수준 a = 0.05)\n",
    "- #### 131 page\n"
   ]
  },
  {
   "cell_type": "code",
   "execution_count": 131,
   "id": "miniature-beauty",
   "metadata": {
    "scrolled": true
   },
   "outputs": [
    {
     "data": {
      "text/plain": [
       "(0.8473217487335205, 0.0539751797914505)"
      ]
     },
     "execution_count": 131,
     "metadata": {},
     "output_type": "execute_result"
    }
   ],
   "source": [
    "# 데이터 입력\n",
    "df = pd.DataFrame({'sample':[85.0, 79.0, 79.1, 79.9, 81.6, 78.6, 85.4, 83.4, 78.1, 79.2]})\n",
    "\n",
    "# 정규성 검정\n",
    "shapiro(df)"
   ]
  },
  {
   "cell_type": "markdown",
   "id": "veterinary-conversation",
   "metadata": {},
   "source": [
    "#### => 귀무가설 : 이미 정의되어 있는 가설, 여기서는 \"평균은 78.0\" 이다.\n",
    "#### => 대립가설 : 증명하여 밝히고자 하는 가설, 여기서는 \"평균은 78.0이 아니다\" 이다.\n",
    "#### => p-value의 값이 유의수준인 0.05보다 작으므로, 해당 데이터는 정규성을 갖는다는 귀무가설을 기각한다고 말할 수 있다.\n",
    "#### => 따라서, 평균은 78.0이 아니라고 할 수 있다."
   ]
  },
  {
   "cell_type": "code",
   "execution_count": 132,
   "id": "sapphire-terry",
   "metadata": {},
   "outputs": [
    {
     "name": "stdout",
     "output_type": "stream",
     "text": [
      "Sample t-test\n",
      "t 통계량 : [3.379]\n",
      "p-value : [0.008]\n"
     ]
    }
   ],
   "source": [
    "# t-test를 통해 평균 검정\n",
    "t_result = stats.ttest_1samp(df, 78.0)\n",
    "\n",
    "# t(통계량)와 p(p-value)값을 변수에 각각 정함\n",
    "t, p = t_result.statistic.round(3), t_result.pvalue.round(3)\n",
    "\n",
    "print(\"Sample t-test\")\n",
    "print(\"t 통계량 : {0}\".format(t))\n",
    "print(\"p-value : {0}\".format(p))"
   ]
  },
  {
   "cell_type": "markdown",
   "id": "contained-halifax",
   "metadata": {},
   "source": [
    "# 결과\n",
    "- p-value의 값이 유의수준인 0.05보다 작으므로, 해당 데이터는 정규성을 갖는다는 귀무가설을 기각한다고 말할 수 있다.\n",
    "- 그렇기에 평균은 78.0이 아니라고 말할 수 있으며, 통계량이 양수이므로 평균이 78.0보다 더 크다고 말할 수 있다.\n",
    "- 따라서, 개선활동으로 인해서 만족도가 상승했다고 말할 수 있다."
   ]
  },
  {
   "cell_type": "markdown",
   "id": "furnished-utility",
   "metadata": {},
   "source": [
    "___\n",
    "# 문제 5  \n",
    "- #### 제품을 A공급자와 B공급자로 부터 제품을 받아 두께를 측정해서 다음의 데이터를 얻었다.\n",
    "- #### 공급자 간에 모평균에 차이가 있다고 할 수 있는가? (유의수준 a = 0.05)\n",
    "- #### 139 page"
   ]
  },
  {
   "cell_type": "code",
   "execution_count": 137,
   "id": "floppy-looking",
   "metadata": {
    "scrolled": true
   },
   "outputs": [
    {
     "data": {
      "text/plain": [
       "(0.8425756096839905, 0.08004552870988846)"
      ]
     },
     "execution_count": 137,
     "metadata": {},
     "output_type": "execute_result"
    }
   ],
   "source": [
    "df1 = pd.DataFrame({'Sample':[1.883,1.715,1.799,1.768,1.711,1.832,1.427,1.344]})\n",
    "df2 = pd.DataFrame({'Sample':[1.435,1.572,1.486,1.511,1.457,1.548,1.404,1.883]})\n",
    "\n",
    "shapiro(df1)"
   ]
  },
  {
   "cell_type": "markdown",
   "id": "former-testimony",
   "metadata": {},
   "source": [
    "- #### p-value의 값이 유의수준보다 크므로, 정규성을 갖는다고 할 수 있다."
   ]
  },
  {
   "cell_type": "code",
   "execution_count": 141,
   "id": "electric-pioneer",
   "metadata": {
    "scrolled": true
   },
   "outputs": [
    {
     "data": {
      "text/plain": [
       "(0.7734811902046204, 0.014793740585446358)"
      ]
     },
     "execution_count": 141,
     "metadata": {},
     "output_type": "execute_result"
    }
   ],
   "source": [
    "shapiro(df2)"
   ]
  },
  {
   "cell_type": "markdown",
   "id": "becoming-cylinder",
   "metadata": {},
   "source": [
    "- #### p-value의 값이 유의수준보다 작으므로, 정규성을 갖는다고 할 수 없다."
   ]
  },
  {
   "cell_type": "code",
   "execution_count": 142,
   "id": "loose-movie",
   "metadata": {},
   "outputs": [
    {
     "data": {
      "text/plain": [
       "LeveneResult(statistic=0.4408416728536036, pvalue=0.5175025061092301)"
      ]
     },
     "execution_count": 142,
     "metadata": {},
     "output_type": "execute_result"
    }
   ],
   "source": [
    "stats.levene(df1['Sample'], df2['Sample'])"
   ]
  },
  {
   "cell_type": "markdown",
   "id": "departmental-twins",
   "metadata": {},
   "source": [
    "- #### p-value의 값이 유의수준보다 크므로, 등분산성을 갖는다고 할 수 있다."
   ]
  },
  {
   "cell_type": "code",
   "execution_count": 143,
   "id": "italic-bench",
   "metadata": {},
   "outputs": [
    {
     "name": "stdout",
     "output_type": "stream",
     "text": [
      "Sample t-test\n",
      "t 통계량 : [1.7]\n",
      "p-value : [0.111]\n"
     ]
    }
   ],
   "source": [
    "t_result = stats.ttest_ind(df1, df2)\n",
    "t, p = t_result.statistic.round(3), t_result.pvalue.round(3)\n",
    "\n",
    "print(\"Sample t-test\")\n",
    "print(\"t 통계량 : {0}\".format(t))\n",
    "print(\"p-value : {0}\".format(p))"
   ]
  },
  {
   "cell_type": "markdown",
   "id": "studied-robertson",
   "metadata": {},
   "source": [
    "# 결과\n",
    "- p-value의 값이 유의수준인 0.05보다 크므로, 귀무가설인 \"공급자 간 모평균에 차이가 있다\"가 입증된다고 말할 수 있다.\n",
    "- 또한, 통계량이 양수의 값을 가지므로 A의 모평균이 더 크다고 할 수 있으며, 이는 곧 A공급자로 부터 받은 두께의 평균이 더 크다고 할 수 있다."
   ]
  },
  {
   "cell_type": "markdown",
   "id": "earned-ticket",
   "metadata": {},
   "source": [
    "___\n",
    "# 문제 6  \n",
    "- #### 회사원 10명에 대해 영어점수가 학원가기 전의 점수와 학원 수강 후에 영어점수가 짝을 이루고있다.\n",
    "- #### 회사원들의 성적은 학원가기 전후에 대해 차이가 있는지 검정하라\n",
    "- #### 142 page"
   ]
  },
  {
   "cell_type": "code",
   "execution_count": 147,
   "id": "second-ballot",
   "metadata": {},
   "outputs": [],
   "source": [
    "df1 = pd.DataFrame({'Before':[720, 589, 780, 648, 720, 589, 780, 648, 780, 648]})\n",
    "df2 = pd.DataFrame({'After':[710, 580, 787, 712, 750, 600, 782, 670, 790, 680]})"
   ]
  },
  {
   "cell_type": "code",
   "execution_count": 148,
   "id": "indirect-estonia",
   "metadata": {
    "scrolled": true
   },
   "outputs": [
    {
     "data": {
      "text/plain": [
       "(0.871309757232666, 0.10353939980268478)"
      ]
     },
     "execution_count": 148,
     "metadata": {},
     "output_type": "execute_result"
    }
   ],
   "source": [
    "shapiro(df1)"
   ]
  },
  {
   "cell_type": "markdown",
   "id": "taken-member",
   "metadata": {},
   "source": [
    "- #### p-value의 값이 유의수준보다 크므로, 정규성을 갖는다고 할 수 있다."
   ]
  },
  {
   "cell_type": "code",
   "execution_count": 149,
   "id": "front-activity",
   "metadata": {
    "scrolled": true
   },
   "outputs": [
    {
     "data": {
      "text/plain": [
       "(0.9132594466209412, 0.304139107465744)"
      ]
     },
     "execution_count": 149,
     "metadata": {},
     "output_type": "execute_result"
    }
   ],
   "source": [
    "shapiro(df2)"
   ]
  },
  {
   "cell_type": "markdown",
   "id": "complicated-still",
   "metadata": {},
   "source": [
    "- #### p-value의 값이 유의수준보다 크므로, 정규성을 갖는다고 할 수 있다."
   ]
  },
  {
   "cell_type": "code",
   "execution_count": 150,
   "id": "featured-arrangement",
   "metadata": {
    "scrolled": true
   },
   "outputs": [
    {
     "data": {
      "text/plain": [
       "LeveneResult(statistic=0.20658136698863727, pvalue=0.6548936313011526)"
      ]
     },
     "execution_count": 150,
     "metadata": {},
     "output_type": "execute_result"
    }
   ],
   "source": [
    "stats.levene(df1['Before'], df2['After'])"
   ]
  },
  {
   "cell_type": "markdown",
   "id": "reverse-appendix",
   "metadata": {},
   "source": [
    "- #### p-value의 값이 유의수준보다 크므로, 등분산성을 갖는다고 할 수 있다."
   ]
  },
  {
   "cell_type": "code",
   "execution_count": 151,
   "id": "level-cover",
   "metadata": {},
   "outputs": [
    {
     "name": "stdout",
     "output_type": "stream",
     "text": [
      "Paired t-test\n",
      "t 통계량 : [-2.266]\n",
      "p-value : [0.05]\n"
     ]
    }
   ],
   "source": [
    "t_result = stats.ttest_rel(df1, df2)\n",
    "\n",
    "t, p = t_result.statistic.round(3), t_result.pvalue.round(3)\n",
    "\n",
    "print(\"Paired t-test\")\n",
    "print(\"t 통계량 : {0}\".format(t))\n",
    "print(\"p-value : {0}\".format(p))"
   ]
  },
  {
   "cell_type": "markdown",
   "id": "improved-average",
   "metadata": {},
   "source": [
    "# 결과\n",
    "- #### p-value의 값이 유의수준과 같기에 귀무가설이 성립된다고 할 수 있다.\n",
    "- #### 해당 문제에서의 귀무가설 : 공급자 간 모평균에 차이가 존재한다.\n",
    "- #### 또한, 통계량을 살펴본 결과 음수의 값을 가지므로, After의 평균이 더 크다는 것을 알 수 있고,\n",
    "- #### 이는 B 공급자에게서 받은 제품의 두께가 더 두껍다는 것을 의미한다."
   ]
  }
 ],
 "metadata": {
  "kernelspec": {
   "display_name": "Python 3",
   "language": "python",
   "name": "python3"
  },
  "language_info": {
   "codemirror_mode": {
    "name": "ipython",
    "version": 3
   },
   "file_extension": ".py",
   "mimetype": "text/x-python",
   "name": "python",
   "nbconvert_exporter": "python",
   "pygments_lexer": "ipython3",
   "version": "3.8.8"
  }
 },
 "nbformat": 4,
 "nbformat_minor": 5
}
