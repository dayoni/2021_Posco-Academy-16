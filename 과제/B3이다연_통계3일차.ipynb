{
 "cells": [
  {
   "cell_type": "code",
   "execution_count": 1,
   "id": "distant-breath",
   "metadata": {},
   "outputs": [],
   "source": [
    "import numpy as np\n",
    "from scipy import stats\n",
    "import scipy.stats\n",
    "from scipy.stats import shapiro\n",
    "import pandas as pd\n",
    "import statsmodels.api as sm\n",
    "import matplotlib.pyplot as plt\n",
    "import seaborn as sns\n",
    "from statsmodels.stats.proportion import proportions_ztest\n",
    "from statsmodels.formula.api import ols\n",
    "from statsmodels.api import qqplot, add_constant\n",
    "import statsmodels.formula.api as smf\n",
    "from statsmodels.stats.stattools import omni_normtest"
   ]
  },
  {
   "cell_type": "markdown",
   "id": "effective-argument",
   "metadata": {},
   "source": [
    "___ \n",
    "# <span style=\"color:red\">문제 1</span>\n",
    "- #### 동전이 정상적인가를 검정하기 위해 100번을 던져본 결과, 앞면이 40번 나왔으며, 뒷면이 60번 나왔다.\n",
    "- #### 이 동전은 정상인가를 유의수준 a=0.05로써 검정하라.\n",
    "- #### 정상적인 동전을 던질 때, 앞면이 나올 확률은 50%이다.\n",
    "- #### 147page"
   ]
  },
  {
   "cell_type": "markdown",
   "id": "c63e984e",
   "metadata": {},
   "source": [
    "### 문제풀이\n",
    "    1. 귀무가설 : 동전을 던질 때, 앞면이 나올 확률은 50% 이다.\n",
    "    2. 대립가설 : 동전을 던질 때, 앞면이 나올 확률은 50%가 아니다.\n",
    "    3. 유의수준 : 0.05\n",
    "    4. 상관분석 수행\n",
    "    5. 분석 결과 해석"
   ]
  },
  {
   "cell_type": "code",
   "execution_count": 2,
   "id": "forced-stevens",
   "metadata": {},
   "outputs": [
    {
     "name": "stdout",
     "output_type": "stream",
     "text": [
      "1 Proportion test\n",
      "z:-2.041\n",
      "p:0.041\n"
     ]
    }
   ],
   "source": [
    "count = 40\n",
    "n_obs = 100\n",
    "value = 0.5\n",
    "\n",
    "stat, pval = proportions_ztest(count, n_obs, value)\n",
    "\n",
    "print(\"1 Proportion test\")\n",
    "print(\"z:{0:0.3f}\".format(stat))\n",
    "print(\"p:{0:0.3f}\".format(pval))"
   ]
  },
  {
   "cell_type": "markdown",
   "id": "b9439c1f",
   "metadata": {},
   "source": [
    "### 결과\n",
    "    1. p-value의 값이 유의수준인 0.05보다 작으므로 귀무가설을 기각할 수 있다.\n",
    "    2. 따라서 \"동전을 던질 때, 앞면이 나올 확률은 50%가 아니다\"라는 대립가설을 채택할 수 있다."
   ]
  },
  {
   "cell_type": "markdown",
   "id": "50452253",
   "metadata": {},
   "source": [
    "___\n",
    "# <span style=\"color:red\">문제 2</span>\n",
    "- #### 동일한 제품을 생산하는 두 공장에서 불량률을 측정한 결과 아래와 같다.\n",
    "- #### 두 공정의 불량률이 같다고 할 수 있는가? (유의수준 a = 0.05)\n",
    "- #### 공장 A : N1 = 1200, X1 = 14\n",
    "- #### 공장 B : N2 = 1200, X2 - 5\n",
    "- #### 151page"
   ]
  },
  {
   "cell_type": "markdown",
   "id": "3b338a2d",
   "metadata": {},
   "source": [
    "### 문제풀이\n",
    "    1. 귀무가설 : 두 공정의 불량률은 같다.\n",
    "    2. 대립가설 : 두 공정의 불량률은 같지 않다.\n",
    "    3. 유의수준 : 0.05\n",
    "    4. 상관분석 수행\n",
    "    5. 분석 결과 해석"
   ]
  },
  {
   "cell_type": "code",
   "execution_count": 3,
   "id": "77c2f95a",
   "metadata": {},
   "outputs": [
    {
     "name": "stdout",
     "output_type": "stream",
     "text": [
      "2 Proportion\n",
      "z:2.073\n",
      "p:0.038\n"
     ]
    }
   ],
   "source": [
    "count = np.array([14, 5])\n",
    "nobs = np.array([1200, 1200])\n",
    "\n",
    "stat, pval = proportions_ztest(count, nobs)\n",
    "\n",
    "print(\"2 Proportion\")\n",
    "print(\"z:{0:0.3f}\".format(stat))\n",
    "print(\"p:{0:0.3f}\".format(pval))"
   ]
  },
  {
   "cell_type": "markdown",
   "id": "fed686c7",
   "metadata": {},
   "source": [
    "### 결과\n",
    "    1. p-value의 값이 유의수준인 0.05보다 작으므로 귀무가설을 기각할 수 있다.\n",
    "    2. 따라서 \"두 공정의 불량률은 같지 않다\"라는 대립가설을 채택할 수 있다."
   ]
  },
  {
   "cell_type": "markdown",
   "id": "8ee8c6fb",
   "metadata": {},
   "source": [
    "___ \n",
    "# <span style=\"color:red\">문제 3</span>\n",
    "- #### 노트북 컴퓨터의 6가지 제품(A, B, C, D, E, F)에 대하여 7가지 제품의 이미지를 중복 선택할 수 있도록 32명의 소비자를 대상으로 설문조사한 Table이다.\n",
    "- #### 각 제품의 이미지에 대한 차이가 있겠는가? (유의수준 : 0.05)\n",
    "- #### 159page"
   ]
  },
  {
   "cell_type": "markdown",
   "id": "fe53282a",
   "metadata": {},
   "source": [
    "### 문제풀이\n",
    "    1. 귀무가설 : 각 제품의 이미지에 대해 차이가 없다.\n",
    "    2. 대립가설 : 각 제품의 이미지에 대해 차이가 있다.\n",
    "    3. 유의수준 : 0.05\n",
    "    4. 상관분석 수행\n",
    "       검정에 이용된 카이제곱 검정은 두 집단의 분류된 범주가 동일한 비율로 분류되었는지를 검정하고자 하는 방법\n",
    "    5. 분석 결과 해석"
   ]
  },
  {
   "cell_type": "code",
   "execution_count": 4,
   "id": "58038ed0",
   "metadata": {
    "scrolled": true
   },
   "outputs": [
    {
     "name": "stdout",
     "output_type": "stream",
     "text": [
      "chi-square test\n",
      "chisq : 98.274\n",
      "p:0.000000003\n",
      "degree pf freedom:30\n",
      "exepted value:\n",
      "[[11.004  8.528 10.454  8.253  7.978  8.803  7.978]\n",
      " [ 8.21   6.362  7.799  6.157  5.952  6.568  5.952]\n",
      " [ 5.24   4.061  4.978  3.93   3.799  4.192  3.799]\n",
      " [ 3.843  2.978  3.651  2.882  2.786  3.074  2.786]\n",
      " [ 1.921  1.489  1.825  1.441  1.393  1.537  1.393]\n",
      " [ 9.782  7.581  9.293  7.336  7.092  7.825  7.092]]\n"
     ]
    }
   ],
   "source": [
    "df = pd.DataFrame({\"A\":[18, 1, 8, 7, 10, 9, 10],\"B\":[8, 2, 14, 5, 5, 9, 4],\"C\":[4, 1, 3, 4, 9, 5, 4], \\\n",
    "                   \"D\":[4, 1, 2, 3, 2, 7, 3], \"E\":[3, 1, 3, 1, 1, 1, 1], \"F\":[3, 25, 8, 10, 2, 1, 7]})\n",
    "\n",
    "chi, pval,dof, expected = stats.chi2_contingency(df.T)\n",
    "\n",
    "print(\"chi-square test\")\n",
    "print('chisq : {0:0.3f}'.format(chi))\n",
    "print(\"p:{0:0.9f}\".format(pval))\n",
    "print(\"degree pf freedom:{0}\".format(dof))\n",
    "print(\"exepted value:\\n{}\".format(expected.round(3)))"
   ]
  },
  {
   "cell_type": "markdown",
   "id": "72a47a6c",
   "metadata": {},
   "source": [
    "### 결과\n",
    "    1. p-value의 값이 유의수준인 0.05보다 작으므로 귀무가설을 기각할 수 있다.\n",
    "    2. 따라서 \"각 제품의 이미지에 대해 차이가 있다\"라는 대립가설을 채택할 수 있다."
   ]
  },
  {
   "cell_type": "markdown",
   "id": "992bab14",
   "metadata": {},
   "source": [
    "___ \n",
    "# <span style=\"color:red\">문제 4</span>\n",
    "- #### 초코칩의 강도와 재료 반죽온도 간의 관계를 분석하기 위한 상관분석을 하세요.\n",
    "- #### 174page"
   ]
  },
  {
   "cell_type": "markdown",
   "id": "0258ad9c",
   "metadata": {},
   "source": [
    "### 문제풀이\n",
    "    1. 귀무가설 : 초코칩의 강도와 재료 반죽 온도 간의 관계는 상관성이 없다.\n",
    "    2. 대립가설 : 초코칩의 강도와 재료 반죽 온도 간의 관계는 상관성이 있다.\n",
    "    3. 유의수준 : 0.05\n",
    "    4. 상관분석 수행\n",
    "    5. 분석 결과 해석"
   ]
  },
  {
   "cell_type": "code",
   "execution_count": 5,
   "id": "4841e2de",
   "metadata": {
    "scrolled": true
   },
   "outputs": [
    {
     "name": "stdout",
     "output_type": "stream",
     "text": [
      "Correlation Analysis\n",
      "corr : -0.723\n",
      "pval : 0.000315\n"
     ]
    }
   ],
   "source": [
    "df1 = [37.6, 38.6, 37.2, 36.4, 38.6, 39, 37.2, 36.1, 35.9, 37.1, 36.9, 37.5, 36.3, 38.1, 39, 36.9, 36.8, 37.6, 33, 33.5]\n",
    "df2 = [14, 15, 14, 16, 17, 14, 17, 16, 15, 16, 14, 16, 18, 13, 15, 17, 14, 16, 20, 21]\n",
    "\n",
    "corr, pval = stats.pearsonr(df1, df2)\n",
    "\n",
    "print(\"Correlation Analysis\")\n",
    "print(\"corr : {0:0.3f}\".format(corr))\n",
    "print(\"pval : {0:0.6f}\".format(pval))"
   ]
  },
  {
   "cell_type": "markdown",
   "id": "1eb84216",
   "metadata": {},
   "source": [
    "### 결과\n",
    "    1. p-value의 값이 유의수준인 0.05보다 작으므로, 귀무가설을 기각할 수 있다.\n",
    "    2. 해당 문제에서의 귀무가설은 초코칩의 강도와 재료 반죽 온도간에 상관성이 없다였으므로,\n",
    "       대립가설인 \"초코칩의 강도와 재료 반죽 온도간에 상관성이 있다\"를 채택할 수 있다.\n",
    "    3. 이때, Corr의 값이 -1에 가까운 값을 가지므로 초코칩의 강도와 재료 반죽 온도는 강한 상관성을 가진다고 할 수 있다.\n",
    "    4. 따라서 초코칩의 강도가 올라갈수록 재료 반죽 온도 또한 상승하는 것을 알 수 있다."
   ]
  },
  {
   "cell_type": "markdown",
   "id": "23abbfd1",
   "metadata": {},
   "source": [
    "___ \n",
    "# <span style=\"color:red\">문제 5</span>\n",
    "- #### 초코칩의 강도와 굽는 시간과의 인과관계를 분석하기 위한 회귀분석 실시와 회귀식 도출\n",
    "- #### 204page"
   ]
  },
  {
   "cell_type": "markdown",
   "id": "1dc045cd",
   "metadata": {},
   "source": [
    "### 문제풀이\n",
    "    1. 데이터 구성하기\n",
    "    2. 변수 간의 경향성 파악 - 그래프 분석\n",
    "    3. 회귀 모델 생성\n",
    "        - 모델의 적합성 검토 => 분산분석/결정계수 확인\n",
    "        - 회귀계수 유의성 검토\n",
    "    4. 오차의 기본 가정 검토\n",
    "    5. 분석 결과 해석"
   ]
  },
  {
   "cell_type": "markdown",
   "id": "8ad1c3ff",
   "metadata": {},
   "source": [
    "#### 1) 데이터 구성 및 출력해보기"
   ]
  },
  {
   "cell_type": "code",
   "execution_count": 6,
   "id": "a898f564",
   "metadata": {},
   "outputs": [
    {
     "data": {
      "text/html": [
       "<div>\n",
       "<style scoped>\n",
       "    .dataframe tbody tr th:only-of-type {\n",
       "        vertical-align: middle;\n",
       "    }\n",
       "\n",
       "    .dataframe tbody tr th {\n",
       "        vertical-align: top;\n",
       "    }\n",
       "\n",
       "    .dataframe thead th {\n",
       "        text-align: right;\n",
       "    }\n",
       "</style>\n",
       "<table border=\"1\" class=\"dataframe\">\n",
       "  <thead>\n",
       "    <tr style=\"text-align: right;\">\n",
       "      <th></th>\n",
       "      <th>Strength</th>\n",
       "      <th>Baking_time</th>\n",
       "    </tr>\n",
       "  </thead>\n",
       "  <tbody>\n",
       "    <tr>\n",
       "      <th>0</th>\n",
       "      <td>37.6</td>\n",
       "      <td>0.798922</td>\n",
       "    </tr>\n",
       "    <tr>\n",
       "      <th>1</th>\n",
       "      <td>38.6</td>\n",
       "      <td>0.849020</td>\n",
       "    </tr>\n",
       "    <tr>\n",
       "      <th>2</th>\n",
       "      <td>37.2</td>\n",
       "      <td>0.816163</td>\n",
       "    </tr>\n",
       "    <tr>\n",
       "      <th>3</th>\n",
       "      <td>36.4</td>\n",
       "      <td>0.758266</td>\n",
       "    </tr>\n",
       "    <tr>\n",
       "      <th>4</th>\n",
       "      <td>38.6</td>\n",
       "      <td>0.815894</td>\n",
       "    </tr>\n",
       "  </tbody>\n",
       "</table>\n",
       "</div>"
      ],
      "text/plain": [
       "   Strength  Baking_time\n",
       "0      37.6     0.798922\n",
       "1      38.6     0.849020\n",
       "2      37.2     0.816163\n",
       "3      36.4     0.758266\n",
       "4      38.6     0.815894"
      ]
     },
     "execution_count": 6,
     "metadata": {},
     "output_type": "execute_result"
    }
   ],
   "source": [
    "strength = [37.6, 38.6, 37.2, 36.4, 38.6, 39, 37.2, 36.1, 35.9, 37.1,\n",
    "            36.9, 37.5, 36.3, 38.1, 39, 36.9, 36.8, 37.6, 33, 33.5]\n",
    "baking_time = [0.798922, 0.84902, 0.816163, 0.758266, 0.815894, 0.807477, 0.809068, 0.7664, 0.742243, 0.751118,\n",
    "               0.740629, 0.751495, 0.738863, 0.827428, 0.818172, 0.740939, 0.757128, 0.804695, 0.69521, 0.735377]\n",
    "\n",
    "df_raw = pd.DataFrame({'Strength':strength, 'Baking_time':baking_time})\n",
    "df_raw.head()"
   ]
  },
  {
   "cell_type": "code",
   "execution_count": 7,
   "id": "25306eca",
   "metadata": {},
   "outputs": [
    {
     "data": {
      "text/html": [
       "<div>\n",
       "<style scoped>\n",
       "    .dataframe tbody tr th:only-of-type {\n",
       "        vertical-align: middle;\n",
       "    }\n",
       "\n",
       "    .dataframe tbody tr th {\n",
       "        vertical-align: top;\n",
       "    }\n",
       "\n",
       "    .dataframe thead th {\n",
       "        text-align: right;\n",
       "    }\n",
       "</style>\n",
       "<table border=\"1\" class=\"dataframe\">\n",
       "  <thead>\n",
       "    <tr style=\"text-align: right;\">\n",
       "      <th></th>\n",
       "      <th>Strength</th>\n",
       "      <th>Baking_time</th>\n",
       "    </tr>\n",
       "  </thead>\n",
       "  <tbody>\n",
       "    <tr>\n",
       "      <th>count</th>\n",
       "      <td>20.000</td>\n",
       "      <td>20.000</td>\n",
       "    </tr>\n",
       "    <tr>\n",
       "      <th>mean</th>\n",
       "      <td>36.965</td>\n",
       "      <td>0.776</td>\n",
       "    </tr>\n",
       "    <tr>\n",
       "      <th>std</th>\n",
       "      <td>1.565</td>\n",
       "      <td>0.041</td>\n",
       "    </tr>\n",
       "    <tr>\n",
       "      <th>min</th>\n",
       "      <td>33.000</td>\n",
       "      <td>0.695</td>\n",
       "    </tr>\n",
       "    <tr>\n",
       "      <th>25%</th>\n",
       "      <td>36.375</td>\n",
       "      <td>0.742</td>\n",
       "    </tr>\n",
       "    <tr>\n",
       "      <th>50%</th>\n",
       "      <td>37.150</td>\n",
       "      <td>0.762</td>\n",
       "    </tr>\n",
       "    <tr>\n",
       "      <th>75%</th>\n",
       "      <td>37.725</td>\n",
       "      <td>0.811</td>\n",
       "    </tr>\n",
       "    <tr>\n",
       "      <th>max</th>\n",
       "      <td>39.000</td>\n",
       "      <td>0.849</td>\n",
       "    </tr>\n",
       "  </tbody>\n",
       "</table>\n",
       "</div>"
      ],
      "text/plain": [
       "       Strength  Baking_time\n",
       "count    20.000       20.000\n",
       "mean     36.965        0.776\n",
       "std       1.565        0.041\n",
       "min      33.000        0.695\n",
       "25%      36.375        0.742\n",
       "50%      37.150        0.762\n",
       "75%      37.725        0.811\n",
       "max      39.000        0.849"
      ]
     },
     "execution_count": 7,
     "metadata": {},
     "output_type": "execute_result"
    }
   ],
   "source": [
    "df_raw.describe().round(3)"
   ]
  },
  {
   "cell_type": "markdown",
   "id": "d179fe3b",
   "metadata": {},
   "source": [
    "####    2) 변수 간 경향성 파악을 위해 그래프 분석하기\n",
    "           + 불규칙적인 경향을 갖는다."
   ]
  },
  {
   "cell_type": "code",
   "execution_count": 8,
   "id": "03e7a520",
   "metadata": {},
   "outputs": [
    {
     "data": {
      "text/plain": [
       "<AxesSubplot:xlabel='Strength', ylabel='Baking_time'>"
      ]
     },
     "execution_count": 8,
     "metadata": {},
     "output_type": "execute_result"
    },
    {
     "data": {
      "image/png": "[encoded data removed]",
      "text/plain": [
       "<Figure size 432x288 with 1 Axes>"
      ]
     },
     "metadata": {
      "needs_background": "light"
     },
     "output_type": "display_data"
    }
   ],
   "source": [
    "df_raw.plot.scatter(x = 'Strength', y = \"Baking_time\")"
   ]
  },
  {
   "cell_type": "markdown",
   "id": "16329815",
   "metadata": {},
   "source": [
    "####    3) 상관관계 분석하기 - 상관계수가 0.804로 두 변수 간에는 높은 선형 관계가 있음"
   ]
  },
  {
   "cell_type": "code",
   "execution_count": 9,
   "id": "a8f267e3",
   "metadata": {},
   "outputs": [
    {
     "data": {
      "text/html": [
       "<div>\n",
       "<style scoped>\n",
       "    .dataframe tbody tr th:only-of-type {\n",
       "        vertical-align: middle;\n",
       "    }\n",
       "\n",
       "    .dataframe tbody tr th {\n",
       "        vertical-align: top;\n",
       "    }\n",
       "\n",
       "    .dataframe thead th {\n",
       "        text-align: right;\n",
       "    }\n",
       "</style>\n",
       "<table border=\"1\" class=\"dataframe\">\n",
       "  <thead>\n",
       "    <tr style=\"text-align: right;\">\n",
       "      <th></th>\n",
       "      <th>Strength</th>\n",
       "      <th>Baking_time</th>\n",
       "    </tr>\n",
       "  </thead>\n",
       "  <tbody>\n",
       "    <tr>\n",
       "      <th>Strength</th>\n",
       "      <td>1.000</td>\n",
       "      <td>0.804</td>\n",
       "    </tr>\n",
       "    <tr>\n",
       "      <th>Baking_time</th>\n",
       "      <td>0.804</td>\n",
       "      <td>1.000</td>\n",
       "    </tr>\n",
       "  </tbody>\n",
       "</table>\n",
       "</div>"
      ],
      "text/plain": [
       "             Strength  Baking_time\n",
       "Strength        1.000        0.804\n",
       "Baking_time     0.804        1.000"
      ]
     },
     "execution_count": 9,
     "metadata": {},
     "output_type": "execute_result"
    }
   ],
   "source": [
    "df_raw.corr(method=\"pearson\").round(3)"
   ]
  },
  {
   "cell_type": "markdown",
   "id": "22a3cb06",
   "metadata": {},
   "source": [
    "####    4) 회귀모델 생성하기 - ANOVA 분석"
   ]
  },
  {
   "cell_type": "code",
   "execution_count": 10,
   "id": "75a993a8",
   "metadata": {},
   "outputs": [
    {
     "name": "stdout",
     "output_type": "stream",
     "text": [
      "                            OLS Regression Results                            \n",
      "==============================================================================\n",
      "Dep. Variable:            Baking_time   R-squared:                       0.646\n",
      "Model:                            OLS   Adj. R-squared:                  0.627\n",
      "Method:                 Least Squares   F-statistic:                     32.87\n",
      "Date:                Wed, 27 Oct 2021   Prob (F-statistic):           1.95e-05\n",
      "Time:                        23:39:30   Log-Likelihood:                 46.530\n",
      "No. Observations:                  20   AIC:                            -89.06\n",
      "Df Residuals:                      18   BIC:                            -87.07\n",
      "Df Model:                           1                                         \n",
      "Covariance Type:            nonrobust                                         \n",
      "==============================================================================\n",
      "                 coef    std err          t      P>|t|      [0.025      0.975]\n",
      "------------------------------------------------------------------------------\n",
      "Intercept      0.0026      0.135      0.019      0.985      -0.281       0.286\n",
      "Strength       0.0209      0.004      5.733      0.000       0.013       0.029\n",
      "==============================================================================\n",
      "Omnibus:                        2.652   Durbin-Watson:                   1.128\n",
      "Prob(Omnibus):                  0.266   Jarque-Bera (JB):                1.168\n",
      "Skew:                           0.047   Prob(JB):                        0.558\n",
      "Kurtosis:                       1.820   Cond. No.                         898.\n",
      "==============================================================================\n",
      "\n",
      "Notes:\n",
      "[1] Standard Errors assume that the covariance matrix of the errors is correctly specified.\n"
     ]
    }
   ],
   "source": [
    "reg_model = smf.ols(formula=\"Baking_time ~ Strength\", data = df_raw)\n",
    "reg_result = reg_model.fit()\n",
    "print(reg_result.summary())"
   ]
  },
  {
   "cell_type": "markdown",
   "id": "705d5b44",
   "metadata": {},
   "source": [
    "####    분석 결과  \n",
    "   + ###### 1. 결정계수(R-Squared : 0.646)  \n",
    "        + ###### 초코칩의 강도(Strength)의 따른 굽는 시간(Baking_time)의 변동의 64.6% 설명할 수 있음\n",
    "   + ###### 2. 분산분석 결과(F 분포에 대한 p-value : 0에 근접)  \n",
    "        + ###### p-value의 값이 유의수준 0.05보다 작으므로 회귀모델로서 유의하다고 할 수 있음\n",
    "   + ###### 3. 잔차의 정규성(Omnibus)\n",
    "        + ###### p-value의 값이 유의수준 0.05보다 작으므로 귀무가설인 정규성을 갖는다고 할 수 없음.\n",
    "   + ###### 4. 왜도와 첨도(Skew, Kurtosis)\n",
    "        + ###### 왜도가 음수의 값을 가지므로, 그래프에서 왼쪽에 치우쳐져 있고, 첨도의 값이 큼에 따라 뾰족하다.\n",
    "   + ###### 5. 잔차의 독립성(Durbin-Watson)\n",
    "        + ###### 2(1-p)의 값이 0에 가까움으로, 독립성을 가지지 않는다고 할 수 있다.\n",
    "   + ###### 6. 정규성 검정(Jarque-Bera)\n",
    "        + ###### p-value의 값이 유의수준 0.05보다 크므로 귀무가설인 정규성을 갖는다고 할 수 있음."
   ]
  },
  {
   "cell_type": "markdown",
   "id": "3e0863fd",
   "metadata": {},
   "source": [
    "####    5) y = 0을 기준으로 random하게 분포되어 있으므로 해당 데이터는 등분산성과 정규성을 갖는다고 할 수 있다."
   ]
  },
  {
   "cell_type": "code",
   "execution_count": 11,
   "id": "510de769",
   "metadata": {},
   "outputs": [
    {
     "data": {
      "text/plain": [
       "<matplotlib.lines.Line2D at 0x7ff8d65cf610>"
      ]
     },
     "execution_count": 11,
     "metadata": {},
     "output_type": "execute_result"
    },
    {
     "data": {
      "image/png": "[encoded data removed]",
      "text/plain": [
       "<Figure size 432x288 with 1 Axes>"
      ]
     },
     "metadata": {
      "needs_background": "light"
     },
     "output_type": "display_data"
    }
   ],
   "source": [
    "plt.scatter(reg_result.fittedvalues, reg_result.resid)\n",
    "plt.xlabel(\"fitted value\"); plt.ylabel(\"residual\")\n",
    "plt.axhline(y=0, linestyle=\"--\")"
   ]
  },
  {
   "cell_type": "code",
   "execution_count": 12,
   "id": "422b8936",
   "metadata": {},
   "outputs": [
    {
     "data": {
      "text/plain": [
       "<matplotlib.lines.Line2D at 0x7ff8d6115e20>"
      ]
     },
     "execution_count": 12,
     "metadata": {},
     "output_type": "execute_result"
    },
    {
     "data": {
      "image/png": "[encoded data removed]",
      "text/plain": [
       "<Figure size 432x288 with 1 Axes>"
      ]
     },
     "metadata": {
      "needs_background": "light"
     },
     "output_type": "display_data"
    }
   ],
   "source": [
    "plt.plot(df_raw['Strength'], reg_result.resid, marker=\"o\")\n",
    "plt.xlabel(\"Data\")\n",
    "plt.ylabel(\"residual\")\n",
    "plt.axhline(y=0, linestyle='-')\n",
    "plt.axhline(y=3*np.std(reg_result.resid), linestyle='--')\n",
    "plt.axhline(y=-3*np.std(reg_result.resid), linestyle='--')"
   ]
  },
  {
   "cell_type": "markdown",
   "id": "7d67282c",
   "metadata": {},
   "source": [
    "####    6) p-value의 값이 유의수준 0.05 보다 큰 값을 가지므로 귀무가설인 정규성과 등분산성을 갖는다고 할 수 있다."
   ]
  },
  {
   "cell_type": "code",
   "execution_count": 13,
   "id": "2e860626",
   "metadata": {
    "scrolled": true
   },
   "outputs": [
    {
     "data": {
      "image/png": "[encoded data removed]",
      "text/plain": [
       "<Figure size 432x288 with 1 Axes>"
      ]
     },
     "execution_count": 13,
     "metadata": {},
     "output_type": "execute_result"
    },
    {
     "data": {
      "image/png": "[encoded data removed]",
      "text/plain": [
       "<Figure size 432x288 with 1 Axes>"
      ]
     },
     "metadata": {
      "needs_background": "light"
     },
     "output_type": "display_data"
    }
   ],
   "source": [
    "qqplot(reg_result.resid,line='q')"
   ]
  },
  {
   "cell_type": "code",
   "execution_count": 14,
   "id": "31900249",
   "metadata": {},
   "outputs": [
    {
     "data": {
      "text/plain": [
       "NormaltestResult(statistic=2.6520485000450766, pvalue=0.26553084977986086)"
      ]
     },
     "execution_count": 14,
     "metadata": {},
     "output_type": "execute_result"
    }
   ],
   "source": [
    "omni_normtest(reg_result.resid, axis=0)"
   ]
  },
  {
   "cell_type": "markdown",
   "id": "24167c71",
   "metadata": {},
   "source": [
    "### 결과\n",
    "   1. y = 0.0026 + 0.0209 * Strength\n",
    "       - 초코칩의 강도가 약 0.0026 증가할 때마다, 굽는 시간은 약 0.0209분 증가한다."
   ]
  }
 ],
 "metadata": {
  "kernelspec": {
   "display_name": "Python 3",
   "language": "python",
   "name": "python3"
  },
  "language_info": {
   "codemirror_mode": {
    "name": "ipython",
    "version": 3
   },
   "file_extension": ".py",
   "mimetype": "text/x-python",
   "name": "python",
   "nbconvert_exporter": "python",
   "pygments_lexer": "ipython3",
   "version": "3.8.8"
  },
  "toc": {
   "base_numbering": 1,
   "nav_menu": {},
   "number_sections": true,
   "sideBar": true,
   "skip_h1_title": false,
   "title_cell": "Table of Contents",
   "title_sidebar": "Contents",
   "toc_cell": false,
   "toc_position": {
    "height": "calc(100% - 180px)",
    "left": "10px",
    "top": "150px",
    "width": "370.594px"
   },
   "toc_section_display": true,
   "toc_window_display": true
  }
 },
 "nbformat": 4,
 "nbformat_minor": 5
}
