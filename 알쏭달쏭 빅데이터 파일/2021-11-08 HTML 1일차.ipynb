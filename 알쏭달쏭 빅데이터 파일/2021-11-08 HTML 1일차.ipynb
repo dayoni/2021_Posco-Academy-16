{
 "cells": [
  {
   "cell_type": "code",
   "execution_count": 1,
   "id": "3fd3db60",
   "metadata": {},
   "outputs": [
    {
     "ename": "SyntaxError",
     "evalue": "invalid syntax (<ipython-input-1-34789854da14>, line 1)",
     "output_type": "error",
     "traceback": [
      "\u001b[0;36m  File \u001b[0;32m\"<ipython-input-1-34789854da14>\"\u001b[0;36m, line \u001b[0;32m1\u001b[0m\n\u001b[0;31m    <ul>\u001b[0m\n\u001b[0m    ^\u001b[0m\n\u001b[0;31mSyntaxError\u001b[0m\u001b[0;31m:\u001b[0m invalid syntax\n"
     ]
    }
   ],
   "source": [
    "<ul>\n",
    "    <li>키움증권</li>\n",
    "    <li>대신증권</li>\n",
    "    <li>미래에셋대우</li>\n",
    "</ul>"
   ]
  },
  {
   "cell_type": "code",
   "execution_count": null,
   "id": "1964069a",
   "metadata": {},
   "outputs": [],
   "source": [
    "<ol>\n",
    "    <li>키움증권</li>\n",
    "    <li>대신증권</li>\n",
    "    <li>미래에셋대우</li>\n",
    "</ol>"
   ]
  },
  {
   "cell_type": "code",
   "execution_count": null,
   "id": "e42bc627",
   "metadata": {},
   "outputs": [],
   "source": [
    "<body>\n",
    "<span style=\"background-color:red\"> span1 </span>\n",
    "<span style=\"background-color:green\"> span1 </span>\n",
    "<span style=\"background-color:blue\"> span1 </span>\n",
    "</body>"
   ]
  },
  {
   "cell_type": "code",
   "execution_count": 2,
   "id": "41c947ac",
   "metadata": {},
   "outputs": [
    {
     "ename": "SyntaxError",
     "evalue": "invalid syntax (<ipython-input-2-eac731e5294e>, line 1)",
     "output_type": "error",
     "traceback": [
      "\u001b[0;36m  File \u001b[0;32m\"<ipython-input-2-eac731e5294e>\"\u001b[0;36m, line \u001b[0;32m1\u001b[0m\n\u001b[0;31m    <body>\u001b[0m\n\u001b[0m    ^\u001b[0m\n\u001b[0;31mSyntaxError\u001b[0m\u001b[0;31m:\u001b[0m invalid syntax\n"
     ]
    }
   ],
   "source": [
    "<body>\n",
    "<button> 로그인 </button>\n",
    "<button> 로그아웃 </button>\n",
    "</body>"
   ]
  },
  {
   "cell_type": "code",
   "execution_count": null,
   "id": "ca545424",
   "metadata": {},
   "outputs": [],
   "source": [
    "<body>\n",
    "<h2> 웹개발 </h2>\n",
    "<p>웹개발은 주로 프론트엔드와 백엔드로 나뉩니다.</p>\n",
    "<h3>프론트엔드 언어</h3>\n",
    "<ui>\n",
    "  <li>HTML</li>\n",
    "  <li>CSS</li>\n",
    "  <li>JavaScript</li>\n",
    "</ui>\n",
    "<h3>백엔드 언어</h3>\n",
    "<ul>\n",
    "  <li>PHP</li>\n",
    "  <li>ASP</li>\n",
    "  <li>Java</li>\n",
    "  <li>Python</li>\n",
    "</ul>\n",
    "</body>"
   ]
  },
  {
   "cell_type": "code",
   "execution_count": null,
   "id": "f6584d38",
   "metadata": {},
   "outputs": [],
   "source": [
    "관심종목<br>\n",
    "<ul>\n",
    "  <li>키움증권</li>\n",
    "  <li>대신증권</li>\n",
    "  <li>미래에셋대우</li>\n",
    "</ul>\n",
    "\n",
    "<style>\n",
    "li {\n",
    "  width:120px;\n",
    "  padding:10px,\n",
    "  margin:4px 0px;\n",
    "  font-weight:bold;\n",
    "  color:blue;}\n",
    "}</style>"
   ]
  },
  {
   "cell_type": "code",
   "execution_count": null,
   "id": "012fba46",
   "metadata": {},
   "outputs": [],
   "source": [
    "관심종목<br>\n",
    "<ol>\n",
    "  <li>키움증권</li>\n",
    "  <li>대신증권</li>\n",
    "  <li>미래에셋대우</li>\n",
    "</ol>\n",
    "\n",
    "<style>\n",
    "li {\n",
    "  width:120px;\n",
    "  padding:10px,\n",
    "  margin:4px 0px;\n",
    "  font-weight:bold;\n",
    "  color:blue;}\n",
    "}</style>"
   ]
  },
  {
   "cell_type": "code",
   "execution_count": null,
   "id": "835824db",
   "metadata": {},
   "outputs": [],
   "source": [
    "<body>\n",
    "<p style = 'color:blue'> paragraph1 </p>\n",
    "<p>paragraph2</p>\n",
    "</body>"
   ]
  },
  {
   "cell_type": "code",
   "execution_count": null,
   "id": "5f45f2f9",
   "metadata": {},
   "outputs": [],
   "source": [
    "<body>\n",
    "<p style = 'color:blue'> paragraph1 </p>\n",
    "<p>paragraph2</p>\n",
    "</body>\n",
    "\n",
    "<style>\n",
    "  p:nth-child(1) {color:blue;}\n",
    "</style>\n",
    "\n"
   ]
  },
  {
   "cell_type": "code",
   "execution_count": null,
   "id": "e54ab75f",
   "metadata": {},
   "outputs": [],
   "source": [
    "<style>\n",
    "#fruit {\n",
    "  color:blue;\n",
    "}\n",
    "</style>\n",
    "\n",
    "<p> 김밥 </p>\n",
    "<h1 id = \"fruit\"> 사과 </h1>\n",
    "<p class = 'color'> 오뎅 </p>\n",
    "<p id = \"name\"> 김치 </p>"
   ]
  },
  {
   "cell_type": "code",
   "execution_count": null,
   "id": "1f88c23d",
   "metadata": {},
   "outputs": [],
   "source": [
    "<style>\n",
    ".color{\n",
    "  color:blue;\n",
    "}\n",
    "</style>\n",
    "\n",
    "<p> 김밥 </p>\n",
    "<h1 id = \"fruit\"> 사과 </h1>\n",
    "<p class = 'color'> 오뎅 </p>\n",
    "<p id = \"name\"> 김치 </p>"
   ]
  },
  {
   "cell_type": "code",
   "execution_count": null,
   "id": "c6fda5cd",
   "metadata": {},
   "outputs": [],
   "source": [
    "<style>\n",
    ".name{\n",
    "  color:blue;\n",
    "}\n",
    "</style>\n",
    "\n",
    "<tag id = 'ABC'>\n",
    "  <div>\n",
    "  \n",
    "  <p class = 'name' > 안녕 </p>\n",
    "  </div>\n",
    "  \n",
    "</tag>"
   ]
  },
  {
   "cell_type": "code",
   "execution_count": null,
   "id": "03f25094",
   "metadata": {},
   "outputs": [],
   "source": [
    "<style>\n",
    "#ABC > div > .name{\n",
    "  color:red;\n",
    "}\n",
    "</style>\n",
    "\n",
    "<tag id = 'ABC'>\n",
    "  <div>\n",
    "  \n",
    "  <p class = 'name' > 안녕 </p>\n",
    "  </div>\n",
    "  \n",
    "</tag>"
   ]
  },
  {
   "cell_type": "code",
   "execution_count": null,
   "id": "5316688f",
   "metadata": {},
   "outputs": [],
   "source": [
    "import time\n",
    "from selenium import webdriver"
   ]
  },
  {
   "cell_type": "code",
   "execution_count": null,
   "id": "84dfcfb8",
   "metadata": {},
   "outputs": [],
   "source": [
    "driver = webdriver.Chrome(\"/home/piai/chromedriver\")\n",
    "driver.get('https://naver.com')"
   ]
  },
  {
   "cell_type": "code",
   "execution_count": null,
   "id": "bda3b1ab",
   "metadata": {},
   "outputs": [],
   "source": [
    "import konlpy\n",
    "konlpy.__version__"
   ]
  },
  {
   "cell_type": "code",
   "execution_count": null,
   "id": "cde4e57f",
   "metadata": {},
   "outputs": [],
   "source": [
    "import tweepy\n",
    "tweepy.__version__"
   ]
  },
  {
   "cell_type": "code",
   "execution_count": null,
   "id": "82aa1e46",
   "metadata": {},
   "outputs": [],
   "source": [
    "pip install tweepy==3.10.0"
   ]
  },
  {
   "cell_type": "code",
   "execution_count": null,
   "id": "a2351009",
   "metadata": {},
   "outputs": [],
   "source": [
    "import requests\n",
    "html = requests.get('https://www.naver.com', verify=False)\n",
    "print(html.text)"
   ]
  },
  {
   "cell_type": "code",
   "execution_count": null,
   "id": "2f1132ae",
   "metadata": {},
   "outputs": [],
   "source": [
    "from bs4 import BeautifulSoup\n",
    "\n",
    "html = '''\n",
    "<ul>\n",
    "    <li>1교시</li>\n",
    "    <li>2교시</li>\n",
    "</ul>\n",
    "\n",
    "<ol>\n",
    "    <li>3교시</li>\n",
    "    <li>4교시</li>\n",
    "</ol>'''\n",
    "\n",
    "soup = BeautifulSoup(html, \"html5lib\")\n",
    "a = soup.select(\"ol li\")\n",
    "a"
   ]
  },
  {
   "cell_type": "code",
   "execution_count": null,
   "id": "77af11ca",
   "metadata": {},
   "outputs": [],
   "source": [
    "html = '''\n",
    "<table>\n",
    "    <tr>\n",
    "        <th> 재무정보 </th>\n",
    "        <th> 2018 </th>\n",
    "        <th> 2019 </th>\n",
    "    </tr>\n",
    "    <th>\n",
    "        <td> 매출액 </td>\n",
    "        <td> 100 </td>\n",
    "        <td> 200 </td>\n",
    "    </tr>\n",
    "</table>\n",
    "\n",
    "'''\n",
    "\n",
    "soup = BeautifulSoup(html, \"html5lib\")\n",
    "text = soup.select(\"tr td\")\n",
    "\n",
    "for word in text:\n",
    "    print(word.text, sep='', end='/')"
   ]
  },
  {
   "cell_type": "code",
   "execution_count": null,
   "id": "6b5c3ccf",
   "metadata": {},
   "outputs": [],
   "source": [
    "soup = BeautifulSoup(html, \"html5lib\")\n",
    "text = soup.select(\"table > tbody > tr > td\")\n",
    "\n",
    "for word in text:\n",
    "    print(word.text)"
   ]
  },
  {
   "cell_type": "code",
   "execution_count": null,
   "id": "6471ad9e",
   "metadata": {},
   "outputs": [],
   "source": [
    "soup = BeautifulSoup(html, \"html5lib\")\n",
    "text = soup.select(\"table > tbody > tr > td:nth-of-type(2)\")\n",
    "\n",
    "print(text[0].text)"
   ]
  },
  {
   "cell_type": "code",
   "execution_count": null,
   "id": "5a0eefc9",
   "metadata": {},
   "outputs": [],
   "source": [
    "html = '''\n",
    "<div>\n",
    "    <div class = \"snack\">\n",
    "        <div id = \"first\"> 양파링 </div>\n",
    "        <div id = \"second\"> 새우깡 </div>\n",
    "    </div>\n",
    "    <div class = \"icecream\">\n",
    "        <div> 빵빠레 </div>\n",
    "        <div> 죠스바 </div>\n",
    "    </div>\n",
    "</div>\n",
    "\n",
    "'''\n",
    "\n",
    "soup = BeautifulSoup(html, \"html5lib\")\n",
    "text = soup.select(\"#second\")\n",
    "\n",
    "for word in text:\n",
    "    print(word.text)"
   ]
  },
  {
   "cell_type": "code",
   "execution_count": null,
   "id": "d2c0fe56",
   "metadata": {},
   "outputs": [],
   "source": [
    "soup = BeautifulSoup(html, \"html5lib\")\n",
    "text = soup.select(\".icecream > div:nth-of-type(2)\")\n",
    "\n",
    "print(text[0].text)"
   ]
  },
  {
   "cell_type": "code",
   "execution_count": null,
   "id": "7b0fcdfe",
   "metadata": {},
   "outputs": [],
   "source": [
    "import requests\n",
    "from bs4 import BeautifulSoup\n",
    "\n",
    "headers = {\"User-Agent\":\"\"}\n",
    "url = \"https://news.naver.com/\"\n",
    "html = requests.get(url, headers = headers, verify=False)\n",
    "html = html.text\n",
    "\n",
    "soup = BeautifulSoup(html, \"html5lib\")\n",
    "elements = soup.select(\"div.hdline_article_tit > a\")\n",
    "\n",
    "for i in elements:\n",
    "    print(i.text.strip())"
   ]
  },
  {
   "cell_type": "code",
   "execution_count": null,
   "id": "974874d5",
   "metadata": {},
   "outputs": [],
   "source": [
    "import requests\n",
    "from bs4 import BeautifulSoup\n",
    "\n",
    "headers = {\"User-Agent\":\"\"}\n",
    "url = \"https://movie.naver.com/movie/bi/mi/review.naver?code=159866\"\n",
    "html = requests.get(url, headers = headers, verify=False)\n",
    "\n",
    "soup = BeautifulSoup(html.content, \"html5lib\")\n",
    "elements = soup.select(\"#reviewTab > div > div > ul > li > a > strong\")\n",
    "\n",
    "for i in elements[0:4]:\n",
    "    print(i.text.strip())"
   ]
  },
  {
   "cell_type": "code",
   "execution_count": null,
   "id": "888586e4",
   "metadata": {},
   "outputs": [],
   "source": [
    "import requests\n",
    "from bs4 import BeautifulSoup\n",
    "\n",
    "headers = {\"User-Agent\":\"\"}\n",
    "url = \"https://finance.naver.com/item/main.nhn?code=005490\"\n",
    "html = requests.get(url, headers = headers, verify=False)\n",
    "\n",
    "soup = BeautifulSoup(html.content, \"html5lib\")\n",
    "elements = soup.select(\"#reviewTab > div > div > ul > li > a > strong\")\n",
    "\n",
    "for i in elements[0:4]:\n",
    "    print(i.text.strip())"
   ]
  },
  {
   "cell_type": "code",
   "execution_count": null,
   "id": "7e0c6e45",
   "metadata": {},
   "outputs": [],
   "source": [
    "from selenium import webdriver\n",
    "\n",
    "driver = webdriver.Chrome('/home/piai/chromedriver')\n",
    "driver.get('https://www.naver.com')\n",
    "\n",
    "selector = \"#NM_FAVORITE > div.group_nav > ul.list_nav.NM_FAVORITE_LIST > li:nth-child(1) > a\"\n",
    "ui = driver.find_element_by_css_selector(selector)\n",
    "ui.click()"
   ]
  },
  {
   "cell_type": "code",
   "execution_count": null,
   "id": "3629e501",
   "metadata": {},
   "outputs": [],
   "source": [
    "from selenium import webdriver\n",
    "\n",
    "driver = webdriver.Chrome('/home/piai/chromedriver')\n",
    "driver.get('https://www.naver.com')\n",
    "\n",
    "selector = \"#NM_FAVORITE > div.group_nav > ul.list_nav.NM_FAVORITE_LIST > li:nth-child(8) > a\"\n",
    "ui = driver.find_element_by_css_selector(selector)\n",
    "ui.click()"
   ]
  },
  {
   "cell_type": "code",
   "execution_count": null,
   "id": "961dc3bc",
   "metadata": {},
   "outputs": [],
   "source": [
    "from selenium import webdriver\n",
    "\n",
    "driver = webdriver.Chrome('/home/piai/chromedriver')\n",
    "driver.get('https://www.naver.com')\n",
    "\n",
    "driver.find_element_by_css_selector(\"#query\").send_keys(\"방탄소년단\")\n",
    "driver.find_element_by_css_selector(\"#search_btn\").click()"
   ]
  },
  {
   "cell_type": "code",
   "execution_count": null,
   "id": "87ed752f",
   "metadata": {
    "scrolled": false
   },
   "outputs": [],
   "source": [
    "from selenium import webdriver\n",
    "import time\n",
    "\n",
    "driver = webdriver.Chrome('/home/piai/chromedriver')\n",
    "driver.get('http://ticket.interpark.com/')\n",
    "\n",
    "driver.find_element_by_css_selector(\"#Nav_SearchWord\").send_keys(\"아이유\")\n",
    "driver.find_element_by_css_selector('#AllSearch > fieldset > div.box > a > img').click()\n",
    "\n",
    "driver.implicitly_wait(5)\n",
    "selector = \"#allContent > div.ticketContent > div.searchPanel > ul > li:nth-child(1) > div.col.data > div.itemName > a\"\n",
    "\n",
    "ui = driver.find_element_by_css_selector(selector)\n",
    "print(\"셀레니움 CSS 셀렉터를 이용한 스크래핑 결과 : {}\".format(ui, text))\n",
    "\n",
    "time.sleep(5)\n",
    "html = driver.page_source\n",
    "soup = BeautifulSoup(html, \"html5lib\")\n",
    "selector = \"#allContent > div.ticketContent > div.searchPanel > ul > li:nth-child(1) > div.col.data > div.itemName > a\"\n",
    "result = soup.select(selector)[0].text\n",
    "\n",
    "print(\"BeautifulSoup를 이용한 스크래핑 결과 : {}\".format(ui.text))"
   ]
  },
  {
   "cell_type": "code",
   "execution_count": null,
   "id": "c85eac07",
   "metadata": {},
   "outputs": [],
   "source": [
    "driver.implicitly_wait(5)\n",
    "selector = \"\"\n",
    "\n",
    "ui = driver.find_element_by_css_selector(selector)\n",
    "print(\"셀레니움 CSS 셀렉터를 이용한 스크래핑 결과 : {}\".format(ui, text))\n",
    "\n",
    "time.sleep(5)\n",
    "html = driver.page_source\n",
    "soup = BeautifulSoup(html, \"html5lib\")\n",
    "selector_for_bs = \"#allContent > div.ticketContent > div.searchPanel > ul > li:nth-child(1) > div.col.data > div.itemName > a\"\n",
    "result = soup.select(selector_for_bs)[0].text\n",
    "\n",
    "print(\"BeautifulSoup를 이용한 스크래핑 결과 : {}\".format(result))"
   ]
  },
  {
   "cell_type": "code",
   "execution_count": null,
   "id": "ddc9bc40",
   "metadata": {},
   "outputs": [],
   "source": [
    "from konlpy.tag import Okt\n",
    "tagger = Okt()\n",
    "\n",
    "text = \"열심히 코딩한 당신, 연휴에는 여행을 가봐요\"\n",
    "print(tagger.morphs(text))\n",
    "print(tagger.pos(text))\n",
    "print(tagger.nouns(text))"
   ]
  },
  {
   "cell_type": "code",
   "execution_count": null,
   "id": "6fef997a",
   "metadata": {},
   "outputs": [],
   "source": [
    "from konlpy.tag import Kkma\n",
    "tagger = Kkma()\n",
    "\n",
    "text = \"열심히 코딩한 당신, 연휴에는 여행을 가봐요\"\n",
    "print(tagger.morphs(text))\n",
    "print(tagger.pos(text))\n",
    "print(tagger.nouns(text))"
   ]
  },
  {
   "cell_type": "code",
   "execution_count": null,
   "id": "b3ce3f9f",
   "metadata": {},
   "outputs": [],
   "source": [
    "from konlpy.tag import Hannanum\n",
    "from collections import Counter\n",
    "\n",
    "tagger = Hannanum()\n",
    "text = \"대한민국은 민주공화국이다. 대한민국의 주권은 국민에게 있고, 국민은 그 대표자나 국민투표에 의하여 주권을 행사한다.\"\n",
    "result = tagger.morphs(text)\n",
    "\n",
    "c = Counter(result)\n",
    "print(c.most_common(5))"
   ]
  },
  {
   "cell_type": "code",
   "execution_count": null,
   "id": "264e7f4d",
   "metadata": {},
   "outputs": [],
   "source": []
  },
  {
   "cell_type": "code",
   "execution_count": null,
   "id": "573fef73",
   "metadata": {},
   "outputs": [],
   "source": []
  },
  {
   "cell_type": "code",
   "execution_count": null,
   "id": "25f969ac",
   "metadata": {},
   "outputs": [],
   "source": []
  },
  {
   "cell_type": "code",
   "execution_count": null,
   "id": "63c39892",
   "metadata": {},
   "outputs": [],
   "source": []
  },
  {
   "cell_type": "code",
   "execution_count": null,
   "id": "9fe2c29a",
   "metadata": {},
   "outputs": [],
   "source": []
  },
  {
   "cell_type": "code",
   "execution_count": null,
   "id": "3308cce7",
   "metadata": {},
   "outputs": [],
   "source": []
  }
 ],
 "metadata": {
  "kernelspec": {
   "display_name": "Python 3",
   "language": "python",
   "name": "python3"
  },
  "language_info": {
   "codemirror_mode": {
    "name": "ipython",
    "version": 3
   },
   "file_extension": ".py",
   "mimetype": "text/x-python",
   "name": "python",
   "nbconvert_exporter": "python",
   "pygments_lexer": "ipython3",
   "version": "3.8.8"
  },
  "toc": {
   "base_numbering": 1,
   "nav_menu": {},
   "number_sections": true,
   "sideBar": true,
   "skip_h1_title": false,
   "title_cell": "Table of Contents",
   "title_sidebar": "Contents",
   "toc_cell": false,
   "toc_position": {},
   "toc_section_display": true,
   "toc_window_display": false
  }
 },
 "nbformat": 4,
 "nbformat_minor": 5
}
