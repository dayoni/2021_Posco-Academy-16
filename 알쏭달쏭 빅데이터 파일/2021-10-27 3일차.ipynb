{
 "cells": [
  {
   "cell_type": "code",
   "execution_count": 32,
   "id": "broadband-beatles",
   "metadata": {},
   "outputs": [],
   "source": [
    "import numpy as np\n",
    "from scipy import stats\n",
    "import scipy.stats\n",
    "from scipy.stats import shapiro\n",
    "import pandas as pd\n",
    "import statsmodels.api as sm\n",
    "import matplotlib.pyplot as plt\n",
    "import seaborn as sns\n",
    "from statsmodels.stats.proportion import proportions_ztest\n",
    "from statsmodels.formula.api import ols\n",
    "from statsmodels.api import qqplot, add_constant\n",
    "import statsmodels.formula.api as smf\n",
    "from statsmodels.stats.stattools import omni_normtest"
   ]
  },
  {
   "cell_type": "code",
   "execution_count": 7,
   "id": "identical-broad",
   "metadata": {},
   "outputs": [
    {
     "name": "stdout",
     "output_type": "stream",
     "text": [
      "1 Proportion test\n",
      "z:1.400\n",
      "p:0.161\n"
     ]
    }
   ],
   "source": [
    "count = 15\n",
    "n_obs = 100\n",
    "value = 0.1\n",
    "\n",
    "stat, pval = proportions_ztest(count, n_obs, value)\n",
    "\n",
    "print(\"1 Proportion test\")\n",
    "print(\"z:{0:0.3f}\".format(stat))\n",
    "print(\"p:{0:0.3f}\".format(pval))"
   ]
  },
  {
   "cell_type": "code",
   "execution_count": 8,
   "id": "distinct-oliver",
   "metadata": {},
   "outputs": [
    {
     "name": "stdout",
     "output_type": "stream",
     "text": [
      "1 Proportion test\n",
      "z:4.428\n",
      "p:0.000\n"
     ]
    }
   ],
   "source": [
    "count = 150\n",
    "n_obs = 1000\n",
    "value = 0.1\n",
    "\n",
    "stat, pval = proportions_ztest(count, n_obs, value)\n",
    "\n",
    "print(\"1 Proportion test\")\n",
    "print(\"z:{0:0.3f}\".format(stat))\n",
    "print(\"p:{0:0.3f}\".format(pval))"
   ]
  },
  {
   "cell_type": "code",
   "execution_count": 11,
   "id": "perceived-buddy",
   "metadata": {},
   "outputs": [
    {
     "name": "stdout",
     "output_type": "stream",
     "text": [
      "2 Proportion\n",
      "z:4.114\n",
      "p:0.000\n"
     ]
    }
   ],
   "source": [
    "\n",
    "count = np.array([40, 15])\n",
    "nobs = np.array([1000, 120  0])\n",
    "\n",
    "stat, pval = proportions_ztest(count, nobs)\n",
    "\n",
    "print(\"2 Proportion\")\n",
    "print(\"z:{0:0.3f}\".format(stat))\n",
    "print(\"p:{0:0.3f}\".format(pval))"
   ]
  },
  {
   "cell_type": "code",
   "execution_count": 17,
   "id": "tired-russia",
   "metadata": {},
   "outputs": [
    {
     "name": "stdout",
     "output_type": "stream",
     "text": [
      "2 Proportion\n",
      "z:2.327\n",
      "p:0.020\n"
     ]
    }
   ],
   "source": [
    "\n",
    "count = np.array([40, 30])\n",
    "nobs = np.array([200, 250])\n",
    "\n",
    "stat, pval = proportions_ztest(count, nobs)\n",
    "\n",
    "print(\"2 Proportion\")\n",
    "print(\"z:{0:0.3f}\".format(stat))\n",
    "print(\"p:{0:0.3f}\".format(pval))"
   ]
  },
  {
   "cell_type": "code",
   "execution_count": 25,
   "id": "coated-closure",
   "metadata": {},
   "outputs": [
    {
     "name": "stdout",
     "output_type": "stream",
     "text": [
      "chi-square test\n",
      "chisq : 13.366\n",
      "p:0.038\n",
      "degree pf freedom:6\n",
      "exepted value:\n",
      "[[258.333 276.333 230.667 234.667]\n",
      " [258.333 276.333 230.667 234.667]\n",
      " [258.333 276.333 230.667 234.667]]\n"
     ]
    }
   ],
   "source": [
    "df = pd.DataFrame({\"HSG\":[270,260,236,234],'SS':[228,285,225,262],'SPA':[277,284,231,208]})\n",
    "\n",
    "chi, pval,dof, expected = stats.chi2_contingency(df.T)\n",
    "\n",
    "print(\"chi-square test\")\n",
    "print('chisq : {0:0.3f}'.format(chi))\n",
    "print(\"p:{0:0.3f}\".format(pval))\n",
    "print(\"degree pf freedom:{0}\".format(dof))\n",
    "print(\"exepted value:\\n{}\".format(expected.round(3)))"
   ]
  },
  {
   "cell_type": "code",
   "execution_count": 26,
   "id": "surrounded-absolute",
   "metadata": {},
   "outputs": [
    {
     "name": "stdout",
     "output_type": "stream",
     "text": [
      "chi-square test\n",
      "chisq : 13.366\n",
      "p:0.038\n",
      "degree pf freedom:6\n",
      "exepted value:\n",
      "[[258.333 258.333 258.333]\n",
      " [276.333 276.333 276.333]\n",
      " [230.667 230.667 230.667]\n",
      " [234.667 234.667 234.667]]\n"
     ]
    }
   ],
   "source": [
    "df = pd.DataFrame({\"HSG\":[270,260,236,234],'SS':[228,285,225,262],'SPA':[277,284,231,208]})\n",
    "\n",
    "chi, pval,dof, expected = stats.chi2_contingency(df)\n",
    "\n",
    "print(\"chi-square test\")\n",
    "print('chisq : {0:0.3f}'.format(chi))\n",
    "print(\"p:{0:0.3f}\".format(pval))\n",
    "print(\"degree pf freedom:{0}\".format(dof))\n",
    "print(\"exepted value:\\n{}\".format(expected.round(3)))"
   ]
  },
  {
   "cell_type": "code",
   "execution_count": 28,
   "id": "valid-carroll",
   "metadata": {},
   "outputs": [
    {
     "name": "stdout",
     "output_type": "stream",
     "text": [
      "One-way\n",
      "F 통계량 : 4.263\n",
      "p-value : 0.025\n"
     ]
    },
    {
     "data": {
      "image/png": "[encoded data removed]",
      "text/plain": [
       "<Figure size 432x288 with 1 Axes>"
      ]
     },
     "metadata": {
      "needs_background": "light"
     },
     "output_type": "display_data"
    }
   ],
   "source": [
    "df = pd.DataFrame({'A':[892, 623, 721, 678, 723, 790, 720, 670, 690, 771], 'B':[721, 821, 910, 678, 723, 790, 711, 790, 745, 891], 'C':[621, 915, 888, 721, 894, 834, 841, 912, 845, 889]})\n",
    "\n",
    "df.boxplot(['A', 'B', 'C'])\n",
    "\n",
    "f_result = stats.f_oneway(df['A'], df['B'], df['C'])\n",
    "\n",
    "f, p = f_result.statistic.round(3), f_result.pvalue.round(3)\n",
    "\n",
    "print(\"One-way\")\n",
    "print(\"F 통계량 : {0}\".format(f))\n",
    "print(\"p-value : {0}\".format(p))"
   ]
  },
  {
   "cell_type": "code",
   "execution_count": 30,
   "id": "lightweight-prevention",
   "metadata": {},
   "outputs": [
    {
     "name": "stdout",
     "output_type": "stream",
     "text": [
      "chi-square test\n",
      "chisq : 71.215\n",
      "p:0.000\n",
      "degree pf freedom:9\n",
      "exepted value:\n",
      "[[779.613 833.387]\n",
      " [697.93  746.07 ]\n",
      " [788.313 842.687]\n",
      " [655.397 700.603]\n",
      " [698.897 747.103]\n",
      " [763.663 816.337]\n",
      " [691.647 739.353]\n",
      " [705.663 754.337]\n",
      " [693.58  741.42 ]\n",
      " [803.296 858.704]]\n",
      "\n",
      "chi-square test\n",
      "chisq : 138.144\n",
      "p:0.000\n",
      "degree pf freedom:9\n",
      "exepted value:\n",
      "[[704.157 808.843]\n",
      " [715.793 822.207]\n",
      " [748.836 860.164]\n",
      " [651.101 747.899]\n",
      " [752.56  864.44 ]\n",
      " [755.817 868.183]\n",
      " [726.497 834.503]\n",
      " [736.27  845.73 ]\n",
      " [714.396 820.604]\n",
      " [772.572 887.428]]\n",
      "\n",
      "chi-square test\n",
      "chisq : 38.541\n",
      "p:0.000\n",
      "degree pf freedom:9\n",
      "exepted value:\n",
      "[[646.887 695.113]\n",
      " [836.808 899.192]\n",
      " [866.694 931.306]\n",
      " [674.363 724.637]\n",
      " [779.446 837.554]\n",
      " [782.82  841.18 ]\n",
      " [748.114 803.886]\n",
      " [820.419 881.581]\n",
      " [766.431 823.569]\n",
      " [858.017 921.983]]\n",
      "\n"
     ]
    }
   ],
   "source": [
    "\n",
    "In [3]:\n",
    "df = pd.DataFrame({'A':[892, 623, 721, 678, 723, 790, 720, 670, 690, 771], 'B':[721, 821, 910, 678, 723, 790, 711, 790, 745, 891]})\n",
    "\n",
    "chi, pval,dof, expected = stats.chi2_contingency(df)\n",
    "\n",
    "print(\"chi-square test\")\n",
    "print('chisq : {0:0.3f}'.format(chi))\n",
    "print(\"p:{0:0.3f}\".format(pval))\n",
    "print(\"degree pf freedom:{0}\".format(dof))\n",
    "print(\"exepted value:\\n{}\".format(expected.round(3)))\n",
    "print()\n",
    "\n",
    "df = pd.DataFrame({'A':[892, 623, 721, 678, 723, 790, 720, 670, 690, 771], 'C':[621, 915, 888, 721, 894, 834, 841, 912, 845, 889]})\n",
    "\n",
    "chi, pval,dof, expected = stats.chi2_contingency(df)\n",
    "\n",
    "print(\"chi-square test\")\n",
    "print('chisq : {0:0.3f}'.format(chi))\n",
    "print(\"p:{0:0.3f}\".format(pval))\n",
    "print(\"degree pf freedom:{0}\".format(dof))\n",
    "print(\"exepted value:\\n{}\".format(expected.round(3)))\n",
    "print()\n",
    "\n",
    "df = pd.DataFrame({'B':[721, 821, 910, 678, 723, 790, 711, 790, 745, 891], 'C':[621, 915, 888, 721, 894, 834, 841, 912, 845, 889]})\n",
    "\n",
    "chi, pval,dof, expected = stats.chi2_contingency(df)\n",
    "\n",
    "print(\"chi-square test\")\n",
    "print('chisq : {0:0.3f}'.format(chi))\n",
    "print(\"p:{0:0.3f}\".format(pval))\n",
    "print(\"degree pf freedom:{0}\".format(dof))\n",
    "print(\"exepted value:\\n{}\".format(expected.round(3)))\n",
    "print()"
   ]
  },
  {
   "cell_type": "code",
   "execution_count": 4,
   "id": "cooperative-reply",
   "metadata": {},
   "outputs": [
    {
     "name": "stdout",
     "output_type": "stream",
     "text": [
      "Correlation Analysis\n",
      "corr : 0.989\n",
      "pval : 0.000\n"
     ]
    }
   ],
   "source": [
    "df1 = [1,2,3,4,4,5,6,6,7,8]\n",
    "df2 = [23, 29, 49, 64, 74, 87, 96, 97, 109, 119]\n",
    "\n",
    "corr, pval = stats.pearsonr(df1, df2)\n",
    "\n",
    "print(\"Correlation Analysis\")\n",
    "print(\"corr : {0:0.3f}\".format(corr))\n",
    "print(\"pval : {0:0.3f}\".format(pval))"
   ]
  },
  {
   "cell_type": "markdown",
   "id": "de9bdeb2",
   "metadata": {},
   "source": [
    "### 문제풀이\n",
    "- #### 초코칩의 강도와 재료 반죽온도 간의 관계를 분석하기 위한 상관분석을 하세요. \n",
    "- #### 174page\n",
    "\n",
    "    1. 귀무가설 : 초코칩의 강도와 재료 반죽 온도간에 상관성이 있다.\n",
    "    2. 대립가설 : 초코칩의 강도와 재료 반죽 온도간에 상관성이 없다.\n",
    "    3. 유의수준 : 0.05\n",
    "    4. 상관분석 수행\n",
    "    5. 분석 결과 해석"
   ]
  },
  {
   "cell_type": "code",
   "execution_count": 8,
   "id": "featured-archive",
   "metadata": {},
   "outputs": [
    {
     "name": "stdout",
     "output_type": "stream",
     "text": [
      "Correlation Analysis\n",
      "corr : -0.723\n",
      "pval : 0.000\n"
     ]
    }
   ],
   "source": [
    "df1 = [37.6, 38.6, 37.2, 36.4, 38.6, 39, 37.2, 36.1, 35.9, 37.1, 36.9, 37.5, 36.3, 38.1, 39, 36.9, 36.8, 37.6, 33, 33.5]\n",
    "df2 = [14, 15, 14, 16, 17, 14, 17, 16, 15, 16, 14, 16, 18, 13, 15, 17, 14, 16, 20, 21]\n",
    "\n",
    "corr, pval = stats.pearsonr(df1, df2)\n",
    "\n",
    "print(\"Correlation Analysis\")\n",
    "print(\"corr : {0:0.3f}\".format(corr))\n",
    "print(\"pval : {0:0.3f}\".format(pval))"
   ]
  },
  {
   "cell_type": "markdown",
   "id": "f8827e2f",
   "metadata": {},
   "source": [
    "### 결과\n",
    "    1. p-value의 값이 유의수준인 0.05보다 작으므로, 귀무가설을 기각할 수 있다.\n",
    "    2. 해당 문제에서의 귀무가설은 초코칩의 강도와 재료 반죽 온도간에 상관성이 없다였으므로,\n",
    "       대립가설인 \"초코칩의 강도와 재료 반죽 온도간에 상관성이 있다\"를 채택할 수 있다.\n",
    "    3. 이때, Corr의 값이 -1에 가까운 값을 가지므로 초코칩의 강도와 재료 반죽 온도는 강한 상관성을 가진다고 할 수 있다.\n",
    "    4. 따라서 초코칩의 강도가 올라갈수록 재료 반죽 온도 또한 상승하는 것을 알 수 있다."
   ]
  },
  {
   "cell_type": "code",
   "execution_count": 45,
   "id": "requested-central",
   "metadata": {},
   "outputs": [
    {
     "data": {
      "text/html": [
       "<div>\n",
       "<style scoped>\n",
       "    .dataframe tbody tr th:only-of-type {\n",
       "        vertical-align: middle;\n",
       "    }\n",
       "\n",
       "    .dataframe tbody tr th {\n",
       "        vertical-align: top;\n",
       "    }\n",
       "\n",
       "    .dataframe thead th {\n",
       "        text-align: right;\n",
       "    }\n",
       "</style>\n",
       "<table border=\"1\" class=\"dataframe\">\n",
       "  <thead>\n",
       "    <tr style=\"text-align: right;\">\n",
       "      <th></th>\n",
       "      <th>UNITS</th>\n",
       "      <th>MINUTES</th>\n",
       "    </tr>\n",
       "  </thead>\n",
       "  <tbody>\n",
       "    <tr>\n",
       "      <th>0</th>\n",
       "      <td>1</td>\n",
       "      <td>23</td>\n",
       "    </tr>\n",
       "    <tr>\n",
       "      <th>1</th>\n",
       "      <td>2</td>\n",
       "      <td>29</td>\n",
       "    </tr>\n",
       "    <tr>\n",
       "      <th>2</th>\n",
       "      <td>3</td>\n",
       "      <td>49</td>\n",
       "    </tr>\n",
       "    <tr>\n",
       "      <th>3</th>\n",
       "      <td>4</td>\n",
       "      <td>64</td>\n",
       "    </tr>\n",
       "    <tr>\n",
       "      <th>4</th>\n",
       "      <td>4</td>\n",
       "      <td>74</td>\n",
       "    </tr>\n",
       "  </tbody>\n",
       "</table>\n",
       "</div>"
      ],
      "text/plain": [
       "   UNITS  MINUTES\n",
       "0      1       23\n",
       "1      2       29\n",
       "2      3       49\n",
       "3      4       64\n",
       "4      4       74"
      ]
     },
     "execution_count": 45,
     "metadata": {},
     "output_type": "execute_result"
    }
   ],
   "source": [
    "df_raw = pd.read_csv('./부품수리시간.csv')\n",
    "df_raw.head()"
   ]
  },
  {
   "cell_type": "code",
   "execution_count": 46,
   "id": "worldwide-personal",
   "metadata": {},
   "outputs": [
    {
     "data": {
      "text/html": [
       "<div>\n",
       "<style scoped>\n",
       "    .dataframe tbody tr th:only-of-type {\n",
       "        vertical-align: middle;\n",
       "    }\n",
       "\n",
       "    .dataframe tbody tr th {\n",
       "        vertical-align: top;\n",
       "    }\n",
       "\n",
       "    .dataframe thead th {\n",
       "        text-align: right;\n",
       "    }\n",
       "</style>\n",
       "<table border=\"1\" class=\"dataframe\">\n",
       "  <thead>\n",
       "    <tr style=\"text-align: right;\">\n",
       "      <th></th>\n",
       "      <th>UNITS</th>\n",
       "      <th>MINUTES</th>\n",
       "    </tr>\n",
       "  </thead>\n",
       "  <tbody>\n",
       "    <tr>\n",
       "      <th>count</th>\n",
       "      <td>14.000</td>\n",
       "      <td>14.000</td>\n",
       "    </tr>\n",
       "    <tr>\n",
       "      <th>mean</th>\n",
       "      <td>6.000</td>\n",
       "      <td>97.214</td>\n",
       "    </tr>\n",
       "    <tr>\n",
       "      <th>std</th>\n",
       "      <td>2.961</td>\n",
       "      <td>46.217</td>\n",
       "    </tr>\n",
       "    <tr>\n",
       "      <th>min</th>\n",
       "      <td>1.000</td>\n",
       "      <td>23.000</td>\n",
       "    </tr>\n",
       "    <tr>\n",
       "      <th>25%</th>\n",
       "      <td>4.000</td>\n",
       "      <td>66.500</td>\n",
       "    </tr>\n",
       "    <tr>\n",
       "      <th>50%</th>\n",
       "      <td>6.000</td>\n",
       "      <td>96.500</td>\n",
       "    </tr>\n",
       "    <tr>\n",
       "      <th>75%</th>\n",
       "      <td>8.750</td>\n",
       "      <td>138.500</td>\n",
       "    </tr>\n",
       "    <tr>\n",
       "      <th>max</th>\n",
       "      <td>10.000</td>\n",
       "      <td>166.000</td>\n",
       "    </tr>\n",
       "  </tbody>\n",
       "</table>\n",
       "</div>"
      ],
      "text/plain": [
       "        UNITS  MINUTES\n",
       "count  14.000   14.000\n",
       "mean    6.000   97.214\n",
       "std     2.961   46.217\n",
       "min     1.000   23.000\n",
       "25%     4.000   66.500\n",
       "50%     6.000   96.500\n",
       "75%     8.750  138.500\n",
       "max    10.000  166.000"
      ]
     },
     "execution_count": 46,
     "metadata": {},
     "output_type": "execute_result"
    }
   ],
   "source": [
    "df_raw.describe().round(3)"
   ]
  },
  {
   "cell_type": "code",
   "execution_count": 14,
   "id": "accurate-shame",
   "metadata": {},
   "outputs": [
    {
     "data": {
      "text/plain": [
       "<AxesSubplot:xlabel='UNITS', ylabel='MINUTES'>"
      ]
     },
     "execution_count": 14,
     "metadata": {},
     "output_type": "execute_result"
    },
    {
     "data": {
      "image/png": "[encoded data removed]",
      "text/plain": [
       "<Figure size 432x288 with 1 Axes>"
      ]
     },
     "metadata": {
      "needs_background": "light"
     },
     "output_type": "display_data"
    }
   ],
   "source": [
    "df_raw.plot.scatter(x = 'UNITS', y = \"MINUTES\")"
   ]
  },
  {
   "cell_type": "code",
   "execution_count": 17,
   "id": "bba955be",
   "metadata": {},
   "outputs": [
    {
     "data": {
      "text/html": [
       "<div>\n",
       "<style scoped>\n",
       "    .dataframe tbody tr th:only-of-type {\n",
       "        vertical-align: middle;\n",
       "    }\n",
       "\n",
       "    .dataframe tbody tr th {\n",
       "        vertical-align: top;\n",
       "    }\n",
       "\n",
       "    .dataframe thead th {\n",
       "        text-align: right;\n",
       "    }\n",
       "</style>\n",
       "<table border=\"1\" class=\"dataframe\">\n",
       "  <thead>\n",
       "    <tr style=\"text-align: right;\">\n",
       "      <th></th>\n",
       "      <th>UNITS</th>\n",
       "      <th>MINUTES</th>\n",
       "    </tr>\n",
       "  </thead>\n",
       "  <tbody>\n",
       "    <tr>\n",
       "      <th>UNITS</th>\n",
       "      <td>1.000</td>\n",
       "      <td>0.994</td>\n",
       "    </tr>\n",
       "    <tr>\n",
       "      <th>MINUTES</th>\n",
       "      <td>0.994</td>\n",
       "      <td>1.000</td>\n",
       "    </tr>\n",
       "  </tbody>\n",
       "</table>\n",
       "</div>"
      ],
      "text/plain": [
       "         UNITS  MINUTES\n",
       "UNITS    1.000    0.994\n",
       "MINUTES  0.994    1.000"
      ]
     },
     "execution_count": 17,
     "metadata": {},
     "output_type": "execute_result"
    }
   ],
   "source": [
    "df_raw.corr(method=\"pearson\").round(3)"
   ]
  },
  {
   "cell_type": "code",
   "execution_count": 26,
   "id": "6845a1a1",
   "metadata": {},
   "outputs": [
    {
     "name": "stdout",
     "output_type": "stream",
     "text": [
      "                            OLS Regression Results                            \n",
      "==============================================================================\n",
      "Dep. Variable:                MINUTES   R-squared:                       0.987\n",
      "Model:                            OLS   Adj. R-squared:                  0.986\n",
      "Method:                 Least Squares   F-statistic:                     943.2\n",
      "Date:                Wed, 27 Oct 2021   Prob (F-statistic):           8.92e-13\n",
      "Time:                        16:58:29   Log-Likelihood:                -42.374\n",
      "No. Observations:                  14   AIC:                             88.75\n",
      "Df Residuals:                      12   BIC:                             90.03\n",
      "Df Model:                           1                                         \n",
      "Covariance Type:            nonrobust                                         \n",
      "==============================================================================\n",
      "                 coef    std err          t      P>|t|      [0.025      0.975]\n",
      "------------------------------------------------------------------------------\n",
      "Intercept      4.1617      3.355      1.240      0.239      -3.148      11.472\n",
      "UNITS         15.5088      0.505     30.712      0.000      14.409      16.609\n",
      "==============================================================================\n",
      "Omnibus:                        0.746   Durbin-Watson:                   2.051\n",
      "Prob(Omnibus):                  0.689   Jarque-Bera (JB):                0.624\n",
      "Skew:                          -0.069   Prob(JB):                        0.732\n",
      "Kurtosis:                       1.975   Cond. No.                         15.8\n",
      "==============================================================================\n",
      "\n",
      "Notes:\n",
      "[1] Standard Errors assume that the covariance matrix of the errors is correctly specified.\n"
     ]
    },
    {
     "name": "stderr",
     "output_type": "stream",
     "text": [
      "/home/piai/anaconda3/lib/python3.8/site-packages/scipy/stats/stats.py:1603: UserWarning: kurtosistest only valid for n>=20 ... continuing anyway, n=14\n",
      "  warnings.warn(\"kurtosistest only valid for n>=20 ... continuing \"\n"
     ]
    }
   ],
   "source": [
    "reg_model = smf.ols(formula=\"MINUTES ~ UNITS\", data = df_raw)\n",
    "reg_result = reg_model.fit()\n",
    "print(reg_result.summary())"
   ]
  },
  {
   "cell_type": "code",
   "execution_count": 38,
   "id": "660f18b9",
   "metadata": {},
   "outputs": [
    {
     "data": {
      "text/plain": [
       "<matplotlib.lines.Line2D at 0x7f1d3a06c0d0>"
      ]
     },
     "execution_count": 38,
     "metadata": {},
     "output_type": "execute_result"
    },
    {
     "data": {
      "image/png": "[encoded data removed]",
      "text/plain": [
       "<Figure size 432x288 with 1 Axes>"
      ]
     },
     "metadata": {
      "needs_background": "light"
     },
     "output_type": "display_data"
    }
   ],
   "source": [
    "plt.scatter(reg_result.fittedvalues, reg_result.rexsid)\n",
    "plt.xlabel(\"fitted value\"); plt.ylabel(\"residual\")\n",
    "plt.axhline(y=0, linestyle=\"--\")\n",
    "plt.plot(df_raw['UNITS'], reg_result.resid, marker=\"o\")\n",
    "plt.xlabel(\"Data\")\n",
    "plt.ylabel(\"residual\")\n",
    "plt.axhline(y=0, linestyle='-')\n",
    "plt.axhline(y=3*np.std(reg_result.resid), linestyle='--')\n",
    "plt.axhline(y=-3*np.std(reg_result.resid), linestyle='--')"
   ]
  },
  {
   "cell_type": "code",
   "execution_count": 41,
   "id": "85b3839c",
   "metadata": {},
   "outputs": [
    {
     "data": {
      "image/png": "[encoded data removed]",
      "text/plain": [
       "<Figure size 432x288 with 1 Axes>"
      ]
     },
     "execution_count": 41,
     "metadata": {},
     "output_type": "execute_result"
    },
    {
     "data": {
      "image/png": "[encoded data removed]",
      "text/plain": [
       "<Figure size 432x288 with 1 Axes>"
      ]
     },
     "metadata": {
      "needs_background": "light"
     },
     "output_type": "display_data"
    }
   ],
   "source": [
    "qqplot(reg_result.resid,line='q')"
   ]
  },
  {
   "cell_type": "code",
   "execution_count": 44,
   "id": "f46f922d",
   "metadata": {},
   "outputs": [
    {
     "data": {
      "text/plain": [
       "NormaltestResult(statistic=0.7464482182734603, pvalue=0.6885109139659082)"
      ]
     },
     "execution_count": 44,
     "metadata": {},
     "output_type": "execute_result"
    }
   ],
   "source": [
    "omni_normtest(reg_result.resid, axis=0)"
   ]
  }
 ],
 "metadata": {
  "kernelspec": {
   "display_name": "Python 3",
   "language": "python",
   "name": "python3"
  },
  "language_info": {
   "codemirror_mode": {
    "name": "ipython",
    "version": 3
   },
   "file_extension": ".py",
   "mimetype": "text/x-python",
   "name": "python",
   "nbconvert_exporter": "python",
   "pygments_lexer": "ipython3",
   "version": "3.8.8"
  }
 },
 "nbformat": 4,
 "nbformat_minor": 5
}
